{
 "cells": [
  {
   "cell_type": "code",
   "execution_count": null,
   "metadata": {
    "cell_id": "d60302426a314c258a80b9e041c0b25f",
    "deepnote_cell_height": 331.3125,
    "deepnote_cell_type": "code",
    "deepnote_to_be_reexecuted": false,
    "execution_millis": 8928,
    "execution_start": 1652264066053,
    "source_hash": "1c368ebf"
   },
   "outputs": [
    {
     "name": "stdout",
     "output_type": "stream",
     "text": [
      "Requirement already satisfied: scikit-surprise in /root/venv/lib/python3.7/site-packages (1.1.1)\n",
      "Requirement already satisfied: six>=1.10.0 in /shared-libs/python3.7/py-core/lib/python3.7/site-packages (from scikit-surprise) (1.16.0)\n",
      "Requirement already satisfied: joblib>=0.11 in /shared-libs/python3.7/py/lib/python3.7/site-packages (from scikit-surprise) (1.1.0)\n",
      "Requirement already satisfied: numpy>=1.11.2 in /shared-libs/python3.7/py/lib/python3.7/site-packages (from scikit-surprise) (1.21.6)\n",
      "Requirement already satisfied: scipy>=1.0.0 in /shared-libs/python3.7/py/lib/python3.7/site-packages (from scikit-surprise) (1.7.3)\n",
      "\u001b[33mWARNING: You are using pip version 20.1.1; however, version 22.0.4 is available.\n",
      "You should consider upgrading via the '/root/venv/bin/python -m pip install --upgrade pip' command.\u001b[0m\n",
      "Requirement already satisfied: fuzzywuzzy in /root/venv/lib/python3.7/site-packages (0.18.0)\n",
      "\u001b[33mWARNING: You are using pip version 20.1.1; however, version 22.0.4 is available.\n",
      "You should consider upgrading via the '/root/venv/bin/python -m pip install --upgrade pip' command.\u001b[0m\n"
     ]
    }
   ],
   "source": [
    "#these modules will be used in this project\n",
    "!pip install scikit-surprise\n",
    "!pip3 install fuzzywuzzy"
   ]
  },
  {
   "cell_type": "code",
   "execution_count": null,
   "metadata": {
    "cell_id": "2636b11aa15a4f3492856a0b13274ffa",
    "deepnote_cell_height": 423,
    "deepnote_cell_type": "code",
    "deepnote_to_be_reexecuted": false,
    "execution_millis": 4,
    "execution_start": 1652264074991,
    "source_hash": "15713a31"
   },
   "outputs": [],
   "source": [
    "#importing the important libraries\n",
    "import warnings\n",
    "warnings.filterwarnings('ignore')\n",
    "import pandas as pd\n",
    "import numpy as np\n",
    "#we are using the fuzzywuzzy to search for movie name in dataframe\n",
    "from fuzzywuzzy import process\n",
    "from sklearn.metrics.pairwise import cosine_similarity\n",
    "\n",
    "from sklearn.feature_extraction.text import TfidfVectorizer,CountVectorizer\n",
    "\n",
    "''' Surprise is a python scikit for collaborative filtering recommendation systems. \n",
    "It contains various buildin algorithms that we can use to train,predict and evaluate the performance of recommendation systems\n",
    "the KNNBasic algorithm is derived from nearest neighbors which we are going to use in our project to make recommendations\n",
    "'''\n",
    "from surprise import Dataset,Reader\n",
    "from surprise import KNNBasic\n",
    "from surprise import accuracy\n",
    "from surprise.model_selection import train_test_split\n",
    "from surprise import KNNBasic"
   ]
  },
  {
   "cell_type": "code",
   "execution_count": null,
   "metadata": {
    "cell_id": "fb1c21c75e8343f6930152c3613b34a6",
    "deepnote_cell_height": 333,
    "deepnote_cell_type": "code",
    "deepnote_to_be_reexecuted": false,
    "execution_millis": 26,
    "execution_start": 1652264083224,
    "source_hash": "99b4e0f9"
   },
   "outputs": [],
   "source": [
    "#Reading the csv file\n",
    "df= pd.read_csv(\"data.txt\")\n",
    "\n",
    "#dataframe processing\n",
    "\n",
    "#dropping nan values\n",
    "df = df.dropna()   \n",
    "\n",
    "#dropping index 0\n",
    "df.pop(df.columns[0])\n",
    "\n",
    "\n"
   ]
  },
  {
   "cell_type": "code",
   "execution_count": null,
   "metadata": {
    "cell_id": "c317f667bc1f4d209779b3c0c509065b",
    "deepnote_cell_height": 891,
    "deepnote_cell_type": "code",
    "deepnote_to_be_reexecuted": false,
    "execution_millis": 54,
    "execution_start": 1652264115652,
    "source_hash": "48ecab66"
   },
   "outputs": [],
   "source": [
    "#cleaned_df will contain the columns necassary to train the KNN model\n",
    "cleaned_df = pd.DataFrame(my_array, columns = ['user_id','program_desc','rating'])\n",
    "cleaned_df.reset_index(drop=True, inplace=True)\n"
   ]
  },
  {
   "cell_type": "code",
   "execution_count": null,
   "metadata": {
    "cell_id": "da84b2434f1440ab9e85fa7a78495ff9",
    "deepnote_cell_height": 909,
    "deepnote_cell_type": "code",
    "deepnote_to_be_reexecuted": false,
    "execution_millis": 1,
    "execution_start": 1652264120773,
    "source_hash": "ce6795f1"
   },
   "outputs": [],
   "source": [
    "#This function is used to make recommendations based on content of the data, this function will be executes if knn recommendation returns error or empty list\n",
    "def content_based_filtering(movie_name,df):\n",
    "    #preprocessing import columns\n",
    "    #try:\n",
    "        #processing dataframe\n",
    "    \n",
    "        # Delete duplicate rows based on specific columns \n",
    "    df = df.drop_duplicates(subset=[\"overview\"], keep=False)\n",
    "        \n",
    "        #reseting index\n",
    "    df.reset_index(drop=True, inplace=True)\n",
    "    df['index'] = df.reset_index().index\n",
    "        \n",
    "        #selecting important_features\n",
    "    selected_features=['program_class','overview','program_genre','original_name']\n",
    "    for feature in selected_features:\n",
    "        df[feature]=df[feature].fillna('')\n",
    "\n",
    "                #combining all features\n",
    "    combined_features= df['program_genre']+' '+df['overview']+' '+df['program_class']+' '+df['original_name']\n",
    "\n",
    "                #converting the combined features into numeric values\n",
    "    vectorizer=TfidfVectorizer()\n",
    "    feature_vectors=vectorizer.fit_transform(combined_features)\n",
    "\n",
    "                #Cosine Similarity\n",
    "    similarity=cosine_similarity(feature_vectors)\n",
    "\n",
    "    index_of_the_movie=process.extractOne(movie_name,df['overview'])[2]\n",
    "\n",
    "        #getting list of similar movies\n",
    "    similarity_score=list(enumerate(similarity[index_of_the_movie]))\n",
    "\n",
    "    sorted_similar_movies=sorted(similarity_score,key=lambda x:x[1],reverse=True)\n",
    "\n",
    "    print(\"Recommended movies for {}\".format(movie_name))\n",
    "    i=0\n",
    "    for movie in sorted_similar_movies:\n",
    "        index=movie[0]\n",
    "        title_from_index=df[df.index==index]['overview'].values[0]\n",
    "        if i<6:\n",
    "            print(i,' ',title_from_index)\n",
    "            i+=1\n",
    "        else:\n",
    "            break\n",
    "    #except:\n",
    "     #   print('Movie not Found')"
   ]
  },
  {
   "cell_type": "code",
   "execution_count": null,
   "metadata": {
    "cell_id": "f8800ea774e647cba6037c17c6f53707",
    "deepnote_cell_height": 261,
    "deepnote_cell_type": "code",
    "deepnote_to_be_reexecuted": false,
    "execution_millis": 11,
    "execution_start": 1652264125116,
    "source_hash": "77e55e58"
   },
   "outputs": [],
   "source": [
    "'''Steps for training the KNNBasic algorithm '''\n",
    "#To read data for modeling, we will follow several steps\n",
    "\n",
    "#Initializing a Reader scale so that surprise can use it.In rating_scale, we set a range so that model doesn't predict a value above or below this range\n",
    "reader=Reader(rating_scale=(1,5))\n",
    "\n",
    "#the load_from_df allows to load the data through dataframe taking in account reader as well\n",
    "data=Dataset.load_from_df(cleaned_df[['user_id','program_desc','rating']],reader)\n",
    "\n",
    "#Splitting data into training and testing datasets\n",
    "trainset,testset=train_test_split(data,test_size=0.30)"
   ]
  },
  {
   "cell_type": "code",
   "execution_count": null,
   "metadata": {
    "cell_id": "d02b529e26e14c02976c7d9dda8e3b38",
    "deepnote_cell_height": 171,
    "deepnote_cell_type": "code",
    "deepnote_to_be_reexecuted": false,
    "execution_millis": 1,
    "execution_start": 1652260002547,
    "source_hash": "ac07b013"
   },
   "outputs": [],
   "source": [
    "def evaluate_performance(knn,testset):\n",
    "    #making predictions on testing dataset to measure performance\n",
    "    predictions=knn.test(testset)\n",
    "    #evaluating the performance\n",
    "    accuracy.rmse(predictions)\n",
    "    accuracy.mae(predictions)"
   ]
  },
  {
   "cell_type": "code",
   "execution_count": null,
   "metadata": {
    "cell_id": "d0b92c2a48b348e3967f8eedf8824c52",
    "deepnote_cell_height": 345.90625,
    "deepnote_cell_type": "code",
    "deepnote_output_heights": [
     null,
     21.1875
    ],
    "deepnote_to_be_reexecuted": false,
    "execution_millis": 35,
    "execution_start": 1652264129518,
    "source_hash": "9e268e90"
   },
   "outputs": [
    {
     "name": "stdout",
     "output_type": "stream",
     "text": [
      "Computing the cosine similarity matrix...\n",
      "Done computing similarity matrix.\n"
     ]
    },
    {
     "data": {
      "text/plain": [
       "<surprise.prediction_algorithms.knns.KNNBasic at 0x7f164a1cb390>"
      ]
     },
     "execution_count": 63,
     "metadata": {},
     "output_type": "execute_result"
    }
   ],
   "source": [
    "#The KNNBasic algorithm takes a dictionary as a parameter in which we define name of similarity to use and option to compute knn based on user or item \n",
    "sim_options = {'name': 'cosine',\n",
    "                   'user_based': True,  # compute  similarities between users rating to make recommendations\n",
    "                   'min_support':1}\n",
    "\n",
    " #initializing the estimater\n",
    "knn = KNNBasic(k=5,sim_options=sim_options)\n",
    "\n",
    "#training the model\n",
    "knn.fit(trainset)"
   ]
  },
  {
   "cell_type": "code",
   "execution_count": null,
   "metadata": {
    "cell_id": "5ff4e4bfa6304daaafc3c3d58600fd3e",
    "deepnote_cell_height": 1197,
    "deepnote_cell_type": "code",
    "deepnote_to_be_reexecuted": false,
    "execution_millis": 2,
    "execution_start": 1652264132090,
    "source_hash": "fb42cf21"
   },
   "outputs": [],
   "source": [
    "def knn_recommendation(movie_name,n,knn,trainset):\n",
    "    #the extractOne method will find the best match of movie name in dataframe and it will return its index\n",
    "    query_index=process.extractOne(movie_name,cleaned_df['program_desc'])[2]\n",
    "\n",
    "    #storing the index data into x dataframe\n",
    "    x=cleaned_df.iloc[[query_index]]\n",
    "    #To extract the user id from dataframe , we will convert to into list and store id in uid variable\n",
    "    L=x.to_numpy().tolist()\n",
    "    \n",
    "    #user_id is on 0th index of the list\n",
    "    uid=L[0][0]\n",
    "    \n",
    "    '''# When using Surprise, there are RAW and INNER IDs.Raw IDs are the IDs, strings or numbers, you use when creating the trainset. \n",
    "        The raw ID will be converted to an unique integer Surprise can more easily manipulate for computations.\n",
    "        So in order to find an user inside the trainset, you need to convert their RAW ID to the INNER Id'''\n",
    "    test_subject_iid = trainset.to_inner_uid(uid)\n",
    "    #we will pass the iid to get_neighbors function to get neighbors of that particular user, this function will return the list of iid that are similar to that particular user\n",
    "    iids_list=knn.get_neighbors(test_subject_iid,n)\n",
    "    \n",
    "    #after getting iid list, we will convert it back into raw ids to get the movie names from dataframe by searching that id\n",
    "    raw_ids=[]\n",
    "    for ids in iids_list:\n",
    "        \n",
    "        #converting iid back to raw_id to find movie names based on that user_id\n",
    "        raw_ids.append(trainset.to_raw_uid(ids))\n",
    "    #creating a empty list to append recommended movies\n",
    "    Recommended_movies=[]\n",
    "    #creating a temprory list to store movies watched by similar users and the rating, we will recommend movies based on the rating of that movie.\n",
    "    movies_list=[]\n",
    "   \n",
    "    \n",
    "    #iterating through each userid in raw_ids list\n",
    "    for user_id in raw_ids:\n",
    "        #retreiving all the movies watched by that user and storing it in dataframe X\n",
    "        X=cleaned_df.loc[cleaned_df['user_id'] == user_id]\n",
    "        \n",
    "        #converting it into list to access elements easily\n",
    "        List=X.to_numpy().tolist()\n",
    "        \n",
    "        #iterating through the list of movies used by particular id and storing the movie name and rating in nested list movie_list\n",
    "        for i in range(0,len(List)):\n",
    "            movies_list.append([List[i][1],List[i][2]])\n",
    "       \n",
    "\n",
    "    #after iterating through all the user_ids, we will sort the movie_list based on the rating in descending order\n",
    "    movies_list.sort(key=lambda x: x[1],reverse=True)\n",
    "    \n",
    "    \n",
    "    #we will append top recommended movies in list\n",
    "    for i in range(0,len(movies_list)):\n",
    "        #if movie name exists we will pass else append\n",
    "        if movies_list[i][0] in Recommended_movies:\n",
    "            pass\n",
    "        else:\n",
    "            Recommended_movies.append(movies_list[i][0])\n",
    "    #printing the n top rated movies \n",
    "    print(\"Recommendations for {}\".format(movie_name))\n",
    "    for i in range(0,n):\n",
    "        print(Recommended_movies[i])\n",
    "        \n",
    "\n",
    "\n",
    "    "
   ]
  },
  {
   "cell_type": "code",
   "execution_count": null,
   "metadata": {
    "cell_id": "19dddf036ef042e4890724f9a5a6002c",
    "deepnote_cell_height": 153,
    "deepnote_cell_type": "code",
    "deepnote_to_be_reexecuted": false,
    "execution_millis": 1,
    "execution_start": 1652264137416,
    "source_hash": "c55cbbd4"
   },
   "outputs": [],
   "source": [
    "def search_movies(movie_name,knn,testset,trainset,df,n):\n",
    "    try:\n",
    "        knn_recommendation(movie_name,n,knn,trainset)\n",
    "    except:\n",
    "        content_based_filtering(movie_name,df)      "
   ]
  },
  {
   "cell_type": "code",
   "execution_count": null,
   "metadata": {
    "cell_id": "f926c9fc2f444e99b182e1d7ecf90916",
    "deepnote_cell_height": 329,
    "deepnote_cell_type": "code",
    "deepnote_to_be_reexecuted": false,
    "execution_millis": 4608,
    "execution_start": 1652264139781,
    "source_hash": "9c317a2b"
   },
   "outputs": [
    {
     "name": "stdout",
     "output_type": "stream",
     "text": [
      "Recommendations for Horro\n",
      "Inside (Horror-MOVIE)\n",
      "The Man with the Iron Heart (Action-MOVIE)\n",
      "Game of Aces (Action-MOVIE)\n",
      "A Very British Gangster (Documentary-MOVIE)\n",
      "Haqq Mayyet,Season 1,Episode 10 (Drama-SERIES/EPISODES)\n",
      "Philomena (Drama-MOVIE)\n",
      "Going in tyle (Comedy-MOVIE)\n",
      "Spider-Man (Action-MOVIE)\n",
      "Surf's Up : WaveMania (Animation-MOVIE)\n",
      "Storks (Animation-MOVIE)\n"
     ]
    }
   ],
   "source": [
    "movie_name=input(\"Search Movie: \")\n",
    "search_movies(movie_name,knn,testset,trainset,df,10)"
   ]
  },
  {
   "cell_type": "code",
   "execution_count": null,
   "metadata": {
    "cell_id": "a6b450bb71b44ff5af6b23ac6cc04dd8",
    "deepnote_cell_height": 149.71875,
    "deepnote_cell_type": "code",
    "deepnote_to_be_reexecuted": false,
    "execution_millis": 5,
    "execution_start": 1652264150349,
    "source_hash": "63192fc7",
    "tags": []
   },
   "outputs": [
    {
     "name": "stdout",
     "output_type": "stream",
     "text": [
      "RMSE: 1.6745\n",
      "MAE:  1.5473\n"
     ]
    }
   ],
   "source": [
    "#evaluating model performance\n",
    "evaluate_performance(knn,testset)"
   ]
  },
  {
   "cell_type": "code",
   "execution_count": null,
   "metadata": {
    "cell_id": "d02458f9a8af4d319df5ee89b879f129",
    "deepnote_cell_height": 231.046875,
    "deepnote_cell_type": "code",
    "deepnote_to_be_reexecuted": false,
    "execution_millis": 198,
    "execution_start": 1652264152944,
    "owner_user_id": "a36f74af-40a8-4cb6-a865-1246fd480454",
    "source_hash": "cc5aa293",
    "tags": []
   },
   "outputs": [
    {
     "name": "stdout",
     "output_type": "stream",
     "text": [
      "Recommended movies for Horro\n",
      "0   Transfiguration (Horror-MOVIE)\n",
      "1   American Horror tory,Season 4,Episode 7 (Horror-SERIES/EPISODES)\n",
      "2   American Horror tory,Season 6,Episode 1 (Horror-SERIES/EPISODES)\n",
      "3   Havenhurst (Horror-MOVIE)\n",
      "4   Cloverfield (Horror-MOVIE)\n",
      "5   Quarantine (Horror-MOVIE)\n"
     ]
    }
   ],
   "source": [
    "content_based_filtering(movie_name,df)"
   ]
  },
  {
   "cell_type": "markdown",
   "metadata": {
    "created_in_deepnote_cell": true,
    "deepnote_cell_type": "markdown",
    "tags": []
   },
   "source": [
    "<a style='text-decoration:none;line-height:16px;display:flex;color:#5B5B62;padding:10px;justify-content:end;' href='https://deepnote.com?utm_source=created-in-deepnote-cell&projectId=b8ae239b-d5a4-407a-84d7-0b22a7159a1d' target=\"_blank\">\n",
    "<img alt='Created in deepnote.com' style='display:inline;max-height:16px;margin:0px;margin-right:7.5px;' src='data:image/svg+xml;base64,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' > </img>\n",
    "Created in <span style='font-weight:600;margin-left:4px;'>Deepnote</span></a>"
   ]
  }
 ],
 "metadata": {
  "deepnote": {},
  "deepnote_execution_queue": [],
  "deepnote_notebook_id": "195b79f4d98d40938b270fc81cf20905",
  "kernelspec": {
   "display_name": "Python 3 (ipykernel)",
   "language": "python",
   "name": "python3"
  },
  "language_info": {
   "codemirror_mode": {
    "name": "ipython",
    "version": 3
   },
   "file_extension": ".py",
   "mimetype": "text/x-python",
   "name": "python",
   "nbconvert_exporter": "python",
   "pygments_lexer": "ipython3",
   "version": "3.9.13"
  }
 },
 "nbformat": 4,
 "nbformat_minor": 1
}
