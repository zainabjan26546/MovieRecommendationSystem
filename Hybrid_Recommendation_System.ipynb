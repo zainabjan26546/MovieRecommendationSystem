{
 "cells": [
  {
   "cell_type": "code",
   "execution_count": 1,
   "id": "dde075b6",
   "metadata": {
    "cell_id": "81d1c94c-ab20-4117-9f18-fc758aec3399",
    "deepnote_cell_height": 251.84375,
    "deepnote_cell_type": "code",
    "deepnote_to_be_reexecuted": false,
    "execution_millis": 4589,
    "execution_start": 1651773165334,
    "source_hash": "7c404c20"
   },
   "outputs": [
    {
     "name": "stdout",
     "output_type": "stream",
     "text": [
      "Collecting fuzzywuzzy\n",
      "  Downloading fuzzywuzzy-0.18.0-py2.py3-none-any.whl (18 kB)\n",
      "Installing collected packages: fuzzywuzzy\n",
      "Successfully installed fuzzywuzzy-0.18.0\n",
      "\u001b[33mWARNING: You are using pip version 20.1.1; however, version 22.0.4 is available.\n",
      "You should consider upgrading via the '/root/venv/bin/python -m pip install --upgrade pip' command.\u001b[0m\n"
     ]
    }
   ],
   "source": [
    "#please run these commands for first time and comment them out\n",
    "!pip3 install fuzzywuzzy\n"
   ]
  },
  {
   "cell_type": "code",
   "execution_count": 2,
   "id": "50b71443",
   "metadata": {
    "cell_id": "00001-58a6b229-b088-457a-8808-d06864486c67",
    "deepnote_cell_height": 189,
    "deepnote_cell_type": "code",
    "deepnote_to_be_reexecuted": false,
    "execution_millis": 693,
    "execution_start": 1651773176663,
    "scrolled": true,
    "source_hash": "d6428c46"
   },
   "outputs": [],
   "source": [
    "import warnings\n",
    "warnings.filterwarnings('ignore')\n",
    "import pandas as pd\n",
    "import numpy as np\n",
    "from fuzzywuzzy import process\n",
    "from sklearn.feature_extraction.text import TfidfVectorizer,CountVectorizer\n",
    "from sklearn.metrics.pairwise import cosine_similarity"
   ]
  },
  {
   "cell_type": "code",
   "execution_count": 3,
   "id": "df5e596a",
   "metadata": {
    "cell_id": "00002-d3cb788d-7bfe-41e3-b163-9bb0675f048e",
    "deepnote_cell_height": 117,
    "deepnote_cell_type": "code",
    "deepnote_to_be_reexecuted": false,
    "execution_millis": 28,
    "execution_start": 1651773192063,
    "source_hash": "5544a376"
   },
   "outputs": [],
   "source": [
    "#Reading the csv file\n",
    "df= pd.read_csv(\"data.txt\")\n"
   ]
  },
  {
   "cell_type": "code",
   "execution_count": 4,
   "id": "d6f901d5",
   "metadata": {
    "cell_id": "00003-bbb5496d-6985-4832-8cc3-e4148f7b87ad",
    "deepnote_cell_height": 243,
    "deepnote_cell_type": "code",
    "deepnote_to_be_reexecuted": false,
    "execution_millis": 16,
    "execution_start": 1651773200392,
    "source_hash": "5b7d3eda"
   },
   "outputs": [],
   "source": [
    "#dataframe processing\n",
    "\n",
    "#dropping nan values\n",
    "df = df.dropna()   \n",
    "\n",
    "#dropping index 0\n",
    "df.pop(df.columns[0])\n"
   ]
  },
  {
   "cell_type": "code",
   "execution_count": 19,
   "id": "5c7b343d",
   "metadata": {
    "cell_id": "00017-a54d73c6-62b9-4f2b-b918-fbbcc17ae50c",
    "deepnote_cell_height": 724.65625,
    "deepnote_cell_type": "code",
    "deepnote_output_heights": [
     411.1875
    ],
    "deepnote_to_be_reexecuted": false,
    "execution_millis": 951,
    "execution_start": 1651773330020,
    "scrolled": true,
    "source_hash": "c5fa3cf7"
   },
   "outputs": [
    {
     "data": {
      "application/vnd.deepnote.dataframe.v3+json": {
       "column_count": 625,
       "columns": [
        {
         "dtype": "object",
         "name": "10053",
         "stats": {
          "categories": [
           {
            "count": 610,
            "name": "0"
           },
           {
            "count": 1,
            "name": "1.0"
           },
           {
            "count": 1,
            "name": "5.0"
           }
          ],
          "nan_count": 0,
          "unique_count": 3
         }
        },
        {
         "dtype": "object",
         "name": "10154",
         "stats": {
          "categories": [
           {
            "count": 608,
            "name": "0"
           },
           {
            "count": 4,
            "name": "5.0"
           }
          ],
          "nan_count": 0,
          "unique_count": 2
         }
        },
        {
         "dtype": "object",
         "name": "10234",
         "stats": {
          "categories": [
           {
            "count": 608,
            "name": "0"
           },
           {
            "count": 4,
            "name": "5.0"
           }
          ],
          "nan_count": 0,
          "unique_count": 2
         }
        },
        {
         "dtype": "object",
         "name": "10257",
         "stats": {
          "categories": [
           {
            "count": 610,
            "name": "0"
           },
           {
            "count": 2,
            "name": "3.0"
           }
          ],
          "nan_count": 0,
          "unique_count": 2
         }
        },
        {
         "dtype": "object",
         "name": "10316",
         "stats": {
          "categories": [
           {
            "count": 611,
            "name": "0"
           },
           {
            "count": 1,
            "name": "1.0"
           }
          ],
          "nan_count": 0,
          "unique_count": 2
         }
        },
        {
         "dtype": "object",
         "name": "10335",
         "stats": {
          "categories": [
           {
            "count": 611,
            "name": "0"
           },
           {
            "count": 1,
            "name": "5.0"
           }
          ],
          "nan_count": 0,
          "unique_count": 2
         }
        },
        {
         "dtype": "object",
         "name": "1035",
         "stats": {
          "categories": [
           {
            "count": 608,
            "name": "0"
           },
           {
            "count": 2,
            "name": "3.0"
           },
           {
            "count": 2,
            "name": "2 others"
           }
          ],
          "nan_count": 0,
          "unique_count": 4
         }
        },
        {
         "dtype": "object",
         "name": "10438",
         "stats": {
          "categories": [
           {
            "count": 610,
            "name": "0"
           },
           {
            "count": 2,
            "name": "1.0"
           }
          ],
          "nan_count": 0,
          "unique_count": 2
         }
        },
        {
         "dtype": "object",
         "name": "10461",
         "stats": {
          "categories": [
           {
            "count": 610,
            "name": "0"
           },
           {
            "count": 2,
            "name": "1.0"
           }
          ],
          "nan_count": 0,
          "unique_count": 2
         }
        },
        {
         "dtype": "object",
         "name": "10522",
         "stats": {
          "categories": [
           {
            "count": 610,
            "name": "0"
           },
           {
            "count": 2,
            "name": "5.0"
           }
          ],
          "nan_count": 0,
          "unique_count": 2
         }
        },
        {
         "dtype": "object",
         "name": "10621",
         "stats": {
          "categories": [
           {
            "count": 611,
            "name": "0"
           },
           {
            "count": 1,
            "name": "1.0"
           }
          ],
          "nan_count": 0,
          "unique_count": 2
         }
        },
        {
         "dtype": "object",
         "name": "10684",
         "stats": {
          "categories": [
           {
            "count": 611,
            "name": "0"
           },
           {
            "count": 1,
            "name": "4.0"
           }
          ],
          "nan_count": 0,
          "unique_count": 2
         }
        },
        {
         "dtype": "object",
         "name": "1077",
         "stats": {
          "categories": [
           {
            "count": 611,
            "name": "0"
           },
           {
            "count": 1,
            "name": "1.0"
           }
          ],
          "nan_count": 0,
          "unique_count": 2
         }
        },
        {
         "dtype": "object",
         "name": "10783",
         "stats": {
          "categories": [
           {
            "count": 609,
            "name": "0"
           },
           {
            "count": 2,
            "name": "1.0"
           },
           {
            "count": 1,
            "name": "3.0"
           }
          ],
          "nan_count": 0,
          "unique_count": 3
         }
        },
        {
         "dtype": "object",
         "name": "10787",
         "stats": {
          "categories": [
           {
            "count": 610,
            "name": "0"
           },
           {
            "count": 2,
            "name": "5.0"
           }
          ],
          "nan_count": 0,
          "unique_count": 2
         }
        },
        {
         "dtype": "object",
         "name": "10827",
         "stats": {
          "categories": [
           {
            "count": 609,
            "name": "0"
           },
           {
            "count": 2,
            "name": "5.0"
           },
           {
            "count": 1,
            "name": "1.0"
           }
          ],
          "nan_count": 0,
          "unique_count": 3
         }
        },
        {
         "dtype": "object",
         "name": "10865",
         "stats": {
          "categories": [
           {
            "count": 608,
            "name": "0"
           },
           {
            "count": 4,
            "name": "5.0"
           }
          ],
          "nan_count": 0,
          "unique_count": 2
         }
        },
        {
         "dtype": "object",
         "name": "10905",
         "stats": {
          "categories": [
           {
            "count": 609,
            "name": "0"
           },
           {
            "count": 3,
            "name": "5.0"
           }
          ],
          "nan_count": 0,
          "unique_count": 2
         }
        },
        {
         "dtype": "object",
         "name": "10909",
         "stats": {
          "categories": [
           {
            "count": 611,
            "name": "0"
           },
           {
            "count": 1,
            "name": "4.0"
           }
          ],
          "nan_count": 0,
          "unique_count": 2
         }
        },
        {
         "dtype": "object",
         "name": "10926",
         "stats": {
          "categories": [
           {
            "count": 608,
            "name": "0"
           },
           {
            "count": 4,
            "name": "5.0"
           }
          ],
          "nan_count": 0,
          "unique_count": 2
         }
        },
        {
         "dtype": "object",
         "name": "10930",
         "stats": {
          "categories": [
           {
            "count": 609,
            "name": "0"
           },
           {
            "count": 2,
            "name": "5.0"
           },
           {
            "count": 1,
            "name": "3.0"
           }
          ],
          "nan_count": 0,
          "unique_count": 3
         }
        },
        {
         "dtype": "object",
         "name": "1100",
         "stats": {
          "categories": [
           {
            "count": 611,
            "name": "0"
           },
           {
            "count": 1,
            "name": "1.0"
           }
          ],
          "nan_count": 0,
          "unique_count": 2
         }
        },
        {
         "dtype": "object",
         "name": "11027",
         "stats": {
          "categories": [
           {
            "count": 611,
            "name": "0"
           },
           {
            "count": 1,
            "name": "1.0"
           }
          ],
          "nan_count": 0,
          "unique_count": 2
         }
        },
        {
         "dtype": "object",
         "name": "11090",
         "stats": {
          "categories": [
           {
            "count": 608,
            "name": "0"
           },
           {
            "count": 4,
            "name": "5.0"
           }
          ],
          "nan_count": 0,
          "unique_count": 2
         }
        },
        {
         "dtype": "object",
         "name": "11092",
         "stats": {
          "categories": [
           {
            "count": 610,
            "name": "0"
           },
           {
            "count": 2,
            "name": "5.0"
           }
          ],
          "nan_count": 0,
          "unique_count": 2
         }
        },
        {
         "dtype": "object",
         "name": "11113",
         "stats": {
          "categories": [
           {
            "count": 609,
            "name": "0"
           },
           {
            "count": 2,
            "name": "1.0"
           },
           {
            "count": 1,
            "name": "5.0"
           }
          ],
          "nan_count": 0,
          "unique_count": 3
         }
        },
        {
         "dtype": "object",
         "name": "11273",
         "stats": {
          "categories": [
           {
            "count": 611,
            "name": "0"
           },
           {
            "count": 1,
            "name": "1.0"
           }
          ],
          "nan_count": 0,
          "unique_count": 2
         }
        },
        {
         "dtype": "object",
         "name": "11317",
         "stats": {
          "categories": [
           {
            "count": 611,
            "name": "0"
           },
           {
            "count": 1,
            "name": "1.0"
           }
          ],
          "nan_count": 0,
          "unique_count": 2
         }
        },
        {
         "dtype": "object",
         "name": "11357",
         "stats": {
          "categories": [
           {
            "count": 611,
            "name": "0"
           },
           {
            "count": 1,
            "name": "5.0"
           }
          ],
          "nan_count": 0,
          "unique_count": 2
         }
        },
        {
         "dtype": "object",
         "name": "11374",
         "stats": {
          "categories": [
           {
            "count": 609,
            "name": "0"
           },
           {
            "count": 3,
            "name": "1.0"
           }
          ],
          "nan_count": 0,
          "unique_count": 2
         }
        },
        {
         "dtype": "object",
         "name": "11456",
         "stats": {
          "categories": [
           {
            "count": 609,
            "name": "0"
           },
           {
            "count": 3,
            "name": "5.0"
           }
          ],
          "nan_count": 0,
          "unique_count": 2
         }
        },
        {
         "dtype": "object",
         "name": "11460",
         "stats": {
          "categories": [
           {
            "count": 611,
            "name": "0"
           },
           {
            "count": 1,
            "name": "5.0"
           }
          ],
          "nan_count": 0,
          "unique_count": 2
         }
        },
        {
         "dtype": "object",
         "name": "11559",
         "stats": {
          "categories": [
           {
            "count": 608,
            "name": "0"
           },
           {
            "count": 2,
            "name": "1.0"
           },
           {
            "count": 2,
            "name": "2 others"
           }
          ],
          "nan_count": 0,
          "unique_count": 4
         }
        },
        {
         "dtype": "object",
         "name": "11660",
         "stats": {
          "categories": [
           {
            "count": 608,
            "name": "0"
           },
           {
            "count": 2,
            "name": "5.0"
           },
           {
            "count": 2,
            "name": "2 others"
           }
          ],
          "nan_count": 0,
          "unique_count": 4
         }
        },
        {
         "dtype": "object",
         "name": "11702",
         "stats": {
          "categories": [
           {
            "count": 611,
            "name": "0"
           },
           {
            "count": 1,
            "name": "5.0"
           }
          ],
          "nan_count": 0,
          "unique_count": 2
         }
        },
        {
         "dtype": "object",
         "name": "11725",
         "stats": {
          "categories": [
           {
            "count": 610,
            "name": "0"
           },
           {
            "count": 1,
            "name": "5.0"
           },
           {
            "count": 1,
            "name": "1.0"
           }
          ],
          "nan_count": 0,
          "unique_count": 3
         }
        },
        {
         "dtype": "object",
         "name": "11765",
         "stats": {
          "categories": [
           {
            "count": 611,
            "name": "0"
           },
           {
            "count": 1,
            "name": "5.0"
           }
          ],
          "nan_count": 0,
          "unique_count": 2
         }
        },
        {
         "dtype": "object",
         "name": "11986",
         "stats": {
          "categories": [
           {
            "count": 610,
            "name": "0"
           },
           {
            "count": 1,
            "name": "2.0"
           },
           {
            "count": 1,
            "name": "5.0"
           }
          ],
          "nan_count": 0,
          "unique_count": 3
         }
        },
        {
         "dtype": "object",
         "name": "1203",
         "stats": {
          "categories": [
           {
            "count": 610,
            "name": "0"
           },
           {
            "count": 2,
            "name": "1.0"
           }
          ],
          "nan_count": 0,
          "unique_count": 2
         }
        },
        {
         "dtype": "object",
         "name": "12133",
         "stats": {
          "categories": [
           {
            "count": 611,
            "name": "0"
           },
           {
            "count": 1,
            "name": "5.0"
           }
          ],
          "nan_count": 0,
          "unique_count": 2
         }
        },
        {
         "dtype": "object",
         "name": "122",
         "stats": {
          "categories": [
           {
            "count": 609,
            "name": "0"
           },
           {
            "count": 2,
            "name": "1.0"
           },
           {
            "count": 1,
            "name": "5.0"
           }
          ],
          "nan_count": 0,
          "unique_count": 3
         }
        },
        {
         "dtype": "object",
         "name": "12255",
         "stats": {
          "categories": [
           {
            "count": 611,
            "name": "0"
           },
           {
            "count": 1,
            "name": "5.0"
           }
          ],
          "nan_count": 0,
          "unique_count": 2
         }
        },
        {
         "dtype": "object",
         "name": "12272",
         "stats": {
          "categories": [
           {
            "count": 610,
            "name": "0"
           },
           {
            "count": 1,
            "name": "1.0"
           },
           {
            "count": 1,
            "name": "5.0"
           }
          ],
          "nan_count": 0,
          "unique_count": 3
         }
        },
        {
         "dtype": "object",
         "name": "12333",
         "stats": {
          "categories": [
           {
            "count": 610,
            "name": "0"
           },
           {
            "count": 2,
            "name": "5.0"
           }
          ],
          "nan_count": 0,
          "unique_count": 2
         }
        },
        {
         "dtype": "object",
         "name": "12396",
         "stats": {
          "categories": [
           {
            "count": 609,
            "name": "0"
           },
           {
            "count": 3,
            "name": "5.0"
           }
          ],
          "nan_count": 0,
          "unique_count": 2
         }
        },
        {
         "dtype": "object",
         "name": "12476",
         "stats": {
          "categories": [
           {
            "count": 611,
            "name": "0"
           },
           {
            "count": 1,
            "name": "5.0"
           }
          ],
          "nan_count": 0,
          "unique_count": 2
         }
        },
        {
         "dtype": "object",
         "name": "12598",
         "stats": {
          "categories": [
           {
            "count": 610,
            "name": "0"
           },
           {
            "count": 2,
            "name": "1.0"
           }
          ],
          "nan_count": 0,
          "unique_count": 2
         }
        },
        {
         "dtype": "object",
         "name": "1260",
         "stats": {
          "categories": [
           {
            "count": 610,
            "name": "0"
           },
           {
            "count": 2,
            "name": "1.0"
           }
          ],
          "nan_count": 0,
          "unique_count": 2
         }
        },
        {
         "dtype": "object",
         "name": "1262",
         "stats": {
          "categories": [
           {
            "count": 609,
            "name": "0"
           },
           {
            "count": 2,
            "name": "1.0"
           },
           {
            "count": 1,
            "name": "5.0"
           }
          ],
          "nan_count": 0,
          "unique_count": 3
         }
        },
        {
         "dtype": "object",
         "name": "1264",
         "stats": {
          "categories": [
           {
            "count": 611,
            "name": "0"
           },
           {
            "count": 1,
            "name": "1.0"
           }
          ],
          "nan_count": 0,
          "unique_count": 2
         }
        },
        {
         "dtype": "object",
         "name": "12724",
         "stats": {
          "categories": [
           {
            "count": 609,
            "name": "0"
           },
           {
            "count": 1,
            "name": "1.0"
           },
           {
            "count": 2,
            "name": "2 others"
           }
          ],
          "nan_count": 0,
          "unique_count": 4
         }
        },
        {
         "dtype": "object",
         "name": "12783",
         "stats": {
          "categories": [
           {
            "count": 610,
            "name": "0"
           },
           {
            "count": 1,
            "name": "5.0"
           },
           {
            "count": 1,
            "name": "3.0"
           }
          ],
          "nan_count": 0,
          "unique_count": 3
         }
        },
        {
         "dtype": "object",
         "name": "12802",
         "stats": {
          "categories": [
           {
            "count": 610,
            "name": "0"
           },
           {
            "count": 2,
            "name": "1.0"
           }
          ],
          "nan_count": 0,
          "unique_count": 2
         }
        },
        {
         "dtype": "object",
         "name": "12863",
         "stats": {
          "categories": [
           {
            "count": 609,
            "name": "0"
           },
           {
            "count": 3,
            "name": "1.0"
           }
          ],
          "nan_count": 0,
          "unique_count": 2
         }
        },
        {
         "dtype": "object",
         "name": "12989",
         "stats": {
          "categories": [
           {
            "count": 610,
            "name": "0"
           },
           {
            "count": 1,
            "name": "5.0"
           },
           {
            "count": 1,
            "name": "3.0"
           }
          ],
          "nan_count": 0,
          "unique_count": 3
         }
        },
        {
         "dtype": "object",
         "name": "13010",
         "stats": {
          "categories": [
           {
            "count": 609,
            "name": "0"
           },
           {
            "count": 2,
            "name": "1.0"
           },
           {
            "count": 1,
            "name": "5.0"
           }
          ],
          "nan_count": 0,
          "unique_count": 3
         }
        },
        {
         "dtype": "object",
         "name": "13029",
         "stats": {
          "categories": [
           {
            "count": 609,
            "name": "0"
           },
           {
            "count": 2,
            "name": "5.0"
           },
           {
            "count": 1,
            "name": "1.0"
           }
          ],
          "nan_count": 0,
          "unique_count": 3
         }
        },
        {
         "dtype": "object",
         "name": "13067",
         "stats": {
          "categories": [
           {
            "count": 610,
            "name": "0"
           },
           {
            "count": 1,
            "name": "5.0"
           },
           {
            "count": 1,
            "name": "2.0"
           }
          ],
          "nan_count": 0,
          "unique_count": 3
         }
        },
        {
         "dtype": "object",
         "name": "13071",
         "stats": {
          "categories": [
           {
            "count": 609,
            "name": "0"
           },
           {
            "count": 1,
            "name": "1.0"
           },
           {
            "count": 2,
            "name": "2 others"
           }
          ],
          "nan_count": 0,
          "unique_count": 4
         }
        },
        {
         "dtype": "object",
         "name": "13111",
         "stats": {
          "categories": [
           {
            "count": 611,
            "name": "0"
           },
           {
            "count": 1,
            "name": "2.0"
           }
          ],
          "nan_count": 0,
          "unique_count": 2
         }
        },
        {
         "dtype": "object",
         "name": "13170",
         "stats": {
          "categories": [
           {
            "count": 608,
            "name": "0"
           },
           {
            "count": 2,
            "name": "5.0"
           },
           {
            "count": 2,
            "name": "1.0"
           }
          ],
          "nan_count": 0,
          "unique_count": 3
         }
        },
        {
         "dtype": "object",
         "name": "13189",
         "stats": {
          "categories": [
           {
            "count": 609,
            "name": "0"
           },
           {
            "count": 3,
            "name": "5.0"
           }
          ],
          "nan_count": 0,
          "unique_count": 2
         }
        },
        {
         "dtype": "object",
         "name": "13193",
         "stats": {
          "categories": [
           {
            "count": 609,
            "name": "0"
           },
           {
            "count": 2,
            "name": "5.0"
           },
           {
            "count": 1,
            "name": "1.0"
           }
          ],
          "nan_count": 0,
          "unique_count": 3
         }
        },
        {
         "dtype": "object",
         "name": "13271",
         "stats": {
          "categories": [
           {
            "count": 610,
            "name": "0"
           },
           {
            "count": 2,
            "name": "5.0"
           }
          ],
          "nan_count": 0,
          "unique_count": 2
         }
        },
        {
         "dtype": "object",
         "name": "13292",
         "stats": {
          "categories": [
           {
            "count": 609,
            "name": "0"
           },
           {
            "count": 2,
            "name": "1.0"
           },
           {
            "count": 1,
            "name": "5.0"
           }
          ],
          "nan_count": 0,
          "unique_count": 3
         }
        },
        {
         "dtype": "object",
         "name": "13437",
         "stats": {
          "categories": [
           {
            "count": 608,
            "name": "0"
           },
           {
            "count": 2,
            "name": "5.0"
           },
           {
            "count": 2,
            "name": "2 others"
           }
          ],
          "nan_count": 0,
          "unique_count": 4
         }
        },
        {
         "dtype": "object",
         "name": "13456",
         "stats": {
          "categories": [
           {
            "count": 611,
            "name": "0"
           },
           {
            "count": 1,
            "name": "1.0"
           }
          ],
          "nan_count": 0,
          "unique_count": 2
         }
        },
        {
         "dtype": "object",
         "name": "13458",
         "stats": {
          "categories": [
           {
            "count": 609,
            "name": "0"
           },
           {
            "count": 3,
            "name": "5.0"
           }
          ],
          "nan_count": 0,
          "unique_count": 2
         }
        },
        {
         "dtype": "object",
         "name": "13479",
         "stats": {
          "categories": [
           {
            "count": 611,
            "name": "0"
           },
           {
            "count": 1,
            "name": "1.0"
           }
          ],
          "nan_count": 0,
          "unique_count": 2
         }
        },
        {
         "dtype": "object",
         "name": "13599",
         "stats": {
          "categories": [
           {
            "count": 611,
            "name": "0"
           },
           {
            "count": 1,
            "name": "5.0"
           }
          ],
          "nan_count": 0,
          "unique_count": 2
         }
        },
        {
         "dtype": "object",
         "name": "13639",
         "stats": {
          "categories": [
           {
            "count": 609,
            "name": "0"
           },
           {
            "count": 2,
            "name": "1.0"
           },
           {
            "count": 1,
            "name": "2.0"
           }
          ],
          "nan_count": 0,
          "unique_count": 3
         }
        },
        {
         "dtype": "object",
         "name": "13641",
         "stats": {
          "categories": [
           {
            "count": 609,
            "name": "0"
           },
           {
            "count": 1,
            "name": "2.0"
           },
           {
            "count": 2,
            "name": "2 others"
           }
          ],
          "nan_count": 0,
          "unique_count": 4
         }
        },
        {
         "dtype": "object",
         "name": "13744",
         "stats": {
          "categories": [
           {
            "count": 611,
            "name": "0"
           },
           {
            "count": 1,
            "name": "1.0"
           }
          ],
          "nan_count": 0,
          "unique_count": 2
         }
        },
        {
         "dtype": "object",
         "name": "13801",
         "stats": {
          "categories": [
           {
            "count": 611,
            "name": "0"
           },
           {
            "count": 1,
            "name": "1.0"
           }
          ],
          "nan_count": 0,
          "unique_count": 2
         }
        },
        {
         "dtype": "object",
         "name": "13843",
         "stats": {
          "categories": [
           {
            "count": 608,
            "name": "0"
           },
           {
            "count": 2,
            "name": "3.0"
           },
           {
            "count": 2,
            "name": "5.0"
           }
          ],
          "nan_count": 0,
          "unique_count": 3
         }
        },
        {
         "dtype": "object",
         "name": "13906",
         "stats": {
          "categories": [
           {
            "count": 611,
            "name": "0"
           },
           {
            "count": 1,
            "name": "4.0"
           }
          ],
          "nan_count": 0,
          "unique_count": 2
         }
        },
        {
         "dtype": "object",
         "name": "13923",
         "stats": {
          "categories": [
           {
            "count": 611,
            "name": "0"
           },
           {
            "count": 1,
            "name": "5.0"
           }
          ],
          "nan_count": 0,
          "unique_count": 2
         }
        },
        {
         "dtype": "object",
         "name": "14005",
         "stats": {
          "categories": [
           {
            "count": 610,
            "name": "0"
           },
           {
            "count": 1,
            "name": "5.0"
           },
           {
            "count": 1,
            "name": "1.0"
           }
          ],
          "nan_count": 0,
          "unique_count": 3
         }
        },
        {
         "dtype": "object",
         "name": "1403",
         "stats": {
          "categories": [
           {
            "count": 608,
            "name": "0"
           },
           {
            "count": 2,
            "name": "5.0"
           },
           {
            "count": 2,
            "name": "2 others"
           }
          ],
          "nan_count": 0,
          "unique_count": 4
         }
        },
        {
         "dtype": "object",
         "name": "14049",
         "stats": {
          "categories": [
           {
            "count": 610,
            "name": "0"
           },
           {
            "count": 1,
            "name": "1.0"
           },
           {
            "count": 1,
            "name": "5.0"
           }
          ],
          "nan_count": 0,
          "unique_count": 3
         }
        },
        {
         "dtype": "object",
         "name": "14066",
         "stats": {
          "categories": [
           {
            "count": 608,
            "name": "0"
           },
           {
            "count": 2,
            "name": "3.0"
           },
           {
            "count": 2,
            "name": "2 others"
           }
          ],
          "nan_count": 0,
          "unique_count": 4
         }
        },
        {
         "dtype": "object",
         "name": "1407",
         "stats": {
          "categories": [
           {
            "count": 609,
            "name": "0"
           },
           {
            "count": 3,
            "name": "5.0"
           }
          ],
          "nan_count": 0,
          "unique_count": 2
         }
        },
        {
         "dtype": "object",
         "name": "14131",
         "stats": {
          "categories": [
           {
            "count": 609,
            "name": "0"
           },
           {
            "count": 3,
            "name": "1.0"
           }
          ],
          "nan_count": 0,
          "unique_count": 2
         }
        },
        {
         "dtype": "object",
         "name": "14152",
         "stats": {
          "categories": [
           {
            "count": 609,
            "name": "0"
           },
           {
            "count": 3,
            "name": "5.0"
           }
          ],
          "nan_count": 0,
          "unique_count": 2
         }
        },
        {
         "dtype": "object",
         "name": "14213",
         "stats": {
          "categories": [
           {
            "count": 610,
            "name": "0"
           },
           {
            "count": 1,
            "name": "2.0"
           },
           {
            "count": 1,
            "name": "1.0"
           }
          ],
          "nan_count": 0,
          "unique_count": 3
         }
        },
        {
         "dtype": "object",
         "name": "14249",
         "stats": {
          "categories": [
           {
            "count": 611,
            "name": "0"
           },
           {
            "count": 1,
            "name": "1.0"
           }
          ],
          "nan_count": 0,
          "unique_count": 2
         }
        },
        {
         "dtype": "object",
         "name": "14270",
         "stats": {
          "categories": [
           {
            "count": 610,
            "name": "0"
           },
           {
            "count": 1,
            "name": "1.0"
           },
           {
            "count": 1,
            "name": "5.0"
           }
          ],
          "nan_count": 0,
          "unique_count": 3
         }
        },
        {
         "dtype": "object",
         "name": "14291",
         "stats": {
          "categories": [
           {
            "count": 611,
            "name": "0"
           },
           {
            "count": 1,
            "name": "1.0"
           }
          ],
          "nan_count": 0,
          "unique_count": 2
         }
        },
        {
         "dtype": "object",
         "name": "14373",
         "stats": {
          "categories": [
           {
            "count": 610,
            "name": "0"
           },
           {
            "count": 1,
            "name": "5.0"
           },
           {
            "count": 1,
            "name": "4.0"
           }
          ],
          "nan_count": 0,
          "unique_count": 3
         }
        },
        {
         "dtype": "object",
         "name": "14396",
         "stats": {
          "categories": [
           {
            "count": 611,
            "name": "0"
           },
           {
            "count": 1,
            "name": "1.0"
           }
          ],
          "nan_count": 0,
          "unique_count": 2
         }
        },
        {
         "dtype": "object",
         "name": "14417",
         "stats": {
          "categories": [
           {
            "count": 609,
            "name": "0"
           },
           {
            "count": 2,
            "name": "2.0"
           },
           {
            "count": 1,
            "name": "5.0"
           }
          ],
          "nan_count": 0,
          "unique_count": 3
         }
        },
        {
         "dtype": "object",
         "name": "14518",
         "stats": {
          "categories": [
           {
            "count": 611,
            "name": "0"
           },
           {
            "count": 1,
            "name": "1.0"
           }
          ],
          "nan_count": 0,
          "unique_count": 2
         }
        },
        {
         "dtype": "object",
         "name": "14535",
         "stats": {
          "categories": [
           {
            "count": 611,
            "name": "0"
           },
           {
            "count": 1,
            "name": "4.0"
           }
          ],
          "nan_count": 0,
          "unique_count": 2
         }
        },
        {
         "dtype": "object",
         "name": "14539",
         "stats": {
          "categories": [
           {
            "count": 609,
            "name": "0"
           },
           {
            "count": 2,
            "name": "5.0"
           },
           {
            "count": 1,
            "name": "2.0"
           }
          ],
          "nan_count": 0,
          "unique_count": 3
         }
        },
        {
         "dtype": "object",
         "name": "14600",
         "stats": {
          "categories": [
           {
            "count": 609,
            "name": "0"
           },
           {
            "count": 3,
            "name": "5.0"
           }
          ],
          "nan_count": 0,
          "unique_count": 2
         }
        },
        {
         "dtype": "object",
         "name": "14621",
         "stats": {
          "categories": [
           {
            "count": 611,
            "name": "0"
           },
           {
            "count": 1,
            "name": "5.0"
           }
          ],
          "nan_count": 0,
          "unique_count": 2
         }
        },
        {
         "dtype": "object",
         "name": "14657",
         "stats": {
          "categories": [
           {
            "count": 611,
            "name": "0"
           },
           {
            "count": 1,
            "name": "1.0"
           }
          ],
          "nan_count": 0,
          "unique_count": 2
         }
        },
        {
         "dtype": "object",
         "name": "14760",
         "stats": {
          "categories": [
           {
            "count": 611,
            "name": "0"
           },
           {
            "count": 1,
            "name": "1.0"
           }
          ],
          "nan_count": 0,
          "unique_count": 2
         }
        },
        {
         "dtype": "object",
         "name": "14804",
         "stats": {
          "categories": [
           {
            "count": 609,
            "name": "0"
           },
           {
            "count": 2,
            "name": "5.0"
           },
           {
            "count": 1,
            "name": "4.0"
           }
          ],
          "nan_count": 0,
          "unique_count": 3
         }
        },
        {
         "dtype": "object",
         "name": "14987",
         "stats": {
          "categories": [
           {
            "count": 609,
            "name": "0"
           },
           {
            "count": 2,
            "name": "1.0"
           },
           {
            "count": 1,
            "name": "5.0"
           }
          ],
          "nan_count": 0,
          "unique_count": 3
         }
        },
        {
         "dtype": "object",
         "name": "15090",
         "stats": {
          "categories": [
           {
            "count": 609,
            "name": "0"
           },
           {
            "count": 1,
            "name": "1.0"
           },
           {
            "count": 2,
            "name": "2 others"
           }
          ],
          "nan_count": 0,
          "unique_count": 4
         }
        },
        {
         "dtype": "object",
         "name": "15151",
         "stats": {
          "categories": [
           {
            "count": 611,
            "name": "0"
           },
           {
            "count": 1,
            "name": "1.0"
           }
          ],
          "nan_count": 0,
          "unique_count": 2
         }
        },
        {
         "dtype": "object",
         "name": "15168",
         "stats": {
          "categories": [
           {
            "count": 609,
            "name": "0"
           },
           {
            "count": 2,
            "name": "1.0"
           },
           {
            "count": 1,
            "name": "2.0"
           }
          ],
          "nan_count": 0,
          "unique_count": 3
         }
        },
        {
         "dtype": "object",
         "name": "15191",
         "stats": {
          "categories": [
           {
            "count": 611,
            "name": "0"
           },
           {
            "count": 1,
            "name": "3.0"
           }
          ],
          "nan_count": 0,
          "unique_count": 2
         }
        },
        {
         "dtype": "object",
         "name": "15229",
         "stats": {
          "categories": [
           {
            "count": 610,
            "name": "0"
           },
           {
            "count": 1,
            "name": "2.0"
           },
           {
            "count": 1,
            "name": "5.0"
           }
          ],
          "nan_count": 0,
          "unique_count": 3
         }
        },
        {
         "dtype": "object",
         "name": "15269",
         "stats": {
          "categories": [
           {
            "count": 608,
            "name": "0"
           },
           {
            "count": 3,
            "name": "5.0"
           },
           {
            "count": 1,
            "name": "1.0"
           }
          ],
          "nan_count": 0,
          "unique_count": 3
         }
        },
        {
         "dtype": "object",
         "name": "15273",
         "stats": {
          "categories": [
           {
            "count": 611,
            "name": "0"
           },
           {
            "count": 1,
            "name": "1.0"
           }
          ],
          "nan_count": 0,
          "unique_count": 2
         }
        },
        {
         "dtype": "object",
         "name": "1529",
         "stats": {
          "categories": [
           {
            "count": 611,
            "name": "0"
           },
           {
            "count": 1,
            "name": "1.0"
           }
          ],
          "nan_count": 0,
          "unique_count": 2
         }
        },
        {
         "dtype": "object",
         "name": "15355",
         "stats": {
          "categories": [
           {
            "count": 610,
            "name": "0"
           },
           {
            "count": 2,
            "name": "5.0"
           }
          ],
          "nan_count": 0,
          "unique_count": 2
         }
        },
        {
         "dtype": "object",
         "name": "15433",
         "stats": {
          "categories": [
           {
            "count": 611,
            "name": "0"
           },
           {
            "count": 1,
            "name": "5.0"
           }
          ],
          "nan_count": 0,
          "unique_count": 2
         }
        },
        {
         "dtype": "object",
         "name": "15538",
         "stats": {
          "categories": [
           {
            "count": 609,
            "name": "0"
           },
           {
            "count": 3,
            "name": "5.0"
           }
          ],
          "nan_count": 0,
          "unique_count": 2
         }
        },
        {
         "dtype": "object",
         "name": "15559",
         "stats": {
          "categories": [
           {
            "count": 609,
            "name": "0"
           },
           {
            "count": 3,
            "name": "5.0"
           }
          ],
          "nan_count": 0,
          "unique_count": 2
         }
        },
        {
         "dtype": "object",
         "name": "15576",
         "stats": {
          "categories": [
           {
            "count": 608,
            "name": "0"
           },
           {
            "count": 4,
            "name": "5.0"
           }
          ],
          "nan_count": 0,
          "unique_count": 2
         }
        },
        {
         "dtype": "object",
         "name": "15578",
         "stats": {
          "categories": [
           {
            "count": 610,
            "name": "0"
           },
           {
            "count": 1,
            "name": "4.0"
           },
           {
            "count": 1,
            "name": "1.0"
           }
          ],
          "nan_count": 0,
          "unique_count": 3
         }
        },
        {
         "dtype": "object",
         "name": "15616",
         "stats": {
          "categories": [
           {
            "count": 611,
            "name": "0"
           },
           {
            "count": 1,
            "name": "5.0"
           }
          ],
          "nan_count": 0,
          "unique_count": 2
         }
        },
        {
         "dtype": "object",
         "name": "15620",
         "stats": {
          "categories": [
           {
            "count": 610,
            "name": "0"
           },
           {
            "count": 1,
            "name": "4.0"
           },
           {
            "count": 1,
            "name": "1.0"
           }
          ],
          "nan_count": 0,
          "unique_count": 3
         }
        },
        {
         "dtype": "object",
         "name": "15660",
         "stats": {
          "categories": [
           {
            "count": 610,
            "name": "0"
           },
           {
            "count": 1,
            "name": "5.0"
           },
           {
            "count": 1,
            "name": "1.0"
           }
          ],
          "nan_count": 0,
          "unique_count": 3
         }
        },
        {
         "dtype": "object",
         "name": "1569",
         "stats": {
          "categories": [
           {
            "count": 608,
            "name": "0"
           },
           {
            "count": 3,
            "name": "1.0"
           },
           {
            "count": 1,
            "name": "5.0"
           }
          ],
          "nan_count": 0,
          "unique_count": 3
         }
        },
        {
         "dtype": "object",
         "name": "15719",
         "stats": {
          "categories": [
           {
            "count": 609,
            "name": "0"
           },
           {
            "count": 3,
            "name": "1.0"
           }
          ],
          "nan_count": 0,
          "unique_count": 2
         }
        },
        {
         "dtype": "object",
         "name": "15721",
         "stats": {
          "categories": [
           {
            "count": 609,
            "name": "0"
           },
           {
            "count": 3,
            "name": "5.0"
           }
          ],
          "nan_count": 0,
          "unique_count": 2
         }
        },
        {
         "dtype": "object",
         "name": "15740",
         "stats": {
          "categories": [
           {
            "count": 609,
            "name": "0"
           },
           {
            "count": 3,
            "name": "5.0"
           }
          ],
          "nan_count": 0,
          "unique_count": 2
         }
        },
        {
         "dtype": "object",
         "name": "15742",
         "stats": {
          "categories": [
           {
            "count": 611,
            "name": "0"
           },
           {
            "count": 1,
            "name": "5.0"
           }
          ],
          "nan_count": 0,
          "unique_count": 2
         }
        },
        {
         "dtype": "object",
         "name": "15780",
         "stats": {
          "categories": [
           {
            "count": 611,
            "name": "0"
           },
           {
            "count": 1,
            "name": "1.0"
           }
          ],
          "nan_count": 0,
          "unique_count": 2
         }
        },
        {
         "dtype": "object",
         "name": "15782",
         "stats": {
          "categories": [
           {
            "count": 611,
            "name": "0"
           },
           {
            "count": 1,
            "name": "5.0"
           }
          ],
          "nan_count": 0,
          "unique_count": 2
         }
        },
        {
         "dtype": "object",
         "name": "15860",
         "stats": {
          "categories": [
           {
            "count": 609,
            "name": "0"
           },
           {
            "count": 2,
            "name": "5.0"
           },
           {
            "count": 1,
            "name": "1.0"
           }
          ],
          "nan_count": 0,
          "unique_count": 3
         }
        },
        {
         "dtype": "object",
         "name": "1590",
         "stats": {
          "categories": [
           {
            "count": 611,
            "name": "0"
           },
           {
            "count": 1,
            "name": "5.0"
           }
          ],
          "nan_count": 0,
          "unique_count": 2
         }
        },
        {
         "dtype": "object",
         "name": "15963",
         "stats": {
          "categories": [
           {
            "count": 611,
            "name": "0"
           },
           {
            "count": 1,
            "name": "1.0"
           }
          ],
          "nan_count": 0,
          "unique_count": 2
         }
        },
        {
         "dtype": "object",
         "name": "160",
         "stats": {
          "categories": [
           {
            "count": 608,
            "name": "0"
           },
           {
            "count": 4,
            "name": "5.0"
           }
          ],
          "nan_count": 0,
          "unique_count": 2
         }
        },
        {
         "dtype": "object",
         "name": "16005",
         "stats": {
          "categories": [
           {
            "count": 609,
            "name": "0"
           },
           {
            "count": 2,
            "name": "1.0"
           },
           {
            "count": 1,
            "name": "5.0"
           }
          ],
          "nan_count": 0,
          "unique_count": 3
         }
        },
        {
         "dtype": "object",
         "name": "16028",
         "stats": {
          "categories": [
           {
            "count": 611,
            "name": "0"
           },
           {
            "count": 1,
            "name": "5.0"
           }
          ],
          "nan_count": 0,
          "unique_count": 2
         }
        },
        {
         "dtype": "object",
         "name": "16129",
         "stats": {
          "categories": [
           {
            "count": 610,
            "name": "0"
           },
           {
            "count": 1,
            "name": "1.0"
           },
           {
            "count": 1,
            "name": "5.0"
           }
          ],
          "nan_count": 0,
          "unique_count": 3
         }
        },
        {
         "dtype": "object",
         "name": "16150",
         "stats": {
          "categories": [
           {
            "count": 609,
            "name": "0"
           },
           {
            "count": 3,
            "name": "5.0"
           }
          ],
          "nan_count": 0,
          "unique_count": 2
         }
        },
        {
         "dtype": "object",
         "name": "16190",
         "stats": {
          "categories": [
           {
            "count": 608,
            "name": "0"
           },
           {
            "count": 2,
            "name": "1.0"
           },
           {
            "count": 2,
            "name": "2 others"
           }
          ],
          "nan_count": 0,
          "unique_count": 4
         }
        },
        {
         "dtype": "object",
         "name": "16245",
         "stats": {
          "categories": [
           {
            "count": 610,
            "name": "0"
           },
           {
            "count": 1,
            "name": "5.0"
           },
           {
            "count": 1,
            "name": "1.0"
           }
          ],
          "nan_count": 0,
          "unique_count": 3
         }
        },
        {
         "dtype": "object",
         "name": "16293",
         "stats": {
          "categories": [
           {
            "count": 609,
            "name": "0"
           },
           {
            "count": 3,
            "name": "1.0"
           }
          ],
          "nan_count": 0,
          "unique_count": 2
         }
        },
        {
         "dtype": "object",
         "name": "16354",
         "stats": {
          "categories": [
           {
            "count": 609,
            "name": "0"
           },
           {
            "count": 3,
            "name": "5.0"
           }
          ],
          "nan_count": 0,
          "unique_count": 2
         }
        },
        {
         "dtype": "object",
         "name": "16371",
         "stats": {
          "categories": [
           {
            "count": 610,
            "name": "0"
           },
           {
            "count": 1,
            "name": "3.0"
           },
           {
            "count": 1,
            "name": "5.0"
           }
          ],
          "nan_count": 0,
          "unique_count": 3
         }
        },
        {
         "dtype": "object",
         "name": "16497",
         "stats": {
          "categories": [
           {
            "count": 610,
            "name": "0"
           },
           {
            "count": 2,
            "name": "1.0"
           }
          ],
          "nan_count": 0,
          "unique_count": 2
         }
        },
        {
         "dtype": "object",
         "name": "16514",
         "stats": {
          "categories": [
           {
            "count": 611,
            "name": "0"
           },
           {
            "count": 1,
            "name": "5.0"
           }
          ],
          "nan_count": 0,
          "unique_count": 2
         }
        },
        {
         "dtype": "object",
         "name": "16558",
         "stats": {
          "categories": [
           {
            "count": 611,
            "name": "0"
           },
           {
            "count": 1,
            "name": "4.0"
           }
          ],
          "nan_count": 0,
          "unique_count": 2
         }
        },
        {
         "dtype": "object",
         "name": "16657",
         "stats": {
          "categories": [
           {
            "count": 609,
            "name": "0"
           },
           {
            "count": 3,
            "name": "5.0"
           }
          ],
          "nan_count": 0,
          "unique_count": 2
         }
        },
        {
         "dtype": "object",
         "name": "16659",
         "stats": {
          "categories": [
           {
            "count": 611,
            "name": "0"
           },
           {
            "count": 1,
            "name": "1.0"
           }
          ],
          "nan_count": 0,
          "unique_count": 2
         }
        },
        {
         "dtype": "object",
         "name": "16680",
         "stats": {
          "categories": [
           {
            "count": 609,
            "name": "0"
           },
           {
            "count": 2,
            "name": "5.0"
           },
           {
            "count": 1,
            "name": "1.0"
           }
          ],
          "nan_count": 0,
          "unique_count": 3
         }
        },
        {
         "dtype": "object",
         "name": "1672",
         "stats": {
          "categories": [
           {
            "count": 610,
            "name": "0"
           },
           {
            "count": 1,
            "name": "5.0"
           },
           {
            "count": 1,
            "name": "3.0"
           }
          ],
          "nan_count": 0,
          "unique_count": 3
         }
        },
        {
         "dtype": "object",
         "name": "16739",
         "stats": {
          "categories": [
           {
            "count": 611,
            "name": "0"
           },
           {
            "count": 1,
            "name": "1.0"
           }
          ],
          "nan_count": 0,
          "unique_count": 2
         }
        },
        {
         "dtype": "object",
         "name": "16779",
         "stats": {
          "categories": [
           {
            "count": 611,
            "name": "0"
           },
           {
            "count": 1,
            "name": "1.0"
           }
          ],
          "nan_count": 0,
          "unique_count": 2
         }
        },
        {
         "dtype": "object",
         "name": "16880",
         "stats": {
          "categories": [
           {
            "count": 609,
            "name": "0"
           },
           {
            "count": 2,
            "name": "1.0"
           },
           {
            "count": 1,
            "name": "5.0"
           }
          ],
          "nan_count": 0,
          "unique_count": 3
         }
        },
        {
         "dtype": "object",
         "name": "16899",
         "stats": {
          "categories": [
           {
            "count": 611,
            "name": "0"
           },
           {
            "count": 1,
            "name": "1.0"
           }
          ],
          "nan_count": 0,
          "unique_count": 2
         }
        },
        {
         "dtype": "object",
         "name": "16922",
         "stats": {
          "categories": [
           {
            "count": 611,
            "name": "0"
           },
           {
            "count": 1,
            "name": "5.0"
           }
          ],
          "nan_count": 0,
          "unique_count": 2
         }
        },
        {
         "dtype": "object",
         "name": "16962",
         "stats": {
          "categories": [
           {
            "count": 611,
            "name": "0"
           },
           {
            "count": 1,
            "name": "1.0"
           }
          ],
          "nan_count": 0,
          "unique_count": 2
         }
        },
        {
         "dtype": "object",
         "name": "17124",
         "stats": {
          "categories": [
           {
            "count": 611,
            "name": "0"
           },
           {
            "count": 1,
            "name": "1.0"
           }
          ],
          "nan_count": 0,
          "unique_count": 2
         }
        },
        {
         "dtype": "object",
         "name": "17170",
         "stats": {
          "categories": [
           {
            "count": 610,
            "name": "0"
           },
           {
            "count": 1,
            "name": "5.0"
           },
           {
            "count": 1,
            "name": "2.0"
           }
          ],
          "nan_count": 0,
          "unique_count": 3
         }
        },
        {
         "dtype": "object",
         "name": "17206",
         "stats": {
          "categories": [
           {
            "count": 608,
            "name": "0"
           },
           {
            "count": 4,
            "name": "5.0"
           }
          ],
          "nan_count": 0,
          "unique_count": 2
         }
        },
        {
         "dtype": "object",
         "name": "17227",
         "stats": {
          "categories": [
           {
            "count": 610,
            "name": "0"
           },
           {
            "count": 2,
            "name": "5.0"
           }
          ],
          "nan_count": 0,
          "unique_count": 2
         }
        },
        {
         "dtype": "object",
         "name": "17292",
         "stats": {
          "categories": [
           {
            "count": 609,
            "name": "0"
           },
           {
            "count": 3,
            "name": "5.0"
           }
          ],
          "nan_count": 0,
          "unique_count": 2
         }
        },
        {
         "dtype": "object",
         "name": "17431",
         "stats": {
          "categories": [
           {
            "count": 608,
            "name": "0"
           },
           {
            "count": 4,
            "name": "5.0"
           }
          ],
          "nan_count": 0,
          "unique_count": 2
         }
        },
        {
         "dtype": "object",
         "name": "17555",
         "stats": {
          "categories": [
           {
            "count": 611,
            "name": "0"
           },
           {
            "count": 1,
            "name": "1.0"
           }
          ],
          "nan_count": 0,
          "unique_count": 2
         }
        },
        {
         "dtype": "object",
         "name": "17597",
         "stats": {
          "categories": [
           {
            "count": 609,
            "name": "0"
           },
           {
            "count": 3,
            "name": "1.0"
           }
          ],
          "nan_count": 0,
          "unique_count": 2
         }
        },
        {
         "dtype": "object",
         "name": "17656",
         "stats": {
          "categories": [
           {
            "count": 608,
            "name": "0"
           },
           {
            "count": 2,
            "name": "5.0"
           },
           {
            "count": 2,
            "name": "1.0"
           }
          ],
          "nan_count": 0,
          "unique_count": 3
         }
        },
        {
         "dtype": "object",
         "name": "17696",
         "stats": {
          "categories": [
           {
            "count": 608,
            "name": "0"
           },
           {
            "count": 3,
            "name": "1.0"
           },
           {
            "count": 1,
            "name": "3.0"
           }
          ],
          "nan_count": 0,
          "unique_count": 3
         }
        },
        {
         "dtype": "object",
         "name": "17717",
         "stats": {
          "categories": [
           {
            "count": 608,
            "name": "0"
           },
           {
            "count": 4,
            "name": "1.0"
           }
          ],
          "nan_count": 0,
          "unique_count": 2
         }
        },
        {
         "dtype": "object",
         "name": "17801",
         "stats": {
          "categories": [
           {
            "count": 610,
            "name": "0"
           },
           {
            "count": 1,
            "name": "5.0"
           },
           {
            "count": 1,
            "name": "1.0"
           }
          ],
          "nan_count": 0,
          "unique_count": 3
         }
        },
        {
         "dtype": "object",
         "name": "17820",
         "stats": {
          "categories": [
           {
            "count": 608,
            "name": "0"
           },
           {
            "count": 3,
            "name": "5.0"
           },
           {
            "count": 1,
            "name": "3.0"
           }
          ],
          "nan_count": 0,
          "unique_count": 3
         }
        },
        {
         "dtype": "object",
         "name": "17822"
        },
        {
         "dtype": "object",
         "name": "179"
        },
        {
         "dtype": "object",
         "name": "17900"
        },
        {
         "dtype": "object",
         "name": "17904"
        },
        {
         "dtype": "object",
         "name": "17982"
        },
        {
         "dtype": "object",
         "name": "18066"
        },
        {
         "dtype": "object",
         "name": "18169"
        },
        {
         "dtype": "object",
         "name": "18230"
        },
        {
         "dtype": "object",
         "name": "18287"
        },
        {
         "dtype": "object",
         "name": "18291"
        },
        {
         "dtype": "object",
         "name": "18434"
        },
        {
         "dtype": "object",
         "name": "18554"
        },
        {
         "dtype": "object",
         "name": "18613"
        },
        {
         "dtype": "object",
         "name": "18638"
        },
        {
         "dtype": "object",
         "name": "18777"
        },
        {
         "dtype": "object",
         "name": "18903"
        },
        {
         "dtype": "object",
         "name": "18920"
        },
        {
         "dtype": "object",
         "name": "18941"
        },
        {
         "dtype": "object",
         "name": "18960"
        },
        {
         "dtype": "object",
         "name": "18981"
        },
        {
         "dtype": "object",
         "name": "19004"
        },
        {
         "dtype": "object",
         "name": "19103"
        },
        {
         "dtype": "object",
         "name": "1912"
        },
        {
         "dtype": "object",
         "name": "19143"
        },
        {
         "dtype": "object",
         "name": "19147"
        },
        {
         "dtype": "object",
         "name": "19164"
        },
        {
         "dtype": "object",
         "name": "19185"
        },
        {
         "dtype": "object",
         "name": "19267"
        },
        {
         "dtype": "object",
         "name": "19307"
        },
        {
         "dtype": "object",
         "name": "19311"
        },
        {
         "dtype": "object",
         "name": "1933"
        },
        {
         "dtype": "object",
         "name": "19347"
        },
        {
         "dtype": "object",
         "name": "19368"
        },
        {
         "dtype": "object",
         "name": "1937"
        },
        {
         "dtype": "object",
         "name": "19387"
        },
        {
         "dtype": "object",
         "name": "19412"
        },
        {
         "dtype": "object",
         "name": "19450"
        },
        {
         "dtype": "object",
         "name": "19553"
        },
        {
         "dtype": "object",
         "name": "19616"
        },
        {
         "dtype": "object",
         "name": "19677"
        },
        {
         "dtype": "object",
         "name": "19694"
        },
        {
         "dtype": "object",
         "name": "19698"
        },
        {
         "dtype": "object",
         "name": "19719"
        },
        {
         "dtype": "object",
         "name": "1975"
        },
        {
         "dtype": "object",
         "name": "19780"
        },
        {
         "dtype": "object",
         "name": "19816"
        },
        {
         "dtype": "object",
         "name": "19858"
        },
        {
         "dtype": "object",
         "name": "19881"
        },
        {
         "dtype": "object",
         "name": "19919"
        },
        {
         "dtype": "object",
         "name": "200"
        },
        {
         "dtype": "object",
         "name": "20020"
        },
        {
         "dtype": "object",
         "name": "20081"
        },
        {
         "dtype": "object",
         "name": "20142"
        },
        {
         "dtype": "object",
         "name": "2015"
        },
        {
         "dtype": "object",
         "name": "20184"
        },
        {
         "dtype": "object",
         "name": "20188"
        },
        {
         "dtype": "object",
         "name": "20207"
        },
        {
         "dtype": "object",
         "name": "20306"
        },
        {
         "dtype": "object",
         "name": "20310"
        },
        {
         "dtype": "object",
         "name": "20371"
        },
        {
         "dtype": "object",
         "name": "20428"
        },
        {
         "dtype": "object",
         "name": "2059"
        },
        {
         "dtype": "object",
         "name": "20613"
        },
        {
         "dtype": "object",
         "name": "20636"
        },
        {
         "dtype": "object",
         "name": "20653"
        },
        {
         "dtype": "object",
         "name": "20657"
        },
        {
         "dtype": "object",
         "name": "20775"
        },
        {
         "dtype": "object",
         "name": "20819"
        },
        {
         "dtype": "object",
         "name": "21019"
        },
        {
         "dtype": "object",
         "name": "21061"
        },
        {
         "dtype": "object",
         "name": "21084"
        },
        {
         "dtype": "object",
         "name": "21122"
        },
        {
         "dtype": "object",
         "name": "21126"
        },
        {
         "dtype": "object",
         "name": "21187"
        },
        {
         "dtype": "object",
         "name": "21204"
        },
        {
         "dtype": "object",
         "name": "21263"
        },
        {
         "dtype": "object",
         "name": "21265"
        },
        {
         "dtype": "object",
         "name": "21288"
        },
        {
         "dtype": "object",
         "name": "21305"
        },
        {
         "dtype": "object",
         "name": "21309"
        },
        {
         "dtype": "object",
         "name": "2141"
        },
        {
         "dtype": "object",
         "name": "21530"
        },
        {
         "dtype": "object",
         "name": "21656"
        },
        {
         "dtype": "object",
         "name": "21713"
        },
        {
         "dtype": "object",
         "name": "2177"
        },
        {
         "dtype": "object",
         "name": "21860"
        },
        {
         "dtype": "object",
         "name": "21877"
        },
        {
         "dtype": "object",
         "name": "21917"
        },
        {
         "dtype": "object",
         "name": "2202"
        },
        {
         "dtype": "object",
         "name": "22064"
        },
        {
         "dtype": "object",
         "name": "22081"
        },
        {
         "dtype": "object",
         "name": "22203"
        },
        {
         "dtype": "object",
         "name": "22226"
        },
        {
         "dtype": "object",
         "name": "22245"
        },
        {
         "dtype": "object",
         "name": "22247"
        },
        {
         "dtype": "object",
         "name": "22428"
        },
        {
         "dtype": "object",
         "name": "22430"
        },
        {
         "dtype": "object",
         "name": "22449"
        },
        {
         "dtype": "object",
         "name": "22512"
        },
        {
         "dtype": "object",
         "name": "22529"
        },
        {
         "dtype": "object",
         "name": "22594"
        },
        {
         "dtype": "object",
         "name": "22672"
        },
        {
         "dtype": "object",
         "name": "22716"
        },
        {
         "dtype": "object",
         "name": "22737"
        },
        {
         "dtype": "object",
         "name": "22876"
        },
        {
         "dtype": "object",
         "name": "22899"
        },
        {
         "dtype": "object",
         "name": "23103"
        },
        {
         "dtype": "object",
         "name": "23185"
        },
        {
         "dtype": "object",
         "name": "23202"
        },
        {
         "dtype": "object",
         "name": "23206"
        },
        {
         "dtype": "object",
         "name": "2322"
        },
        {
         "dtype": "object",
         "name": "23324"
        },
        {
         "dtype": "object",
         "name": "23425"
        },
        {
         "dtype": "object",
         "name": "23427"
        },
        {
         "dtype": "object",
         "name": "23429"
        },
        {
         "dtype": "object",
         "name": "2345"
        },
        {
         "dtype": "object",
         "name": "2362"
        },
        {
         "dtype": "object",
         "name": "23652"
        },
        {
         "dtype": "object",
         "name": "23654"
        },
        {
         "dtype": "object",
         "name": "23671"
        },
        {
         "dtype": "object",
         "name": "23675"
        },
        {
         "dtype": "object",
         "name": "23732"
        },
        {
         "dtype": "object",
         "name": "23772"
        },
        {
         "dtype": "object",
         "name": "2383"
        },
        {
         "dtype": "object",
         "name": "23833"
        },
        {
         "dtype": "object",
         "name": "23837"
        },
        {
         "dtype": "object",
         "name": "23858"
        },
        {
         "dtype": "object",
         "name": "23875"
        },
        {
         "dtype": "object",
         "name": "23940"
        },
        {
         "dtype": "object",
         "name": "24001"
        },
        {
         "dtype": "object",
         "name": "2404"
        },
        {
         "dtype": "object",
         "name": "24102"
        },
        {
         "dtype": "object",
         "name": "24121"
        },
        {
         "dtype": "object",
         "name": "24144"
        },
        {
         "dtype": "object",
         "name": "24163"
        },
        {
         "dtype": "object",
         "name": "24205"
        },
        {
         "dtype": "object",
         "name": "24323"
        },
        {
         "dtype": "object",
         "name": "24327"
        },
        {
         "dtype": "object",
         "name": "24365"
        },
        {
         "dtype": "object",
         "name": "24405"
        },
        {
         "dtype": "object",
         "name": "2446"
        },
        {
         "dtype": "object",
         "name": "24508"
        },
        {
         "dtype": "object",
         "name": "24548"
        },
        {
         "dtype": "object",
         "name": "24569"
        },
        {
         "dtype": "object",
         "name": "24590"
        },
        {
         "dtype": "object",
         "name": "24592"
        },
        {
         "dtype": "object",
         "name": "2467"
        },
        {
         "dtype": "object",
         "name": "24670"
        },
        {
         "dtype": "object",
         "name": "24775"
        },
        {
         "dtype": "object",
         "name": "24878"
        },
        {
         "dtype": "object",
         "name": "24897"
        },
        {
         "dtype": "object",
         "name": "25017"
        },
        {
         "dtype": "object",
         "name": "2505"
        },
        {
         "dtype": "object",
         "name": "2507"
        },
        {
         "dtype": "object",
         "name": "25181"
        },
        {
         "dtype": "object",
         "name": "25221"
        },
        {
         "dtype": "object",
         "name": "25244"
        },
        {
         "dtype": "object",
         "name": "25265"
        },
        {
         "dtype": "object",
         "name": "25343"
        },
        {
         "dtype": "object",
         "name": "25404"
        },
        {
         "dtype": "object",
         "name": "25408"
        },
        {
         "dtype": "object",
         "name": "25465"
        },
        {
         "dtype": "object",
         "name": "25568"
        },
        {
         "dtype": "object",
         "name": "25589"
        },
        {
         "dtype": "object",
         "name": "25711"
        },
        {
         "dtype": "object",
         "name": "25732"
        },
        {
         "dtype": "object",
         "name": "25755"
        },
        {
         "dtype": "object",
         "name": "25793"
        },
        {
         "dtype": "object",
         "name": "25795"
        },
        {
         "dtype": "object",
         "name": "25873"
        },
        {
         "dtype": "object",
         "name": "25938"
        },
        {
         "dtype": "object",
         "name": "25955"
        },
        {
         "dtype": "object",
         "name": "25976"
        },
        {
         "dtype": "object",
         "name": "2610"
        },
        {
         "dtype": "object",
         "name": "26138"
        },
        {
         "dtype": "object",
         "name": "26201"
        },
        {
         "dtype": "object",
         "name": "26203"
        },
        {
         "dtype": "object",
         "name": "26224"
        },
        {
         "dtype": "object",
         "name": "26241"
        },
        {
         "dtype": "object",
         "name": "2625"
        },
        {
         "dtype": "object",
         "name": "26281"
        },
        {
         "dtype": "object",
         "name": "26302"
        },
        {
         "dtype": "object",
         "name": "26325"
        },
        {
         "dtype": "object",
         "name": "26384"
        },
        {
         "dtype": "object",
         "name": "26466"
        },
        {
         "dtype": "object",
         "name": "26546"
        },
        {
         "dtype": "object",
         "name": "26548"
        },
        {
         "dtype": "object",
         "name": "26649"
        },
        {
         "dtype": "object",
         "name": "26651"
        },
        {
         "dtype": "object",
         "name": "26693"
        },
        {
         "dtype": "object",
         "name": "2671"
        },
        {
         "dtype": "object",
         "name": "26750"
        },
        {
         "dtype": "object",
         "name": "26754"
        },
        {
         "dtype": "object",
         "name": "26815"
        },
        {
         "dtype": "object",
         "name": "26893"
        },
        {
         "dtype": "object",
         "name": "2711"
        },
        {
         "dtype": "object",
         "name": "27242"
        },
        {
         "dtype": "object",
         "name": "27280"
        },
        {
         "dtype": "object",
         "name": "27284"
        },
        {
         "dtype": "object",
         "name": "27400"
        },
        {
         "dtype": "object",
         "name": "27423"
        },
        {
         "dtype": "object",
         "name": "27488"
        },
        {
         "dtype": "object",
         "name": "27528"
        },
        {
         "dtype": "object",
         "name": "27547"
        },
        {
         "dtype": "object",
         "name": "27587"
        },
        {
         "dtype": "object",
         "name": "27732"
        },
        {
         "dtype": "object",
         "name": "27751"
        },
        {
         "dtype": "object",
         "name": "27896"
        },
        {
         "dtype": "object",
         "name": "27997"
        },
        {
         "dtype": "object",
         "name": "28077"
        },
        {
         "dtype": "object",
         "name": "28096"
        },
        {
         "dtype": "object",
         "name": "28157"
        },
        {
         "dtype": "object",
         "name": "28262"
        },
        {
         "dtype": "object",
         "name": "28304"
        },
        {
         "dtype": "object",
         "name": "28319"
        },
        {
         "dtype": "object",
         "name": "28441"
        },
        {
         "dtype": "object",
         "name": "28466"
        },
        {
         "dtype": "object",
         "name": "28544"
        },
        {
         "dtype": "object",
         "name": "28586"
        },
        {
         "dtype": "object",
         "name": "28588"
        },
        {
         "dtype": "object",
         "name": "28626"
        },
        {
         "dtype": "object",
         "name": "28687"
        },
        {
         "dtype": "object",
         "name": "28872"
        },
        {
         "dtype": "object",
         "name": "28912"
        },
        {
         "dtype": "object",
         "name": "28935"
        },
        {
         "dtype": "object",
         "name": "28952"
        },
        {
         "dtype": "object",
         "name": "28956"
        },
        {
         "dtype": "object",
         "name": "28994"
        },
        {
         "dtype": "object",
         "name": "29074"
        },
        {
         "dtype": "object",
         "name": "29242"
        },
        {
         "dtype": "object",
         "name": "2932"
        },
        {
         "dtype": "object",
         "name": "29404"
        },
        {
         "dtype": "object",
         "name": "29425"
        },
        {
         "dtype": "object",
         "name": "29507"
        },
        {
         "dtype": "object",
         "name": "29524"
        },
        {
         "dtype": "object",
         "name": "29625"
        },
        {
         "dtype": "object",
         "name": "2972"
        },
        {
         "dtype": "object",
         "name": "2976"
        },
        {
         "dtype": "object",
         "name": "29789"
        },
        {
         "dtype": "object",
         "name": "29873"
        },
        {
         "dtype": "object",
         "name": "29894"
        },
        {
         "dtype": "object",
         "name": "29911"
        },
        {
         "dtype": "object",
         "name": "29953"
        },
        {
         "dtype": "object",
         "name": "2997"
        },
        {
         "dtype": "object",
         "name": "30012"
        },
        {
         "dtype": "object",
         "name": "3012"
        },
        {
         "dtype": "object",
         "name": "30176"
        },
        {
         "dtype": "object",
         "name": "3018"
        },
        {
         "dtype": "object",
         "name": "30180"
        },
        {
         "dtype": "object",
         "name": "30281"
        },
        {
         "dtype": "object",
         "name": "30319"
        },
        {
         "dtype": "object",
         "name": "30342"
        },
        {
         "dtype": "object",
         "name": "30363"
        },
        {
         "dtype": "object",
         "name": "30445"
        },
        {
         "dtype": "object",
         "name": "30462"
        },
        {
         "dtype": "object",
         "name": "30464"
        },
        {
         "dtype": "object",
         "name": "30506"
        },
        {
         "dtype": "object",
         "name": "30546"
        },
        {
         "dtype": "object",
         "name": "3056"
        },
        {
         "dtype": "object",
         "name": "30645"
        },
        {
         "dtype": "object",
         "name": "30687"
        },
        {
         "dtype": "object",
         "name": "30750"
        },
        {
         "dtype": "object",
         "name": "30849"
        },
        {
         "dtype": "object",
         "name": "30872"
        },
        {
         "dtype": "object",
         "name": "30889"
        },
        {
         "dtype": "object",
         "name": "30912"
        },
        {
         "dtype": "object",
         "name": "3094"
        },
        {
         "dtype": "object",
         "name": "3096"
        },
        {
         "dtype": "object",
         "name": "30971"
        },
        {
         "dtype": "object",
         "name": "30975"
        },
        {
         "dtype": "object",
         "name": "31053"
        },
        {
         "dtype": "object",
         "name": "31118"
        },
        {
         "dtype": "object",
         "name": "31135"
        },
        {
         "dtype": "object",
         "name": "31217"
        },
        {
         "dtype": "object",
         "name": "31236"
        },
        {
         "dtype": "object",
         "name": "31280"
        },
        {
         "dtype": "object",
         "name": "31301"
        },
        {
         "dtype": "object",
         "name": "31322"
        },
        {
         "dtype": "object",
         "name": "31339"
        },
        {
         "dtype": "object",
         "name": "31341"
        },
        {
         "dtype": "object",
         "name": "3136"
        },
        {
         "dtype": "object",
         "name": "31379"
        },
        {
         "dtype": "object",
         "name": "3140"
        },
        {
         "dtype": "object",
         "name": "31484"
        },
        {
         "dtype": "object",
         "name": "31566"
        },
        {
         "dtype": "object",
         "name": "3157"
        },
        {
         "dtype": "object",
         "name": "31625"
        },
        {
         "dtype": "object",
         "name": "3178"
        },
        {
         "dtype": "object",
         "name": "31791"
        },
        {
         "dtype": "object",
         "name": "3180"
        },
        {
         "dtype": "object",
         "name": "31848"
        },
        {
         "dtype": "object",
         "name": "31890"
        },
        {
         "dtype": "object",
         "name": "31909"
        },
        {
         "dtype": "object",
         "name": "31974"
        },
        {
         "dtype": "object",
         "name": "32014"
        },
        {
         "dtype": "object",
         "name": "32033"
        },
        {
         "dtype": "object",
         "name": "32056"
        },
        {
         "dtype": "object",
         "name": "3218"
        },
        {
         "dtype": "object",
         "name": "32195"
        },
        {
         "dtype": "object",
         "name": "32218"
        },
        {
         "dtype": "object",
         "name": "32260"
        },
        {
         "dtype": "object",
         "name": "32321"
        },
        {
         "dtype": "object",
         "name": "3239"
        },
        {
         "dtype": "object",
         "name": "3241"
        },
        {
         "dtype": "object",
         "name": "32422"
        },
        {
         "dtype": "object",
         "name": "32443"
        },
        {
         "dtype": "object",
         "name": "32500"
        },
        {
         "dtype": "object",
         "name": "32521"
        },
        {
         "dtype": "object",
         "name": "32626"
        },
        {
         "dtype": "object",
         "name": "32685"
        },
        {
         "dtype": "object",
         "name": "32708"
        },
        {
         "dtype": "object",
         "name": "32725"
        },
        {
         "dtype": "object",
         "name": "32729"
        },
        {
         "dtype": "object",
         "name": "32746"
        },
        {
         "dtype": "object",
         "name": "3279"
        },
        {
         "dtype": "object",
         "name": "32830"
        },
        {
         "dtype": "object",
         "name": "32912"
        },
        {
         "dtype": "object",
         "name": "32990"
        },
        {
         "dtype": "object",
         "name": "33032"
        },
        {
         "dtype": "object",
         "name": "33055"
        },
        {
         "dtype": "object",
         "name": "33095"
        },
        {
         "dtype": "object",
         "name": "33114"
        },
        {
         "dtype": "object",
         "name": "33156"
        },
        {
         "dtype": "object",
         "name": "33259"
        },
        {
         "dtype": "object",
         "name": "33299"
        },
        {
         "dtype": "object",
         "name": "33320"
        },
        {
         "dtype": "object",
         "name": "33360"
        },
        {
         "dtype": "object",
         "name": "33459"
        },
        {
         "dtype": "object",
         "name": "33583"
        },
        {
         "dtype": "object",
         "name": "33602"
        },
        {
         "dtype": "object",
         "name": "33625"
        },
        {
         "dtype": "object",
         "name": "33785"
        },
        {
         "dtype": "object",
         "name": "33846"
        },
        {
         "dtype": "object",
         "name": "33848"
        },
        {
         "dtype": "object",
         "name": "33909"
        },
        {
         "dtype": "object",
         "name": "34050"
        },
        {
         "dtype": "object",
         "name": "34071"
        },
        {
         "dtype": "object",
         "name": "_deepnote_index_column"
        }
       ],
       "row_count": 612,
       "rows": [
        {
         "10053": "0",
         "10154": "0",
         "10234": "0",
         "10257": "0",
         "10316": "0",
         "10335": "0",
         "1035": "0",
         "10438": "0",
         "10461": "0",
         "10522": "0",
         "10621": "0",
         "10684": "0",
         "1077": "0",
         "10783": "0",
         "10787": "0",
         "10827": "0",
         "10865": "0",
         "10905": "0",
         "10909": "0",
         "10926": "0",
         "10930": "0",
         "1100": "0",
         "11027": "0",
         "11090": "0",
         "11092": "0",
         "11113": "0",
         "11273": "0",
         "11317": "0",
         "11357": "0",
         "11374": "0",
         "11456": "0",
         "11460": "0",
         "11559": "0",
         "11660": "0",
         "11702": "0",
         "11725": "0",
         "11765": "0",
         "11986": "0",
         "1203": "0",
         "12133": "0",
         "122": "0",
         "12255": "0",
         "12272": "0",
         "12333": "0",
         "12396": "0",
         "12476": "0",
         "12598": "0",
         "1260": "0",
         "1262": "0",
         "1264": "0",
         "12724": "0",
         "12783": "0",
         "12802": "0",
         "12863": "0",
         "12989": "0",
         "13010": "0",
         "13029": "0",
         "13067": "0",
         "13071": "0",
         "13111": "0",
         "13170": "0",
         "13189": "0",
         "13193": "0",
         "13271": "0",
         "13292": "0",
         "13437": "0",
         "13456": "0",
         "13458": "0",
         "13479": "0",
         "13599": "0",
         "13639": "0",
         "13641": "0",
         "13744": "0",
         "13801": "0",
         "13843": "0",
         "13906": "0",
         "13923": "0",
         "14005": "0",
         "1403": "0",
         "14049": "0",
         "14066": "0",
         "1407": "0",
         "14131": "0",
         "14152": "0",
         "14213": "0",
         "14249": "0",
         "14270": "0",
         "14291": "0",
         "14373": "0",
         "14396": "0",
         "14417": "0",
         "14518": "0",
         "14535": "0",
         "14539": "0",
         "14600": "0",
         "14621": "0",
         "14657": "0",
         "14760": "0",
         "14804": "0",
         "14987": "0",
         "15090": "0",
         "15151": "0",
         "15168": "0",
         "15191": "0",
         "15229": "0",
         "15269": "0",
         "15273": "0",
         "1529": "0",
         "15355": "0",
         "15433": "0",
         "15538": "0",
         "15559": "0",
         "15576": "0",
         "15578": "0",
         "15616": "0",
         "15620": "0",
         "15660": "0",
         "1569": "0",
         "15719": "0",
         "15721": "0",
         "15740": "0",
         "15742": "0",
         "15780": "0",
         "15782": "0",
         "15860": "0",
         "1590": "0",
         "15963": "0",
         "160": "0",
         "16005": "0",
         "16028": "0",
         "16129": "0",
         "16150": "0",
         "16190": "0",
         "16245": "0",
         "16293": "0",
         "16354": "0",
         "16371": "0",
         "16497": "0",
         "16514": "0",
         "16558": "0",
         "16657": "0",
         "16659": "0",
         "16680": "0",
         "1672": "0",
         "16739": "0",
         "16779": "0",
         "16880": "0",
         "16899": "0",
         "16922": "0",
         "16962": "0",
         "17124": "0",
         "17170": "0",
         "17206": "0",
         "17227": "0",
         "17292": "0",
         "17431": "0",
         "17555": "0",
         "17597": "0",
         "17656": "0",
         "17696": "0",
         "17717": "0",
         "17801": "0",
         "17820": "0",
         "17822": "0",
         "179": "0",
         "17900": "0",
         "17904": "0",
         "17982": "0",
         "18066": "0",
         "18169": "0",
         "18230": "0",
         "18287": "0",
         "18291": "0",
         "18434": "0",
         "18554": "0",
         "18613": "0",
         "18638": "0",
         "18777": "0",
         "18903": "0",
         "18920": "0",
         "18941": "0",
         "18960": "0",
         "18981": "0",
         "19004": "0",
         "19103": "0",
         "1912": "0",
         "19143": "0",
         "19147": "0",
         "19164": "0",
         "19185": "0",
         "19267": "0",
         "19307": "0",
         "19311": "0",
         "1933": "0",
         "19347": "0",
         "19368": "0",
         "1937": "0",
         "19387": "0",
         "19412": "0",
         "19450": "0",
         "19553": "0",
         "19616": "0",
         "19677": "0",
         "19694": "0",
         "19698": "0",
         "19719": "0",
         "1975": "0",
         "19780": "0",
         "19816": "0",
         "19858": "0",
         "19881": "0",
         "19919": "0",
         "200": "0",
         "20020": "0",
         "20081": "0",
         "20142": "0",
         "2015": "0",
         "20184": "0",
         "20188": "0",
         "20207": "0",
         "20306": "0",
         "20310": "0",
         "20371": "0",
         "20428": "0",
         "2059": "0",
         "20613": "0",
         "20636": "0",
         "20653": "0",
         "20657": "0",
         "20775": "0",
         "20819": "0",
         "21019": "0",
         "21061": "0",
         "21084": "0",
         "21122": "0",
         "21126": "0",
         "21187": "0",
         "21204": "0",
         "21263": "0",
         "21265": "0",
         "21288": "0",
         "21305": "0",
         "21309": "0",
         "2141": "0",
         "21530": "0",
         "21656": "0",
         "21713": "0",
         "2177": "0",
         "21860": "0",
         "21877": "0",
         "21917": "0",
         "2202": "0",
         "22064": "0",
         "22081": "0",
         "22203": "0",
         "22226": "0",
         "22245": "0",
         "22247": "0",
         "22428": "0",
         "22430": "0",
         "22449": "0",
         "22512": "0",
         "22529": "0",
         "22594": "0",
         "22672": "0",
         "22716": "0",
         "22737": "0",
         "22876": "0",
         "22899": "0",
         "23103": "0",
         "23185": "0",
         "23202": "0",
         "23206": "0",
         "2322": "0",
         "23324": "0",
         "23425": "0",
         "23427": "0",
         "23429": "0",
         "2345": "0",
         "2362": "0",
         "23652": "0",
         "23654": "0",
         "23671": "0",
         "23675": "0",
         "23732": "0",
         "23772": "0",
         "2383": "0",
         "23833": "0",
         "23837": "0",
         "23858": "0",
         "23875": "0",
         "23940": "0",
         "24001": "0",
         "2404": "0",
         "24102": "0",
         "24121": "0",
         "24144": "0",
         "24163": "0",
         "24205": "0",
         "24323": "0",
         "24327": "0",
         "24365": "0",
         "24405": "0",
         "2446": "0",
         "24508": "0",
         "24548": "0",
         "24569": "0",
         "24590": "0",
         "24592": "0",
         "2467": "0",
         "24670": "0",
         "24775": "0",
         "24878": "0",
         "24897": "0",
         "25017": "0",
         "2505": "0",
         "2507": "0",
         "25181": "0",
         "25221": "0",
         "25244": "0",
         "25265": "0",
         "25343": "0",
         "25404": "0",
         "25408": "0",
         "25465": "0",
         "25568": "0",
         "25589": "0",
         "25711": "0",
         "25732": "0",
         "25755": "0",
         "25793": "0",
         "25795": "0",
         "25873": "0",
         "25938": "0",
         "25955": "0",
         "25976": "0",
         "2610": "0",
         "26138": "0",
         "26201": "0",
         "26203": "0",
         "26224": "0",
         "26241": "0",
         "2625": "0",
         "26281": "0",
         "26302": "0",
         "26325": "0",
         "26384": "0",
         "26466": "0",
         "26546": "0",
         "26548": "0",
         "26649": "0",
         "26651": "0",
         "26693": "0",
         "2671": "0",
         "26750": "0",
         "26754": "0",
         "26815": "0",
         "26893": "0",
         "2711": "0",
         "27242": "0",
         "27280": "0",
         "27284": "0",
         "27400": "0",
         "27423": "0",
         "27488": "0",
         "27528": "0",
         "27547": "0",
         "27587": "0",
         "27732": "0",
         "27751": "0",
         "27896": "0",
         "27997": "0",
         "28077": "0",
         "28096": "0",
         "28157": "0",
         "28262": "0",
         "28304": "0",
         "28319": "0",
         "28441": "0",
         "28466": "0",
         "28544": "0",
         "28586": "0",
         "28588": "0",
         "28626": "0",
         "28687": "0",
         "28872": "0",
         "28912": "0",
         "28935": "0",
         "28952": "0",
         "28956": "0",
         "28994": "0",
         "29074": "0",
         "29242": "0",
         "2932": "0",
         "29404": "0",
         "29425": "0",
         "29507": "0",
         "29524": "0",
         "29625": "0",
         "2972": "0",
         "2976": "0",
         "29789": "0",
         "29873": "0",
         "29894": "0",
         "29911": "0",
         "29953": "0",
         "2997": "0",
         "30012": "0",
         "3012": "0",
         "30176": "0",
         "3018": "0",
         "30180": "0",
         "30281": "0",
         "30319": "0",
         "30342": "0",
         "30363": "0",
         "30445": "0",
         "30462": "0",
         "30464": "0",
         "30506": "0",
         "30546": "0",
         "3056": "0",
         "30645": "0",
         "30687": "0",
         "30750": "0",
         "30849": "0",
         "30872": "0",
         "30889": "0",
         "30912": "0",
         "3094": "0",
         "3096": "0",
         "30971": "0",
         "30975": "0",
         "31053": "0",
         "31118": "0",
         "31135": "0",
         "31217": "0",
         "31236": "0",
         "31280": "0",
         "31301": "0",
         "31322": "0",
         "31339": "0",
         "31341": "0",
         "3136": "0",
         "31379": "0",
         "3140": "0",
         "31484": "0",
         "31566": "0",
         "3157": "0",
         "31625": "0",
         "3178": "0",
         "31791": "0",
         "3180": "0",
         "31848": "0",
         "31890": "0",
         "31909": "0",
         "31974": "0",
         "32014": "0",
         "32033": "0",
         "32056": "0",
         "3218": "0",
         "32195": "0",
         "32218": "0",
         "32260": "0",
         "32321": "0",
         "3239": "0",
         "3241": "0",
         "32422": "0",
         "32443": "0",
         "32500": "0",
         "32521": "0",
         "32626": "0",
         "32685": "0",
         "32708": "0",
         "32725": "0",
         "32729": "0",
         "32746": "0",
         "3279": "0",
         "32830": "0",
         "32912": "0",
         "32990": "0",
         "33032": "0",
         "33055": "0",
         "33095": "0",
         "33114": "0",
         "33156": "0",
         "33259": "0",
         "33299": "0",
         "33320": "0",
         "33360": "0",
         "33459": "0",
         "33583": "0",
         "33602": "0",
         "33625": "0",
         "33785": "0",
         "33846": "0",
         "33848": "0",
         "33909": "0",
         "34050": "0",
         "34071": "0",
         "_deepnote_index_column": "#FollowFriday (Thriller-MOVIE)"
        },
        {
         "10053": "0",
         "10154": "0",
         "10234": "0",
         "10257": "0",
         "10316": "0",
         "10335": "0",
         "1035": "0",
         "10438": "0",
         "10461": "0",
         "10522": "0",
         "10621": "0",
         "10684": "0",
         "1077": "0",
         "10783": "0",
         "10787": "0",
         "10827": "0",
         "10865": "0",
         "10905": "0",
         "10909": "0",
         "10926": "0",
         "10930": "0",
         "1100": "0",
         "11027": "0",
         "11090": "0",
         "11092": "0",
         "11113": "0",
         "11273": "0",
         "11317": "0",
         "11357": "0",
         "11374": "0",
         "11456": "0",
         "11460": "0",
         "11559": "0",
         "11660": "0",
         "11702": "0",
         "11725": "0",
         "11765": "0",
         "11986": "0",
         "1203": "0",
         "12133": "0",
         "122": "0",
         "12255": "0",
         "12272": "0",
         "12333": "0",
         "12396": "0",
         "12476": "0",
         "12598": "0",
         "1260": "0",
         "1262": "0",
         "1264": "0",
         "12724": "0",
         "12783": "0",
         "12802": "0",
         "12863": "0",
         "12989": "0",
         "13010": "0",
         "13029": "0",
         "13067": "0",
         "13071": "0",
         "13111": "0",
         "13170": "0",
         "13189": "0",
         "13193": "0",
         "13271": "0",
         "13292": "0",
         "13437": "0",
         "13456": "0",
         "13458": "0",
         "13479": "0",
         "13599": "0",
         "13639": "0",
         "13641": "0",
         "13744": "0",
         "13801": "0",
         "13843": "0",
         "13906": "0",
         "13923": "0",
         "14005": "0",
         "1403": "0",
         "14049": "0",
         "14066": "0",
         "1407": "0",
         "14131": "0",
         "14152": "0",
         "14213": "0",
         "14249": "0",
         "14270": "0",
         "14291": "0",
         "14373": "0",
         "14396": "0",
         "14417": "0",
         "14518": "0",
         "14535": "0",
         "14539": "0",
         "14600": "0",
         "14621": "0",
         "14657": "0",
         "14760": "0",
         "14804": "0",
         "14987": "0",
         "15090": "0",
         "15151": "0",
         "15168": "0",
         "15191": "0",
         "15229": "0",
         "15269": "0",
         "15273": "0",
         "1529": "0",
         "15355": "0",
         "15433": "0",
         "15538": "0",
         "15559": "0",
         "15576": "5.0",
         "15578": "0",
         "15616": "0",
         "15620": "0",
         "15660": "0",
         "1569": "0",
         "15719": "0",
         "15721": "0",
         "15740": "0",
         "15742": "0",
         "15780": "0",
         "15782": "0",
         "15860": "0",
         "1590": "0",
         "15963": "0",
         "160": "0",
         "16005": "0",
         "16028": "0",
         "16129": "0",
         "16150": "0",
         "16190": "0",
         "16245": "0",
         "16293": "0",
         "16354": "0",
         "16371": "0",
         "16497": "0",
         "16514": "0",
         "16558": "0",
         "16657": "0",
         "16659": "0",
         "16680": "0",
         "1672": "0",
         "16739": "0",
         "16779": "0",
         "16880": "0",
         "16899": "0",
         "16922": "0",
         "16962": "0",
         "17124": "0",
         "17170": "0",
         "17206": "0",
         "17227": "0",
         "17292": "0",
         "17431": "0",
         "17555": "0",
         "17597": "0",
         "17656": "0",
         "17696": "0",
         "17717": "0",
         "17801": "0",
         "17820": "0",
         "17822": "0",
         "179": "0",
         "17900": "0",
         "17904": "0",
         "17982": "0",
         "18066": "0",
         "18169": "0",
         "18230": "0",
         "18287": "0",
         "18291": "0",
         "18434": "0",
         "18554": "0",
         "18613": "0",
         "18638": "0",
         "18777": "0",
         "18903": "0",
         "18920": "0",
         "18941": "0",
         "18960": "0",
         "18981": "0",
         "19004": "0",
         "19103": "0",
         "1912": "0",
         "19143": "0",
         "19147": "0",
         "19164": "0",
         "19185": "0",
         "19267": "0",
         "19307": "0",
         "19311": "0",
         "1933": "0",
         "19347": "0",
         "19368": "0",
         "1937": "0",
         "19387": "0",
         "19412": "0",
         "19450": "0",
         "19553": "0",
         "19616": "0",
         "19677": "0",
         "19694": "0",
         "19698": "0",
         "19719": "0",
         "1975": "0",
         "19780": "0",
         "19816": "0",
         "19858": "0",
         "19881": "0",
         "19919": "0",
         "200": "0",
         "20020": "0",
         "20081": "0",
         "20142": "0",
         "2015": "0",
         "20184": "0",
         "20188": "0",
         "20207": "0",
         "20306": "0",
         "20310": "0",
         "20371": "0",
         "20428": "0",
         "2059": "0",
         "20613": "0",
         "20636": "0",
         "20653": "0",
         "20657": "0",
         "20775": "0",
         "20819": "0",
         "21019": "0",
         "21061": "0",
         "21084": "0",
         "21122": "0",
         "21126": "0",
         "21187": "0",
         "21204": "0",
         "21263": "0",
         "21265": "0",
         "21288": "0",
         "21305": "0",
         "21309": "0",
         "2141": "0",
         "21530": "0",
         "21656": "0",
         "21713": "0",
         "2177": "0",
         "21860": "0",
         "21877": "0",
         "21917": "0",
         "2202": "0",
         "22064": "0",
         "22081": "0",
         "22203": "0",
         "22226": "0",
         "22245": "0",
         "22247": "0",
         "22428": "0",
         "22430": "0",
         "22449": "0",
         "22512": "0",
         "22529": "0",
         "22594": "0",
         "22672": "0",
         "22716": "0",
         "22737": "0",
         "22876": "0",
         "22899": "0",
         "23103": "0",
         "23185": "0",
         "23202": "0",
         "23206": "0",
         "2322": "0",
         "23324": "0",
         "23425": "0",
         "23427": "0",
         "23429": "0",
         "2345": "0",
         "2362": "0",
         "23652": "0",
         "23654": "0",
         "23671": "0",
         "23675": "0",
         "23732": "0",
         "23772": "0",
         "2383": "0",
         "23833": "0",
         "23837": "0",
         "23858": "0",
         "23875": "0",
         "23940": "0",
         "24001": "0",
         "2404": "0",
         "24102": "0",
         "24121": "0",
         "24144": "0",
         "24163": "0",
         "24205": "0",
         "24323": "0",
         "24327": "0",
         "24365": "0",
         "24405": "0",
         "2446": "0",
         "24508": "0",
         "24548": "0",
         "24569": "0",
         "24590": "0",
         "24592": "0",
         "2467": "0",
         "24670": "0",
         "24775": "0",
         "24878": "0",
         "24897": "0",
         "25017": "0",
         "2505": "0",
         "2507": "0",
         "25181": "0",
         "25221": "0",
         "25244": "0",
         "25265": "0",
         "25343": "0",
         "25404": "0",
         "25408": "0",
         "25465": "0",
         "25568": "0",
         "25589": "0",
         "25711": "0",
         "25732": "0",
         "25755": "0",
         "25793": "0",
         "25795": "0",
         "25873": "0",
         "25938": "0",
         "25955": "0",
         "25976": "0",
         "2610": "0",
         "26138": "0",
         "26201": "0",
         "26203": "0",
         "26224": "0",
         "26241": "0",
         "2625": "0",
         "26281": "0",
         "26302": "0",
         "26325": "0",
         "26384": "0",
         "26466": "0",
         "26546": "0",
         "26548": "0",
         "26649": "0",
         "26651": "0",
         "26693": "0",
         "2671": "0",
         "26750": "0",
         "26754": "0",
         "26815": "0",
         "26893": "0",
         "2711": "0",
         "27242": "0",
         "27280": "0",
         "27284": "0",
         "27400": "0",
         "27423": "0",
         "27488": "0",
         "27528": "0",
         "27547": "0",
         "27587": "0",
         "27732": "0",
         "27751": "0",
         "27896": "0",
         "27997": "0",
         "28077": "0",
         "28096": "0",
         "28157": "0",
         "28262": "0",
         "28304": "0",
         "28319": "0",
         "28441": "0",
         "28466": "0",
         "28544": "0",
         "28586": "0",
         "28588": "0",
         "28626": "0",
         "28687": "0",
         "28872": "0",
         "28912": "0",
         "28935": "0",
         "28952": "0",
         "28956": "0",
         "28994": "0",
         "29074": "0",
         "29242": "0",
         "2932": "0",
         "29404": "0",
         "29425": "0",
         "29507": "0",
         "29524": "0",
         "29625": "0",
         "2972": "0",
         "2976": "0",
         "29789": "0",
         "29873": "0",
         "29894": "0",
         "29911": "0",
         "29953": "0",
         "2997": "0",
         "30012": "0",
         "3012": "0",
         "30176": "0",
         "3018": "0",
         "30180": "0",
         "30281": "0",
         "30319": "0",
         "30342": "0",
         "30363": "0",
         "30445": "0",
         "30462": "0",
         "30464": "0",
         "30506": "0",
         "30546": "0",
         "3056": "0",
         "30645": "0",
         "30687": "0",
         "30750": "0",
         "30849": "0",
         "30872": "0",
         "30889": "0",
         "30912": "0",
         "3094": "0",
         "3096": "0",
         "30971": "0",
         "30975": "0",
         "31053": "0",
         "31118": "0",
         "31135": "0",
         "31217": "0",
         "31236": "0",
         "31280": "0",
         "31301": "0",
         "31322": "0",
         "31339": "0",
         "31341": "0",
         "3136": "0",
         "31379": "0",
         "3140": "0",
         "31484": "0",
         "31566": "0",
         "3157": "0",
         "31625": "0",
         "3178": "0",
         "31791": "0",
         "3180": "0",
         "31848": "0",
         "31890": "0",
         "31909": "0",
         "31974": "0",
         "32014": "0",
         "32033": "0",
         "32056": "0",
         "3218": "0",
         "32195": "0",
         "32218": "0",
         "32260": "0",
         "32321": "0",
         "3239": "0",
         "3241": "0",
         "32422": "0",
         "32443": "0",
         "32500": "0",
         "32521": "0",
         "32626": "0",
         "32685": "0",
         "32708": "0",
         "32725": "0",
         "32729": "0",
         "32746": "0",
         "3279": "0",
         "32830": "0",
         "32912": "0",
         "32990": "0",
         "33032": "0",
         "33055": "0",
         "33095": "0",
         "33114": "0",
         "33156": "0",
         "33259": "0",
         "33299": "0",
         "33320": "0",
         "33360": "0",
         "33459": "0",
         "33583": "0",
         "33602": "0",
         "33625": "0",
         "33785": "0",
         "33846": "0",
         "33848": "0",
         "33909": "0",
         "34050": "0",
         "34071": "0",
         "_deepnote_index_column": "10 Days in a Madhouse (Thriller-MOVIE)"
        },
        {
         "10053": "0",
         "10154": "0",
         "10234": "0",
         "10257": "0",
         "10316": "0",
         "10335": "0",
         "1035": "0",
         "10438": "0",
         "10461": "0",
         "10522": "0",
         "10621": "0",
         "10684": "0",
         "1077": "0",
         "10783": "0",
         "10787": "0",
         "10827": "0",
         "10865": "0",
         "10905": "0",
         "10909": "0",
         "10926": "0",
         "10930": "0",
         "1100": "0",
         "11027": "0",
         "11090": "0",
         "11092": "0",
         "11113": "0",
         "11273": "0",
         "11317": "0",
         "11357": "0",
         "11374": "0",
         "11456": "0",
         "11460": "0",
         "11559": "0",
         "11660": "0",
         "11702": "0",
         "11725": "0",
         "11765": "0",
         "11986": "0",
         "1203": "0",
         "12133": "0",
         "122": "0",
         "12255": "0",
         "12272": "0",
         "12333": "0",
         "12396": "0",
         "12476": "0",
         "12598": "0",
         "1260": "0",
         "1262": "0",
         "1264": "0",
         "12724": "0",
         "12783": "0",
         "12802": "0",
         "12863": "0",
         "12989": "0",
         "13010": "0",
         "13029": "0",
         "13067": "0",
         "13071": "0",
         "13111": "0",
         "13170": "0",
         "13189": "0",
         "13193": "0",
         "13271": "0",
         "13292": "0",
         "13437": "0",
         "13456": "0",
         "13458": "0",
         "13479": "0",
         "13599": "0",
         "13639": "0",
         "13641": "0",
         "13744": "0",
         "13801": "0",
         "13843": "0",
         "13906": "0",
         "13923": "0",
         "14005": "0",
         "1403": "0",
         "14049": "0",
         "14066": "0",
         "1407": "0",
         "14131": "0",
         "14152": "0",
         "14213": "0",
         "14249": "0",
         "14270": "0",
         "14291": "0",
         "14373": "0",
         "14396": "0",
         "14417": "0",
         "14518": "0",
         "14535": "0",
         "14539": "0",
         "14600": "0",
         "14621": "0",
         "14657": "0",
         "14760": "0",
         "14804": "0",
         "14987": "0",
         "15090": "0",
         "15151": "0",
         "15168": "1.0",
         "15191": "0",
         "15229": "0",
         "15269": "0",
         "15273": "0",
         "1529": "0",
         "15355": "0",
         "15433": "0",
         "15538": "0",
         "15559": "0",
         "15576": "0",
         "15578": "0",
         "15616": "0",
         "15620": "0",
         "15660": "0",
         "1569": "0",
         "15719": "0",
         "15721": "0",
         "15740": "0",
         "15742": "0",
         "15780": "0",
         "15782": "0",
         "15860": "0",
         "1590": "0",
         "15963": "0",
         "160": "0",
         "16005": "0",
         "16028": "0",
         "16129": "0",
         "16150": "0",
         "16190": "0",
         "16245": "0",
         "16293": "0",
         "16354": "0",
         "16371": "0",
         "16497": "0",
         "16514": "0",
         "16558": "0",
         "16657": "0",
         "16659": "0",
         "16680": "0",
         "1672": "0",
         "16739": "0",
         "16779": "0",
         "16880": "0",
         "16899": "0",
         "16922": "0",
         "16962": "0",
         "17124": "0",
         "17170": "0",
         "17206": "0",
         "17227": "0",
         "17292": "0",
         "17431": "0",
         "17555": "0",
         "17597": "0",
         "17656": "0",
         "17696": "0",
         "17717": "0",
         "17801": "0",
         "17820": "0",
         "17822": "0",
         "179": "0",
         "17900": "0",
         "17904": "0",
         "17982": "0",
         "18066": "0",
         "18169": "0",
         "18230": "0",
         "18287": "0",
         "18291": "0",
         "18434": "0",
         "18554": "0",
         "18613": "0",
         "18638": "0",
         "18777": "0",
         "18903": "0",
         "18920": "0",
         "18941": "0",
         "18960": "0",
         "18981": "0",
         "19004": "0",
         "19103": "0",
         "1912": "0",
         "19143": "0",
         "19147": "0",
         "19164": "0",
         "19185": "0",
         "19267": "0",
         "19307": "0",
         "19311": "0",
         "1933": "0",
         "19347": "0",
         "19368": "0",
         "1937": "0",
         "19387": "0",
         "19412": "0",
         "19450": "0",
         "19553": "0",
         "19616": "0",
         "19677": "0",
         "19694": "0",
         "19698": "0",
         "19719": "0",
         "1975": "0",
         "19780": "0",
         "19816": "0",
         "19858": "0",
         "19881": "0",
         "19919": "0",
         "200": "0",
         "20020": "0",
         "20081": "0",
         "20142": "0",
         "2015": "0",
         "20184": "0",
         "20188": "0",
         "20207": "0",
         "20306": "0",
         "20310": "0",
         "20371": "0",
         "20428": "0",
         "2059": "0",
         "20613": "0",
         "20636": "0",
         "20653": "0",
         "20657": "0",
         "20775": "0",
         "20819": "0",
         "21019": "0",
         "21061": "0",
         "21084": "0",
         "21122": "0",
         "21126": "0",
         "21187": "0",
         "21204": "0",
         "21263": "0",
         "21265": "0",
         "21288": "0",
         "21305": "0",
         "21309": "0",
         "2141": "0",
         "21530": "0",
         "21656": "0",
         "21713": "0",
         "2177": "0",
         "21860": "0",
         "21877": "0",
         "21917": "0",
         "2202": "0",
         "22064": "0",
         "22081": "0",
         "22203": "0",
         "22226": "0",
         "22245": "0",
         "22247": "0",
         "22428": "0",
         "22430": "0",
         "22449": "0",
         "22512": "0",
         "22529": "0",
         "22594": "0",
         "22672": "0",
         "22716": "0",
         "22737": "0",
         "22876": "0",
         "22899": "0",
         "23103": "0",
         "23185": "0",
         "23202": "0",
         "23206": "0",
         "2322": "0",
         "23324": "0",
         "23425": "0",
         "23427": "0",
         "23429": "0",
         "2345": "0",
         "2362": "0",
         "23652": "0",
         "23654": "0",
         "23671": "0",
         "23675": "0",
         "23732": "0",
         "23772": "0",
         "2383": "0",
         "23833": "0",
         "23837": "0",
         "23858": "0",
         "23875": "0",
         "23940": "0",
         "24001": "0",
         "2404": "0",
         "24102": "0",
         "24121": "0",
         "24144": "0",
         "24163": "0",
         "24205": "0",
         "24323": "0",
         "24327": "0",
         "24365": "0",
         "24405": "0",
         "2446": "4.0",
         "24508": "0",
         "24548": "0",
         "24569": "0",
         "24590": "0",
         "24592": "0",
         "2467": "0",
         "24670": "0",
         "24775": "0",
         "24878": "0",
         "24897": "0",
         "25017": "0",
         "2505": "0",
         "2507": "0",
         "25181": "0",
         "25221": "2.0",
         "25244": "0",
         "25265": "0",
         "25343": "0",
         "25404": "0",
         "25408": "0",
         "25465": "0",
         "25568": "0",
         "25589": "0",
         "25711": "0",
         "25732": "0",
         "25755": "0",
         "25793": "0",
         "25795": "0",
         "25873": "0",
         "25938": "0",
         "25955": "0",
         "25976": "0",
         "2610": "0",
         "26138": "2.0",
         "26201": "0",
         "26203": "0",
         "26224": "0",
         "26241": "0",
         "2625": "0",
         "26281": "0",
         "26302": "0",
         "26325": "0",
         "26384": "0",
         "26466": "0",
         "26546": "0",
         "26548": "0",
         "26649": "0",
         "26651": "0",
         "26693": "0",
         "2671": "0",
         "26750": "0",
         "26754": "0",
         "26815": "0",
         "26893": "0",
         "2711": "0",
         "27242": "0",
         "27280": "0",
         "27284": "0",
         "27400": "0",
         "27423": "0",
         "27488": "0",
         "27528": "0",
         "27547": "0",
         "27587": "0",
         "27732": "0",
         "27751": "0",
         "27896": "0",
         "27997": "0",
         "28077": "0",
         "28096": "0",
         "28157": "0",
         "28262": "0",
         "28304": "0",
         "28319": "0",
         "28441": "0",
         "28466": "0",
         "28544": "0",
         "28586": "0",
         "28588": "0",
         "28626": "0",
         "28687": "0",
         "28872": "0",
         "28912": "0",
         "28935": "0",
         "28952": "0",
         "28956": "0",
         "28994": "0",
         "29074": "0",
         "29242": "0",
         "2932": "0",
         "29404": "0",
         "29425": "0",
         "29507": "0",
         "29524": "0",
         "29625": "0",
         "2972": "0",
         "2976": "0",
         "29789": "0",
         "29873": "0",
         "29894": "0",
         "29911": "5.0",
         "29953": "0",
         "2997": "0",
         "30012": "0",
         "3012": "0",
         "30176": "0",
         "3018": "0",
         "30180": "0",
         "30281": "0",
         "30319": "0",
         "30342": "0",
         "30363": "0",
         "30445": "0",
         "30462": "0",
         "30464": "0",
         "30506": "0",
         "30546": "0",
         "3056": "0",
         "30645": "0",
         "30687": "0",
         "30750": "0",
         "30849": "0",
         "30872": "0",
         "30889": "0",
         "30912": "0",
         "3094": "0",
         "3096": "0",
         "30971": "0",
         "30975": "0",
         "31053": "0",
         "31118": "0",
         "31135": "0",
         "31217": "0",
         "31236": "0",
         "31280": "0",
         "31301": "0",
         "31322": "0",
         "31339": "0",
         "31341": "0",
         "3136": "0",
         "31379": "0",
         "3140": "0",
         "31484": "0",
         "31566": "0",
         "3157": "0",
         "31625": "0",
         "3178": "0",
         "31791": "0",
         "3180": "0",
         "31848": "0",
         "31890": "0",
         "31909": "0",
         "31974": "0",
         "32014": "0",
         "32033": "0",
         "32056": "0",
         "3218": "0",
         "32195": "0",
         "32218": "0",
         "32260": "0",
         "32321": "0",
         "3239": "0",
         "3241": "0",
         "32422": "0",
         "32443": "0",
         "32500": "0",
         "32521": "0",
         "32626": "0",
         "32685": "0",
         "32708": "0",
         "32725": "0",
         "32729": "0",
         "32746": "0",
         "3279": "0",
         "32830": "0",
         "32912": "0",
         "32990": "0",
         "33032": "0",
         "33055": "0",
         "33095": "0",
         "33114": "0",
         "33156": "0",
         "33259": "0",
         "33299": "0",
         "33320": "0",
         "33360": "0",
         "33459": "0",
         "33583": "0",
         "33602": "0",
         "33625": "0",
         "33785": "0",
         "33846": "0",
         "33848": "0",
         "33909": "0",
         "34050": "0",
         "34071": "0",
         "_deepnote_index_column": "100 treets (Drama-MOVIE)"
        },
        {
         "10053": "0",
         "10154": "0",
         "10234": "0",
         "10257": "0",
         "10316": "0",
         "10335": "0",
         "1035": "0",
         "10438": "0",
         "10461": "0",
         "10522": "0",
         "10621": "0",
         "10684": "0",
         "1077": "0",
         "10783": "0",
         "10787": "0",
         "10827": "0",
         "10865": "0",
         "10905": "0",
         "10909": "0",
         "10926": "0",
         "10930": "0",
         "1100": "0",
         "11027": "0",
         "11090": "0",
         "11092": "0",
         "11113": "0",
         "11273": "0",
         "11317": "0",
         "11357": "0",
         "11374": "0",
         "11456": "0",
         "11460": "0",
         "11559": "0",
         "11660": "0",
         "11702": "0",
         "11725": "0",
         "11765": "0",
         "11986": "0",
         "1203": "0",
         "12133": "0",
         "122": "0",
         "12255": "0",
         "12272": "0",
         "12333": "0",
         "12396": "0",
         "12476": "0",
         "12598": "0",
         "1260": "0",
         "1262": "0",
         "1264": "0",
         "12724": "0",
         "12783": "0",
         "12802": "0",
         "12863": "0",
         "12989": "0",
         "13010": "0",
         "13029": "0",
         "13067": "0",
         "13071": "0",
         "13111": "0",
         "13170": "0",
         "13189": "0",
         "13193": "0",
         "13271": "0",
         "13292": "0",
         "13437": "0",
         "13456": "0",
         "13458": "0",
         "13479": "0",
         "13599": "0",
         "13639": "0",
         "13641": "0",
         "13744": "0",
         "13801": "0",
         "13843": "0",
         "13906": "0",
         "13923": "0",
         "14005": "0",
         "1403": "0",
         "14049": "0",
         "14066": "0",
         "1407": "0",
         "14131": "0",
         "14152": "0",
         "14213": "0",
         "14249": "0",
         "14270": "0",
         "14291": "0",
         "14373": "0",
         "14396": "0",
         "14417": "0",
         "14518": "0",
         "14535": "0",
         "14539": "0",
         "14600": "0",
         "14621": "0",
         "14657": "0",
         "14760": "0",
         "14804": "0",
         "14987": "0",
         "15090": "0",
         "15151": "0",
         "15168": "0",
         "15191": "0",
         "15229": "0",
         "15269": "0",
         "15273": "0",
         "1529": "0",
         "15355": "0",
         "15433": "0",
         "15538": "0",
         "15559": "0",
         "15576": "0",
         "15578": "0",
         "15616": "0",
         "15620": "0",
         "15660": "0",
         "1569": "0",
         "15719": "0",
         "15721": "0",
         "15740": "0",
         "15742": "0",
         "15780": "0",
         "15782": "0",
         "15860": "0",
         "1590": "0",
         "15963": "0",
         "160": "0",
         "16005": "0",
         "16028": "0",
         "16129": "0",
         "16150": "0",
         "16190": "0",
         "16245": "0",
         "16293": "0",
         "16354": "0",
         "16371": "0",
         "16497": "0",
         "16514": "0",
         "16558": "0",
         "16657": "0",
         "16659": "0",
         "16680": "0",
         "1672": "0",
         "16739": "0",
         "16779": "0",
         "16880": "0",
         "16899": "0",
         "16922": "0",
         "16962": "0",
         "17124": "0",
         "17170": "0",
         "17206": "0",
         "17227": "0",
         "17292": "0",
         "17431": "0",
         "17555": "0",
         "17597": "0",
         "17656": "0",
         "17696": "0",
         "17717": "0",
         "17801": "0",
         "17820": "0",
         "17822": "0",
         "179": "0",
         "17900": "0",
         "17904": "0",
         "17982": "0",
         "18066": "0",
         "18169": "0",
         "18230": "0",
         "18287": "0",
         "18291": "0",
         "18434": "0",
         "18554": "0",
         "18613": "0",
         "18638": "0",
         "18777": "0",
         "18903": "0",
         "18920": "0",
         "18941": "0",
         "18960": "0",
         "18981": "0",
         "19004": "0",
         "19103": "0",
         "1912": "0",
         "19143": "0",
         "19147": "0",
         "19164": "0",
         "19185": "0",
         "19267": "0",
         "19307": "0",
         "19311": "0",
         "1933": "0",
         "19347": "0",
         "19368": "0",
         "1937": "0",
         "19387": "0",
         "19412": "0",
         "19450": "0",
         "19553": "0",
         "19616": "0",
         "19677": "0",
         "19694": "0",
         "19698": "0",
         "19719": "0",
         "1975": "0",
         "19780": "0",
         "19816": "0",
         "19858": "0",
         "19881": "0",
         "19919": "0",
         "200": "0",
         "20020": "0",
         "20081": "0",
         "20142": "0",
         "2015": "0",
         "20184": "0",
         "20188": "0",
         "20207": "0",
         "20306": "0",
         "20310": "0",
         "20371": "0",
         "20428": "0",
         "2059": "0",
         "20613": "0",
         "20636": "0",
         "20653": "0",
         "20657": "0",
         "20775": "0",
         "20819": "0",
         "21019": "0",
         "21061": "0",
         "21084": "0",
         "21122": "0",
         "21126": "0",
         "21187": "0",
         "21204": "0",
         "21263": "0",
         "21265": "0",
         "21288": "0",
         "21305": "0",
         "21309": "0",
         "2141": "0",
         "21530": "0",
         "21656": "0",
         "21713": "0",
         "2177": "0",
         "21860": "0",
         "21877": "0",
         "21917": "0",
         "2202": "0",
         "22064": "0",
         "22081": "0",
         "22203": "0",
         "22226": "0",
         "22245": "0",
         "22247": "0",
         "22428": "0",
         "22430": "0",
         "22449": "0",
         "22512": "0",
         "22529": "0",
         "22594": "0",
         "22672": "0",
         "22716": "0",
         "22737": "0",
         "22876": "0",
         "22899": "0",
         "23103": "0",
         "23185": "0",
         "23202": "0",
         "23206": "0",
         "2322": "0",
         "23324": "0",
         "23425": "5.0",
         "23427": "0",
         "23429": "0",
         "2345": "0",
         "2362": "0",
         "23652": "0",
         "23654": "0",
         "23671": "0",
         "23675": "0",
         "23732": "0",
         "23772": "0",
         "2383": "0",
         "23833": "0",
         "23837": "0",
         "23858": "0",
         "23875": "0",
         "23940": "0",
         "24001": "0",
         "2404": "0",
         "24102": "0",
         "24121": "0",
         "24144": "0",
         "24163": "0",
         "24205": "0",
         "24323": "0",
         "24327": "0",
         "24365": "0",
         "24405": "0",
         "2446": "0",
         "24508": "0",
         "24548": "0",
         "24569": "0",
         "24590": "0",
         "24592": "0",
         "2467": "0",
         "24670": "0",
         "24775": "0",
         "24878": "0",
         "24897": "0",
         "25017": "0",
         "2505": "0",
         "2507": "0",
         "25181": "0",
         "25221": "0",
         "25244": "0",
         "25265": "0",
         "25343": "0",
         "25404": "0",
         "25408": "0",
         "25465": "0",
         "25568": "0",
         "25589": "0",
         "25711": "0",
         "25732": "0",
         "25755": "0",
         "25793": "0",
         "25795": "0",
         "25873": "0",
         "25938": "0",
         "25955": "0",
         "25976": "0",
         "2610": "0",
         "26138": "0",
         "26201": "0",
         "26203": "0",
         "26224": "0",
         "26241": "0",
         "2625": "0",
         "26281": "0",
         "26302": "0",
         "26325": "0",
         "26384": "0",
         "26466": "0",
         "26546": "0",
         "26548": "0",
         "26649": "0",
         "26651": "0",
         "26693": "0",
         "2671": "0",
         "26750": "0",
         "26754": "0",
         "26815": "0",
         "26893": "0",
         "2711": "0",
         "27242": "0",
         "27280": "0",
         "27284": "0",
         "27400": "0",
         "27423": "0",
         "27488": "0",
         "27528": "0",
         "27547": "0",
         "27587": "0",
         "27732": "0",
         "27751": "0",
         "27896": "0",
         "27997": "0",
         "28077": "0",
         "28096": "0",
         "28157": "0",
         "28262": "0",
         "28304": "0",
         "28319": "0",
         "28441": "0",
         "28466": "0",
         "28544": "0",
         "28586": "0",
         "28588": "0",
         "28626": "0",
         "28687": "0",
         "28872": "0",
         "28912": "0",
         "28935": "0",
         "28952": "0",
         "28956": "0",
         "28994": "0",
         "29074": "0",
         "29242": "0",
         "2932": "0",
         "29404": "0",
         "29425": "0",
         "29507": "0",
         "29524": "0",
         "29625": "0",
         "2972": "0",
         "2976": "0",
         "29789": "0",
         "29873": "0",
         "29894": "0",
         "29911": "0",
         "29953": "0",
         "2997": "0",
         "30012": "0",
         "3012": "0",
         "30176": "0",
         "3018": "0",
         "30180": "0",
         "30281": "0",
         "30319": "0",
         "30342": "0",
         "30363": "0",
         "30445": "0",
         "30462": "0",
         "30464": "0",
         "30506": "0",
         "30546": "0",
         "3056": "0",
         "30645": "0",
         "30687": "0",
         "30750": "0",
         "30849": "0",
         "30872": "0",
         "30889": "0",
         "30912": "0",
         "3094": "0",
         "3096": "0",
         "30971": "0",
         "30975": "0",
         "31053": "0",
         "31118": "0",
         "31135": "0",
         "31217": "0",
         "31236": "0",
         "31280": "0",
         "31301": "0",
         "31322": "0",
         "31339": "0",
         "31341": "0",
         "3136": "0",
         "31379": "0",
         "3140": "0",
         "31484": "0",
         "31566": "0",
         "3157": "0",
         "31625": "0",
         "3178": "0",
         "31791": "0",
         "3180": "0",
         "31848": "0",
         "31890": "0",
         "31909": "0",
         "31974": "0",
         "32014": "0",
         "32033": "0",
         "32056": "0",
         "3218": "0",
         "32195": "0",
         "32218": "0",
         "32260": "0",
         "32321": "0",
         "3239": "0",
         "3241": "0",
         "32422": "0",
         "32443": "0",
         "32500": "0",
         "32521": "0",
         "32626": "0",
         "32685": "0",
         "32708": "0",
         "32725": "0",
         "32729": "0",
         "32746": "0",
         "3279": "0",
         "32830": "0",
         "32912": "0",
         "32990": "0",
         "33032": "0",
         "33055": "0",
         "33095": "0",
         "33114": "0",
         "33156": "0",
         "33259": "0",
         "33299": "0",
         "33320": "0",
         "33360": "0",
         "33459": "0",
         "33583": "0",
         "33602": "0",
         "33625": "0",
         "33785": "0",
         "33846": "0",
         "33848": "0",
         "33909": "0",
         "34050": "0",
         "34071": "0",
         "_deepnote_index_column": "101 Dalmatians (Family-MOVIE)"
        },
        {
         "10053": "0",
         "10154": "0",
         "10234": "0",
         "10257": "0",
         "10316": "0",
         "10335": "0",
         "1035": "0",
         "10438": "0",
         "10461": "0",
         "10522": "0",
         "10621": "0",
         "10684": "0",
         "1077": "0",
         "10783": "0",
         "10787": "0",
         "10827": "0",
         "10865": "5.0",
         "10905": "0",
         "10909": "0",
         "10926": "0",
         "10930": "0",
         "1100": "0",
         "11027": "0",
         "11090": "0",
         "11092": "0",
         "11113": "0",
         "11273": "0",
         "11317": "0",
         "11357": "0",
         "11374": "0",
         "11456": "0",
         "11460": "0",
         "11559": "0",
         "11660": "0",
         "11702": "0",
         "11725": "0",
         "11765": "0",
         "11986": "0",
         "1203": "0",
         "12133": "0",
         "122": "0",
         "12255": "0",
         "12272": "0",
         "12333": "0",
         "12396": "0",
         "12476": "0",
         "12598": "0",
         "1260": "0",
         "1262": "0",
         "1264": "0",
         "12724": "0",
         "12783": "0",
         "12802": "0",
         "12863": "0",
         "12989": "0",
         "13010": "0",
         "13029": "0",
         "13067": "0",
         "13071": "0",
         "13111": "0",
         "13170": "0",
         "13189": "0",
         "13193": "0",
         "13271": "0",
         "13292": "0",
         "13437": "0",
         "13456": "0",
         "13458": "0",
         "13479": "0",
         "13599": "0",
         "13639": "0",
         "13641": "0",
         "13744": "0",
         "13801": "0",
         "13843": "0",
         "13906": "0",
         "13923": "0",
         "14005": "0",
         "1403": "0",
         "14049": "0",
         "14066": "0",
         "1407": "0",
         "14131": "0",
         "14152": "0",
         "14213": "0",
         "14249": "0",
         "14270": "0",
         "14291": "0",
         "14373": "0",
         "14396": "0",
         "14417": "0",
         "14518": "0",
         "14535": "0",
         "14539": "0",
         "14600": "0",
         "14621": "0",
         "14657": "0",
         "14760": "0",
         "14804": "0",
         "14987": "0",
         "15090": "0",
         "15151": "0",
         "15168": "0",
         "15191": "0",
         "15229": "0",
         "15269": "0",
         "15273": "0",
         "1529": "0",
         "15355": "0",
         "15433": "0",
         "15538": "0",
         "15559": "0",
         "15576": "0",
         "15578": "0",
         "15616": "0",
         "15620": "0",
         "15660": "0",
         "1569": "0",
         "15719": "0",
         "15721": "0",
         "15740": "0",
         "15742": "0",
         "15780": "0",
         "15782": "0",
         "15860": "0",
         "1590": "0",
         "15963": "0",
         "160": "0",
         "16005": "0",
         "16028": "0",
         "16129": "0",
         "16150": "0",
         "16190": "0",
         "16245": "0",
         "16293": "0",
         "16354": "0",
         "16371": "0",
         "16497": "0",
         "16514": "0",
         "16558": "0",
         "16657": "0",
         "16659": "0",
         "16680": "0",
         "1672": "0",
         "16739": "0",
         "16779": "0",
         "16880": "0",
         "16899": "0",
         "16922": "0",
         "16962": "0",
         "17124": "0",
         "17170": "0",
         "17206": "0",
         "17227": "0",
         "17292": "0",
         "17431": "0",
         "17555": "0",
         "17597": "0",
         "17656": "0",
         "17696": "0",
         "17717": "0",
         "17801": "0",
         "17820": "0",
         "17822": "0",
         "179": "0",
         "17900": "0",
         "17904": "0",
         "17982": "0",
         "18066": "0",
         "18169": "0",
         "18230": "0",
         "18287": "0",
         "18291": "0",
         "18434": "0",
         "18554": "0",
         "18613": "0",
         "18638": "0",
         "18777": "0",
         "18903": "0",
         "18920": "0",
         "18941": "0",
         "18960": "0",
         "18981": "0",
         "19004": "0",
         "19103": "0",
         "1912": "0",
         "19143": "0",
         "19147": "0",
         "19164": "0",
         "19185": "0",
         "19267": "0",
         "19307": "0",
         "19311": "0",
         "1933": "0",
         "19347": "0",
         "19368": "0",
         "1937": "0",
         "19387": "0",
         "19412": "0",
         "19450": "0",
         "19553": "0",
         "19616": "0",
         "19677": "0",
         "19694": "0",
         "19698": "0",
         "19719": "0",
         "1975": "0",
         "19780": "0",
         "19816": "0",
         "19858": "0",
         "19881": "0",
         "19919": "0",
         "200": "0",
         "20020": "0",
         "20081": "0",
         "20142": "0",
         "2015": "0",
         "20184": "0",
         "20188": "0",
         "20207": "0",
         "20306": "0",
         "20310": "0",
         "20371": "0",
         "20428": "0",
         "2059": "0",
         "20613": "0",
         "20636": "0",
         "20653": "0",
         "20657": "0",
         "20775": "0",
         "20819": "0",
         "21019": "0",
         "21061": "0",
         "21084": "0",
         "21122": "0",
         "21126": "0",
         "21187": "0",
         "21204": "0",
         "21263": "0",
         "21265": "0",
         "21288": "0",
         "21305": "0",
         "21309": "0",
         "2141": "0",
         "21530": "0",
         "21656": "0",
         "21713": "0",
         "2177": "0",
         "21860": "0",
         "21877": "0",
         "21917": "0",
         "2202": "0",
         "22064": "0",
         "22081": "0",
         "22203": "0",
         "22226": "0",
         "22245": "0",
         "22247": "0",
         "22428": "0",
         "22430": "0",
         "22449": "0",
         "22512": "0",
         "22529": "0",
         "22594": "0",
         "22672": "0",
         "22716": "0",
         "22737": "0",
         "22876": "0",
         "22899": "0",
         "23103": "0",
         "23185": "0",
         "23202": "0",
         "23206": "0",
         "2322": "0",
         "23324": "0",
         "23425": "0",
         "23427": "0",
         "23429": "0",
         "2345": "0",
         "2362": "0",
         "23652": "0",
         "23654": "0",
         "23671": "0",
         "23675": "0",
         "23732": "0",
         "23772": "0",
         "2383": "0",
         "23833": "0",
         "23837": "0",
         "23858": "0",
         "23875": "0",
         "23940": "0",
         "24001": "0",
         "2404": "0",
         "24102": "0",
         "24121": "0",
         "24144": "0",
         "24163": "0",
         "24205": "0",
         "24323": "0",
         "24327": "0",
         "24365": "0",
         "24405": "0",
         "2446": "0",
         "24508": "0",
         "24548": "0",
         "24569": "0",
         "24590": "0",
         "24592": "0",
         "2467": "0",
         "24670": "0",
         "24775": "0",
         "24878": "0",
         "24897": "0",
         "25017": "0",
         "2505": "0",
         "2507": "0",
         "25181": "0",
         "25221": "0",
         "25244": "0",
         "25265": "0",
         "25343": "0",
         "25404": "0",
         "25408": "0",
         "25465": "0",
         "25568": "0",
         "25589": "0",
         "25711": "0",
         "25732": "0",
         "25755": "0",
         "25793": "0",
         "25795": "0",
         "25873": "0",
         "25938": "0",
         "25955": "0",
         "25976": "0",
         "2610": "0",
         "26138": "0",
         "26201": "0",
         "26203": "0",
         "26224": "0",
         "26241": "0",
         "2625": "0",
         "26281": "0",
         "26302": "0",
         "26325": "0",
         "26384": "0",
         "26466": "0",
         "26546": "0",
         "26548": "0",
         "26649": "0",
         "26651": "0",
         "26693": "0",
         "2671": "0",
         "26750": "0",
         "26754": "0",
         "26815": "0",
         "26893": "0",
         "2711": "0",
         "27242": "0",
         "27280": "0",
         "27284": "0",
         "27400": "0",
         "27423": "0",
         "27488": "0",
         "27528": "0",
         "27547": "0",
         "27587": "0",
         "27732": "0",
         "27751": "0",
         "27896": "0",
         "27997": "0",
         "28077": "0",
         "28096": "0",
         "28157": "0",
         "28262": "0",
         "28304": "0",
         "28319": "0",
         "28441": "0",
         "28466": "0",
         "28544": "0",
         "28586": "0",
         "28588": "0",
         "28626": "0",
         "28687": "0",
         "28872": "0",
         "28912": "0",
         "28935": "0",
         "28952": "0",
         "28956": "0",
         "28994": "0",
         "29074": "0",
         "29242": "0",
         "2932": "0",
         "29404": "0",
         "29425": "0",
         "29507": "0",
         "29524": "0",
         "29625": "0",
         "2972": "0",
         "2976": "0",
         "29789": "0",
         "29873": "0",
         "29894": "0",
         "29911": "0",
         "29953": "0",
         "2997": "0",
         "30012": "0",
         "3012": "0",
         "30176": "0",
         "3018": "0",
         "30180": "0",
         "30281": "0",
         "30319": "0",
         "30342": "0",
         "30363": "0",
         "30445": "0",
         "30462": "0",
         "30464": "0",
         "30506": "0",
         "30546": "0",
         "3056": "0",
         "30645": "0",
         "30687": "0",
         "30750": "0",
         "30849": "0",
         "30872": "0",
         "30889": "0",
         "30912": "0",
         "3094": "0",
         "3096": "0",
         "30971": "0",
         "30975": "0",
         "31053": "0",
         "31118": "0",
         "31135": "0",
         "31217": "0",
         "31236": "0",
         "31280": "0",
         "31301": "0",
         "31322": "0",
         "31339": "0",
         "31341": "0",
         "3136": "0",
         "31379": "0",
         "3140": "0",
         "31484": "0",
         "31566": "0",
         "3157": "0",
         "31625": "0",
         "3178": "0",
         "31791": "0",
         "3180": "0",
         "31848": "0",
         "31890": "0",
         "31909": "0",
         "31974": "0",
         "32014": "0",
         "32033": "0",
         "32056": "0",
         "3218": "0",
         "32195": "0",
         "32218": "0",
         "32260": "0",
         "32321": "0",
         "3239": "0",
         "3241": "0",
         "32422": "0",
         "32443": "0",
         "32500": "0",
         "32521": "0",
         "32626": "0",
         "32685": "0",
         "32708": "0",
         "32725": "0",
         "32729": "0",
         "32746": "0",
         "3279": "0",
         "32830": "0",
         "32912": "0",
         "32990": "0",
         "33032": "0",
         "33055": "0",
         "33095": "0",
         "33114": "0",
         "33156": "0",
         "33259": "0",
         "33299": "0",
         "33320": "0",
         "33360": "0",
         "33459": "0",
         "33583": "0",
         "33602": "0",
         "33625": "0",
         "33785": "0",
         "33846": "0",
         "33848": "0",
         "33909": "0",
         "34050": "0",
         "34071": "0",
         "_deepnote_index_column": "2 Fil-Isaaf  (T),Season 4,Episode Comedy (Comedy-SERIES/EPISODES)"
        },
        {
         "10053": "0",
         "10154": "0",
         "10234": "0",
         "10257": "0",
         "10316": "0",
         "10335": "0",
         "1035": "0",
         "10438": "0",
         "10461": "0",
         "10522": "0",
         "10621": "0",
         "10684": "0",
         "1077": "0",
         "10783": "0",
         "10787": "0",
         "10827": "0",
         "10865": "0",
         "10905": "5.0",
         "10909": "0",
         "10926": "0",
         "10930": "0",
         "1100": "0",
         "11027": "0",
         "11090": "0",
         "11092": "0",
         "11113": "0",
         "11273": "0",
         "11317": "0",
         "11357": "0",
         "11374": "0",
         "11456": "0",
         "11460": "0",
         "11559": "0",
         "11660": "0",
         "11702": "0",
         "11725": "0",
         "11765": "0",
         "11986": "0",
         "1203": "0",
         "12133": "0",
         "122": "0",
         "12255": "0",
         "12272": "0",
         "12333": "0",
         "12396": "0",
         "12476": "0",
         "12598": "0",
         "1260": "0",
         "1262": "0",
         "1264": "0",
         "12724": "0",
         "12783": "0",
         "12802": "0",
         "12863": "0",
         "12989": "0",
         "13010": "0",
         "13029": "0",
         "13067": "0",
         "13071": "0",
         "13111": "0",
         "13170": "0",
         "13189": "0",
         "13193": "0",
         "13271": "0",
         "13292": "0",
         "13437": "0",
         "13456": "0",
         "13458": "0",
         "13479": "0",
         "13599": "0",
         "13639": "0",
         "13641": "0",
         "13744": "0",
         "13801": "0",
         "13843": "0",
         "13906": "0",
         "13923": "0",
         "14005": "0",
         "1403": "0",
         "14049": "0",
         "14066": "0",
         "1407": "0",
         "14131": "0",
         "14152": "0",
         "14213": "0",
         "14249": "0",
         "14270": "0",
         "14291": "0",
         "14373": "0",
         "14396": "0",
         "14417": "0",
         "14518": "0",
         "14535": "0",
         "14539": "0",
         "14600": "0",
         "14621": "0",
         "14657": "0",
         "14760": "0",
         "14804": "0",
         "14987": "0",
         "15090": "0",
         "15151": "0",
         "15168": "0",
         "15191": "0",
         "15229": "0",
         "15269": "0",
         "15273": "0",
         "1529": "0",
         "15355": "0",
         "15433": "0",
         "15538": "0",
         "15559": "0",
         "15576": "0",
         "15578": "0",
         "15616": "0",
         "15620": "0",
         "15660": "0",
         "1569": "0",
         "15719": "0",
         "15721": "0",
         "15740": "0",
         "15742": "0",
         "15780": "0",
         "15782": "0",
         "15860": "0",
         "1590": "0",
         "15963": "0",
         "160": "0",
         "16005": "0",
         "16028": "0",
         "16129": "0",
         "16150": "0",
         "16190": "3.0",
         "16245": "0",
         "16293": "0",
         "16354": "0",
         "16371": "0",
         "16497": "0",
         "16514": "0",
         "16558": "0",
         "16657": "0",
         "16659": "0",
         "16680": "0",
         "1672": "0",
         "16739": "0",
         "16779": "0",
         "16880": "0",
         "16899": "0",
         "16922": "0",
         "16962": "0",
         "17124": "0",
         "17170": "0",
         "17206": "0",
         "17227": "0",
         "17292": "0",
         "17431": "0",
         "17555": "0",
         "17597": "0",
         "17656": "0",
         "17696": "0",
         "17717": "0",
         "17801": "0",
         "17820": "0",
         "17822": "0",
         "179": "0",
         "17900": "0",
         "17904": "0",
         "17982": "0",
         "18066": "0",
         "18169": "0",
         "18230": "0",
         "18287": "0",
         "18291": "0",
         "18434": "0",
         "18554": "0",
         "18613": "0",
         "18638": "0",
         "18777": "0",
         "18903": "0",
         "18920": "0",
         "18941": "0",
         "18960": "0",
         "18981": "0",
         "19004": "0",
         "19103": "0",
         "1912": "0",
         "19143": "0",
         "19147": "0",
         "19164": "0",
         "19185": "0",
         "19267": "0",
         "19307": "0",
         "19311": "0",
         "1933": "0",
         "19347": "0",
         "19368": "0",
         "1937": "0",
         "19387": "0",
         "19412": "0",
         "19450": "0",
         "19553": "0",
         "19616": "0",
         "19677": "0",
         "19694": "0",
         "19698": "0",
         "19719": "0",
         "1975": "0",
         "19780": "0",
         "19816": "0",
         "19858": "0",
         "19881": "0",
         "19919": "0",
         "200": "0",
         "20020": "0",
         "20081": "0",
         "20142": "0",
         "2015": "0",
         "20184": "0",
         "20188": "0",
         "20207": "0",
         "20306": "0",
         "20310": "0",
         "20371": "0",
         "20428": "0",
         "2059": "0",
         "20613": "0",
         "20636": "0",
         "20653": "0",
         "20657": "0",
         "20775": "0",
         "20819": "0",
         "21019": "0",
         "21061": "0",
         "21084": "0",
         "21122": "0",
         "21126": "0",
         "21187": "0",
         "21204": "0",
         "21263": "0",
         "21265": "0",
         "21288": "0",
         "21305": "0",
         "21309": "0",
         "2141": "0",
         "21530": "0",
         "21656": "0",
         "21713": "0",
         "2177": "0",
         "21860": "0",
         "21877": "0",
         "21917": "0",
         "2202": "0",
         "22064": "0",
         "22081": "0",
         "22203": "0",
         "22226": "0",
         "22245": "0",
         "22247": "0",
         "22428": "0",
         "22430": "0",
         "22449": "0",
         "22512": "0",
         "22529": "0",
         "22594": "0",
         "22672": "0",
         "22716": "0",
         "22737": "0",
         "22876": "0",
         "22899": "0",
         "23103": "0",
         "23185": "0",
         "23202": "0",
         "23206": "0",
         "2322": "0",
         "23324": "0",
         "23425": "0",
         "23427": "0",
         "23429": "0",
         "2345": "0",
         "2362": "0",
         "23652": "0",
         "23654": "0",
         "23671": "0",
         "23675": "0",
         "23732": "0",
         "23772": "0",
         "2383": "0",
         "23833": "0",
         "23837": "0",
         "23858": "0",
         "23875": "0",
         "23940": "0",
         "24001": "0",
         "2404": "0",
         "24102": "0",
         "24121": "0",
         "24144": "0",
         "24163": "0",
         "24205": "0",
         "24323": "0",
         "24327": "0",
         "24365": "0",
         "24405": "0",
         "2446": "0",
         "24508": "0",
         "24548": "0",
         "24569": "0",
         "24590": "0",
         "24592": "0",
         "2467": "0",
         "24670": "0",
         "24775": "0",
         "24878": "0",
         "24897": "0",
         "25017": "0",
         "2505": "0",
         "2507": "0",
         "25181": "0",
         "25221": "0",
         "25244": "0",
         "25265": "0",
         "25343": "0",
         "25404": "0",
         "25408": "0",
         "25465": "0",
         "25568": "0",
         "25589": "0",
         "25711": "0",
         "25732": "0",
         "25755": "0",
         "25793": "0",
         "25795": "0",
         "25873": "0",
         "25938": "0",
         "25955": "0",
         "25976": "0",
         "2610": "0",
         "26138": "0",
         "26201": "0",
         "26203": "0",
         "26224": "0",
         "26241": "0",
         "2625": "0",
         "26281": "0",
         "26302": "0",
         "26325": "0",
         "26384": "0",
         "26466": "0",
         "26546": "0",
         "26548": "0",
         "26649": "0",
         "26651": "0",
         "26693": "0",
         "2671": "0",
         "26750": "0",
         "26754": "0",
         "26815": "0",
         "26893": "0",
         "2711": "0",
         "27242": "0",
         "27280": "0",
         "27284": "0",
         "27400": "0",
         "27423": "0",
         "27488": "0",
         "27528": "0",
         "27547": "0",
         "27587": "0",
         "27732": "0",
         "27751": "0",
         "27896": "0",
         "27997": "0",
         "28077": "0",
         "28096": "0",
         "28157": "0",
         "28262": "0",
         "28304": "0",
         "28319": "0",
         "28441": "0",
         "28466": "0",
         "28544": "0",
         "28586": "0",
         "28588": "0",
         "28626": "0",
         "28687": "0",
         "28872": "0",
         "28912": "0",
         "28935": "0",
         "28952": "0",
         "28956": "0",
         "28994": "0",
         "29074": "0",
         "29242": "0",
         "2932": "0",
         "29404": "0",
         "29425": "0",
         "29507": "0",
         "29524": "0",
         "29625": "0",
         "2972": "0",
         "2976": "0",
         "29789": "0",
         "29873": "0",
         "29894": "0",
         "29911": "0",
         "29953": "0",
         "2997": "0",
         "30012": "0",
         "3012": "0",
         "30176": "0",
         "3018": "0",
         "30180": "0",
         "30281": "0",
         "30319": "0",
         "30342": "0",
         "30363": "0",
         "30445": "0",
         "30462": "0",
         "30464": "0",
         "30506": "0",
         "30546": "0",
         "3056": "0",
         "30645": "0",
         "30687": "0",
         "30750": "0",
         "30849": "0",
         "30872": "0",
         "30889": "0",
         "30912": "0",
         "3094": "0",
         "3096": "0",
         "30971": "0",
         "30975": "0",
         "31053": "0",
         "31118": "0",
         "31135": "0",
         "31217": "0",
         "31236": "0",
         "31280": "0",
         "31301": "0",
         "31322": "0",
         "31339": "0",
         "31341": "0",
         "3136": "0",
         "31379": "0",
         "3140": "0",
         "31484": "0",
         "31566": "0",
         "3157": "0",
         "31625": "0",
         "3178": "0",
         "31791": "0",
         "3180": "0",
         "31848": "0",
         "31890": "0",
         "31909": "0",
         "31974": "0",
         "32014": "0",
         "32033": "0",
         "32056": "0",
         "3218": "0",
         "32195": "0",
         "32218": "0",
         "32260": "0",
         "32321": "0",
         "3239": "0",
         "3241": "0",
         "32422": "0",
         "32443": "0",
         "32500": "0",
         "32521": "0",
         "32626": "0",
         "32685": "0",
         "32708": "0",
         "32725": "0",
         "32729": "0",
         "32746": "0",
         "3279": "0",
         "32830": "0",
         "32912": "0",
         "32990": "0",
         "33032": "0",
         "33055": "0",
         "33095": "0",
         "33114": "0",
         "33156": "0",
         "33259": "0",
         "33299": "0",
         "33320": "0",
         "33360": "0",
         "33459": "0",
         "33583": "0",
         "33602": "0",
         "33625": "0",
         "33785": "0",
         "33846": "0",
         "33848": "0",
         "33909": "0",
         "34050": "0",
         "34071": "0",
         "_deepnote_index_column": "22 Jump treet (Comedy-MOVIE)"
        },
        {
         "10053": "0",
         "10154": "0",
         "10234": "0",
         "10257": "0",
         "10316": "0",
         "10335": "0",
         "1035": "0",
         "10438": "0",
         "10461": "0",
         "10522": "0",
         "10621": "0",
         "10684": "0",
         "1077": "0",
         "10783": "0",
         "10787": "0",
         "10827": "0",
         "10865": "0",
         "10905": "0",
         "10909": "0",
         "10926": "0",
         "10930": "0",
         "1100": "0",
         "11027": "0",
         "11090": "0",
         "11092": "0",
         "11113": "0",
         "11273": "0",
         "11317": "0",
         "11357": "0",
         "11374": "0",
         "11456": "0",
         "11460": "0",
         "11559": "0",
         "11660": "0",
         "11702": "0",
         "11725": "0",
         "11765": "0",
         "11986": "0",
         "1203": "0",
         "12133": "0",
         "122": "0",
         "12255": "0",
         "12272": "0",
         "12333": "0",
         "12396": "0",
         "12476": "0",
         "12598": "0",
         "1260": "0",
         "1262": "0",
         "1264": "0",
         "12724": "0",
         "12783": "0",
         "12802": "0",
         "12863": "0",
         "12989": "0",
         "13010": "0",
         "13029": "0",
         "13067": "0",
         "13071": "0",
         "13111": "0",
         "13170": "0",
         "13189": "0",
         "13193": "0",
         "13271": "0",
         "13292": "0",
         "13437": "0",
         "13456": "0",
         "13458": "0",
         "13479": "0",
         "13599": "0",
         "13639": "0",
         "13641": "0",
         "13744": "0",
         "13801": "0",
         "13843": "0",
         "13906": "0",
         "13923": "0",
         "14005": "0",
         "1403": "0",
         "14049": "0",
         "14066": "0",
         "1407": "0",
         "14131": "0",
         "14152": "0",
         "14213": "0",
         "14249": "0",
         "14270": "0",
         "14291": "0",
         "14373": "0",
         "14396": "0",
         "14417": "0",
         "14518": "0",
         "14535": "0",
         "14539": "0",
         "14600": "0",
         "14621": "0",
         "14657": "0",
         "14760": "0",
         "14804": "0",
         "14987": "0",
         "15090": "0",
         "15151": "0",
         "15168": "0",
         "15191": "0",
         "15229": "0",
         "15269": "0",
         "15273": "0",
         "1529": "0",
         "15355": "0",
         "15433": "0",
         "15538": "0",
         "15559": "0",
         "15576": "0",
         "15578": "0",
         "15616": "0",
         "15620": "0",
         "15660": "0",
         "1569": "0",
         "15719": "0",
         "15721": "0",
         "15740": "0",
         "15742": "0",
         "15780": "0",
         "15782": "0",
         "15860": "0",
         "1590": "0",
         "15963": "0",
         "160": "0",
         "16005": "0",
         "16028": "0",
         "16129": "0",
         "16150": "0",
         "16190": "0",
         "16245": "0",
         "16293": "0",
         "16354": "0",
         "16371": "0",
         "16497": "0",
         "16514": "0",
         "16558": "0",
         "16657": "0",
         "16659": "0",
         "16680": "0",
         "1672": "0",
         "16739": "0",
         "16779": "0",
         "16880": "0",
         "16899": "0",
         "16922": "0",
         "16962": "0",
         "17124": "0",
         "17170": "0",
         "17206": "0",
         "17227": "0",
         "17292": "0",
         "17431": "0",
         "17555": "0",
         "17597": "0",
         "17656": "0",
         "17696": "0",
         "17717": "0",
         "17801": "0",
         "17820": "0",
         "17822": "0",
         "179": "0",
         "17900": "0",
         "17904": "0",
         "17982": "0",
         "18066": "0",
         "18169": "0",
         "18230": "0",
         "18287": "0",
         "18291": "0",
         "18434": "0",
         "18554": "0",
         "18613": "0",
         "18638": "0",
         "18777": "0",
         "18903": "0",
         "18920": "0",
         "18941": "0",
         "18960": "0",
         "18981": "0",
         "19004": "0",
         "19103": "0",
         "1912": "0",
         "19143": "0",
         "19147": "0",
         "19164": "0",
         "19185": "0",
         "19267": "0",
         "19307": "0",
         "19311": "0",
         "1933": "0",
         "19347": "0",
         "19368": "0",
         "1937": "0",
         "19387": "0",
         "19412": "0",
         "19450": "0",
         "19553": "0",
         "19616": "0",
         "19677": "0",
         "19694": "0",
         "19698": "0",
         "19719": "0",
         "1975": "0",
         "19780": "0",
         "19816": "0",
         "19858": "0",
         "19881": "0",
         "19919": "0",
         "200": "0",
         "20020": "0",
         "20081": "0",
         "20142": "0",
         "2015": "0",
         "20184": "0",
         "20188": "0",
         "20207": "0",
         "20306": "0",
         "20310": "0",
         "20371": "0",
         "20428": "0",
         "2059": "0",
         "20613": "0",
         "20636": "0",
         "20653": "0",
         "20657": "0",
         "20775": "0",
         "20819": "0",
         "21019": "0",
         "21061": "0",
         "21084": "0",
         "21122": "0",
         "21126": "0",
         "21187": "0",
         "21204": "0",
         "21263": "0",
         "21265": "0",
         "21288": "0",
         "21305": "0",
         "21309": "0",
         "2141": "0",
         "21530": "0",
         "21656": "0",
         "21713": "0",
         "2177": "0",
         "21860": "0",
         "21877": "0",
         "21917": "0",
         "2202": "0",
         "22064": "0",
         "22081": "0",
         "22203": "0",
         "22226": "0",
         "22245": "0",
         "22247": "0",
         "22428": "0",
         "22430": "0",
         "22449": "0",
         "22512": "0",
         "22529": "0",
         "22594": "0",
         "22672": "0",
         "22716": "0",
         "22737": "0",
         "22876": "0",
         "22899": "0",
         "23103": "0",
         "23185": "0",
         "23202": "0",
         "23206": "0",
         "2322": "0",
         "23324": "0",
         "23425": "0",
         "23427": "0",
         "23429": "0",
         "2345": "0",
         "2362": "0",
         "23652": "0",
         "23654": "0",
         "23671": "0",
         "23675": "0",
         "23732": "0",
         "23772": "0",
         "2383": "0",
         "23833": "0",
         "23837": "0",
         "23858": "0",
         "23875": "0",
         "23940": "0",
         "24001": "0",
         "2404": "0",
         "24102": "0",
         "24121": "0",
         "24144": "0",
         "24163": "0",
         "24205": "0",
         "24323": "0",
         "24327": "0",
         "24365": "0",
         "24405": "0",
         "2446": "0",
         "24508": "0",
         "24548": "0",
         "24569": "0",
         "24590": "0",
         "24592": "0",
         "2467": "0",
         "24670": "0",
         "24775": "0",
         "24878": "0",
         "24897": "0",
         "25017": "0",
         "2505": "0",
         "2507": "0",
         "25181": "0",
         "25221": "0",
         "25244": "0",
         "25265": "0",
         "25343": "0",
         "25404": "0",
         "25408": "0",
         "25465": "0",
         "25568": "0",
         "25589": "0",
         "25711": "0",
         "25732": "0",
         "25755": "0",
         "25793": "0",
         "25795": "0",
         "25873": "0",
         "25938": "0",
         "25955": "0",
         "25976": "0",
         "2610": "0",
         "26138": "0",
         "26201": "0",
         "26203": "0",
         "26224": "0",
         "26241": "0",
         "2625": "0",
         "26281": "0",
         "26302": "0",
         "26325": "0",
         "26384": "0",
         "26466": "0",
         "26546": "0",
         "26548": "0",
         "26649": "0",
         "26651": "0",
         "26693": "0",
         "2671": "0",
         "26750": "0",
         "26754": "0",
         "26815": "0",
         "26893": "0",
         "2711": "0",
         "27242": "0",
         "27280": "0",
         "27284": "0",
         "27400": "0",
         "27423": "0",
         "27488": "0",
         "27528": "0",
         "27547": "0",
         "27587": "0",
         "27732": "0",
         "27751": "0",
         "27896": "0",
         "27997": "0",
         "28077": "0",
         "28096": "0",
         "28157": "0",
         "28262": "0",
         "28304": "0",
         "28319": "0",
         "28441": "0",
         "28466": "0",
         "28544": "0",
         "28586": "0",
         "28588": "0",
         "28626": "0",
         "28687": "0",
         "28872": "0",
         "28912": "0",
         "28935": "0",
         "28952": "0",
         "28956": "0",
         "28994": "0",
         "29074": "0",
         "29242": "0",
         "2932": "0",
         "29404": "0",
         "29425": "0",
         "29507": "0",
         "29524": "0",
         "29625": "0",
         "2972": "0",
         "2976": "0",
         "29789": "0",
         "29873": "0",
         "29894": "0",
         "29911": "0",
         "29953": "0",
         "2997": "0",
         "30012": "0",
         "3012": "0",
         "30176": "0",
         "3018": "0",
         "30180": "0",
         "30281": "0",
         "30319": "0",
         "30342": "0",
         "30363": "0",
         "30445": "0",
         "30462": "0",
         "30464": "0",
         "30506": "0",
         "30546": "0",
         "3056": "0",
         "30645": "0",
         "30687": "0",
         "30750": "0",
         "30849": "0",
         "30872": "0",
         "30889": "0",
         "30912": "0",
         "3094": "0",
         "3096": "0",
         "30971": "0",
         "30975": "0",
         "31053": "0",
         "31118": "0",
         "31135": "0",
         "31217": "0",
         "31236": "0",
         "31280": "0",
         "31301": "0",
         "31322": "0",
         "31339": "0",
         "31341": "0",
         "3136": "0",
         "31379": "0",
         "3140": "0",
         "31484": "0",
         "31566": "0",
         "3157": "0",
         "31625": "0",
         "3178": "0",
         "31791": "0",
         "3180": "0",
         "31848": "0",
         "31890": "0",
         "31909": "0",
         "31974": "0",
         "32014": "0",
         "32033": "0",
         "32056": "0",
         "3218": "0",
         "32195": "0",
         "32218": "0",
         "32260": "0",
         "32321": "0",
         "3239": "0",
         "3241": "0",
         "32422": "0",
         "32443": "0",
         "32500": "0",
         "32521": "0",
         "32626": "0",
         "32685": "0",
         "32708": "0",
         "32725": "0",
         "32729": "0",
         "32746": "0",
         "3279": "0",
         "32830": "0",
         "32912": "0",
         "32990": "0",
         "33032": "0",
         "33055": "0",
         "33095": "0",
         "33114": "0",
         "33156": "0",
         "33259": "0",
         "33299": "0",
         "33320": "0",
         "33360": "0",
         "33459": "0",
         "33583": "0",
         "33602": "0",
         "33625": "0",
         "33785": "0",
         "33846": "0",
         "33848": "0",
         "33909": "0",
         "34050": "0",
         "34071": "0",
         "_deepnote_index_column": "24,Season 1,Episode Action (Action-SERIES/EPISODES)"
        },
        {
         "10053": "0",
         "10154": "0",
         "10234": "0",
         "10257": "0",
         "10316": "0",
         "10335": "0",
         "1035": "0",
         "10438": "0",
         "10461": "0",
         "10522": "0",
         "10621": "0",
         "10684": "0",
         "1077": "0",
         "10783": "0",
         "10787": "0",
         "10827": "0",
         "10865": "0",
         "10905": "0",
         "10909": "0",
         "10926": "0",
         "10930": "0",
         "1100": "0",
         "11027": "0",
         "11090": "0",
         "11092": "0",
         "11113": "0",
         "11273": "0",
         "11317": "0",
         "11357": "0",
         "11374": "0",
         "11456": "0",
         "11460": "0",
         "11559": "0",
         "11660": "0",
         "11702": "0",
         "11725": "0",
         "11765": "0",
         "11986": "0",
         "1203": "0",
         "12133": "0",
         "122": "0",
         "12255": "0",
         "12272": "0",
         "12333": "0",
         "12396": "0",
         "12476": "0",
         "12598": "0",
         "1260": "0",
         "1262": "0",
         "1264": "0",
         "12724": "0",
         "12783": "0",
         "12802": "0",
         "12863": "0",
         "12989": "0",
         "13010": "0",
         "13029": "0",
         "13067": "0",
         "13071": "0",
         "13111": "0",
         "13170": "0",
         "13189": "0",
         "13193": "0",
         "13271": "0",
         "13292": "0",
         "13437": "0",
         "13456": "0",
         "13458": "0",
         "13479": "0",
         "13599": "0",
         "13639": "0",
         "13641": "0",
         "13744": "0",
         "13801": "0",
         "13843": "0",
         "13906": "0",
         "13923": "0",
         "14005": "0",
         "1403": "0",
         "14049": "0",
         "14066": "0",
         "1407": "0",
         "14131": "0",
         "14152": "0",
         "14213": "0",
         "14249": "0",
         "14270": "0",
         "14291": "0",
         "14373": "0",
         "14396": "0",
         "14417": "0",
         "14518": "0",
         "14535": "0",
         "14539": "0",
         "14600": "0",
         "14621": "0",
         "14657": "0",
         "14760": "0",
         "14804": "0",
         "14987": "0",
         "15090": "0",
         "15151": "0",
         "15168": "0",
         "15191": "0",
         "15229": "0",
         "15269": "0",
         "15273": "0",
         "1529": "0",
         "15355": "0",
         "15433": "0",
         "15538": "0",
         "15559": "0",
         "15576": "0",
         "15578": "0",
         "15616": "0",
         "15620": "0",
         "15660": "0",
         "1569": "0",
         "15719": "0",
         "15721": "0",
         "15740": "0",
         "15742": "0",
         "15780": "0",
         "15782": "0",
         "15860": "0",
         "1590": "0",
         "15963": "0",
         "160": "0",
         "16005": "0",
         "16028": "0",
         "16129": "0",
         "16150": "0",
         "16190": "0",
         "16245": "0",
         "16293": "0",
         "16354": "0",
         "16371": "0",
         "16497": "0",
         "16514": "0",
         "16558": "0",
         "16657": "0",
         "16659": "0",
         "16680": "0",
         "1672": "0",
         "16739": "0",
         "16779": "0",
         "16880": "0",
         "16899": "0",
         "16922": "0",
         "16962": "0",
         "17124": "0",
         "17170": "0",
         "17206": "0",
         "17227": "0",
         "17292": "0",
         "17431": "0",
         "17555": "0",
         "17597": "0",
         "17656": "0",
         "17696": "0",
         "17717": "0",
         "17801": "0",
         "17820": "0",
         "17822": "0",
         "179": "0",
         "17900": "0",
         "17904": "0",
         "17982": "0",
         "18066": "0",
         "18169": "0",
         "18230": "0",
         "18287": "0",
         "18291": "0",
         "18434": "0",
         "18554": "0",
         "18613": "0",
         "18638": "0",
         "18777": "0",
         "18903": "0",
         "18920": "0",
         "18941": "0",
         "18960": "0",
         "18981": "0",
         "19004": "0",
         "19103": "0",
         "1912": "0",
         "19143": "0",
         "19147": "0",
         "19164": "0",
         "19185": "0",
         "19267": "0",
         "19307": "0",
         "19311": "0",
         "1933": "0",
         "19347": "5.0",
         "19368": "0",
         "1937": "0",
         "19387": "0",
         "19412": "0",
         "19450": "0",
         "19553": "0",
         "19616": "0",
         "19677": "0",
         "19694": "0",
         "19698": "0",
         "19719": "0",
         "1975": "0",
         "19780": "0",
         "19816": "0",
         "19858": "0",
         "19881": "0",
         "19919": "0",
         "200": "0",
         "20020": "0",
         "20081": "0",
         "20142": "0",
         "2015": "0",
         "20184": "0",
         "20188": "0",
         "20207": "0",
         "20306": "0",
         "20310": "0",
         "20371": "0",
         "20428": "0",
         "2059": "0",
         "20613": "0",
         "20636": "0",
         "20653": "0",
         "20657": "0",
         "20775": "0",
         "20819": "0",
         "21019": "0",
         "21061": "0",
         "21084": "0",
         "21122": "0",
         "21126": "0",
         "21187": "0",
         "21204": "0",
         "21263": "0",
         "21265": "0",
         "21288": "0",
         "21305": "0",
         "21309": "0",
         "2141": "0",
         "21530": "0",
         "21656": "0",
         "21713": "0",
         "2177": "0",
         "21860": "0",
         "21877": "0",
         "21917": "0",
         "2202": "0",
         "22064": "0",
         "22081": "0",
         "22203": "0",
         "22226": "0",
         "22245": "0",
         "22247": "0",
         "22428": "0",
         "22430": "0",
         "22449": "0",
         "22512": "0",
         "22529": "0",
         "22594": "0",
         "22672": "0",
         "22716": "0",
         "22737": "0",
         "22876": "0",
         "22899": "0",
         "23103": "0",
         "23185": "0",
         "23202": "0",
         "23206": "0",
         "2322": "0",
         "23324": "0",
         "23425": "0",
         "23427": "0",
         "23429": "0",
         "2345": "0",
         "2362": "0",
         "23652": "0",
         "23654": "0",
         "23671": "0",
         "23675": "0",
         "23732": "0",
         "23772": "0",
         "2383": "0",
         "23833": "0",
         "23837": "0",
         "23858": "0",
         "23875": "0",
         "23940": "0",
         "24001": "0",
         "2404": "0",
         "24102": "0",
         "24121": "0",
         "24144": "0",
         "24163": "0",
         "24205": "0",
         "24323": "0",
         "24327": "0",
         "24365": "0",
         "24405": "0",
         "2446": "0",
         "24508": "0",
         "24548": "0",
         "24569": "0",
         "24590": "0",
         "24592": "0",
         "2467": "0",
         "24670": "0",
         "24775": "0",
         "24878": "0",
         "24897": "0",
         "25017": "0",
         "2505": "0",
         "2507": "0",
         "25181": "0",
         "25221": "0",
         "25244": "0",
         "25265": "0",
         "25343": "0",
         "25404": "0",
         "25408": "0",
         "25465": "0",
         "25568": "0",
         "25589": "0",
         "25711": "0",
         "25732": "0",
         "25755": "0",
         "25793": "0",
         "25795": "0",
         "25873": "0",
         "25938": "0",
         "25955": "0",
         "25976": "0",
         "2610": "0",
         "26138": "0",
         "26201": "0",
         "26203": "0",
         "26224": "0",
         "26241": "0",
         "2625": "0",
         "26281": "0",
         "26302": "0",
         "26325": "0",
         "26384": "0",
         "26466": "0",
         "26546": "0",
         "26548": "0",
         "26649": "0",
         "26651": "0",
         "26693": "0",
         "2671": "0",
         "26750": "0",
         "26754": "0",
         "26815": "0",
         "26893": "0",
         "2711": "0",
         "27242": "0",
         "27280": "0",
         "27284": "0",
         "27400": "0",
         "27423": "0",
         "27488": "0",
         "27528": "0",
         "27547": "0",
         "27587": "0",
         "27732": "0",
         "27751": "0",
         "27896": "0",
         "27997": "0",
         "28077": "0",
         "28096": "0",
         "28157": "0",
         "28262": "0",
         "28304": "0",
         "28319": "0",
         "28441": "0",
         "28466": "0",
         "28544": "0",
         "28586": "0",
         "28588": "0",
         "28626": "0",
         "28687": "0",
         "28872": "0",
         "28912": "0",
         "28935": "0",
         "28952": "0",
         "28956": "0",
         "28994": "0",
         "29074": "0",
         "29242": "0",
         "2932": "0",
         "29404": "0",
         "29425": "0",
         "29507": "0",
         "29524": "0",
         "29625": "0",
         "2972": "0",
         "2976": "0",
         "29789": "0",
         "29873": "0",
         "29894": "0",
         "29911": "0",
         "29953": "0",
         "2997": "0",
         "30012": "0",
         "3012": "0",
         "30176": "0",
         "3018": "0",
         "30180": "0",
         "30281": "0",
         "30319": "0",
         "30342": "0",
         "30363": "0",
         "30445": "0",
         "30462": "0",
         "30464": "0",
         "30506": "0",
         "30546": "0",
         "3056": "0",
         "30645": "0",
         "30687": "0",
         "30750": "0",
         "30849": "0",
         "30872": "0",
         "30889": "0",
         "30912": "0",
         "3094": "0",
         "3096": "0",
         "30971": "0",
         "30975": "0",
         "31053": "0",
         "31118": "0",
         "31135": "0",
         "31217": "0",
         "31236": "0",
         "31280": "0",
         "31301": "0",
         "31322": "0",
         "31339": "0",
         "31341": "0",
         "3136": "0",
         "31379": "0",
         "3140": "0",
         "31484": "0",
         "31566": "0",
         "3157": "0",
         "31625": "0",
         "3178": "0",
         "31791": "0",
         "3180": "0",
         "31848": "0",
         "31890": "0",
         "31909": "0",
         "31974": "0",
         "32014": "0",
         "32033": "0",
         "32056": "0",
         "3218": "0",
         "32195": "0",
         "32218": "0",
         "32260": "0",
         "32321": "0",
         "3239": "0",
         "3241": "0",
         "32422": "0",
         "32443": "0",
         "32500": "0",
         "32521": "0",
         "32626": "0",
         "32685": "0",
         "32708": "0",
         "32725": "0",
         "32729": "0",
         "32746": "0",
         "3279": "0",
         "32830": "0",
         "32912": "0",
         "32990": "0",
         "33032": "0",
         "33055": "0",
         "33095": "0",
         "33114": "0",
         "33156": "0",
         "33259": "0",
         "33299": "0",
         "33320": "0",
         "33360": "0",
         "33459": "0",
         "33583": "0",
         "33602": "0",
         "33625": "0",
         "33785": "0",
         "33846": "0",
         "33848": "0",
         "33909": "0",
         "34050": "0",
         "34071": "0",
         "_deepnote_index_column": "24,Season 1,Episode Drama (Drama-SERIES/EPISODES)"
        },
        {
         "10053": "0",
         "10154": "0",
         "10234": "0",
         "10257": "0",
         "10316": "0",
         "10335": "0",
         "1035": "0",
         "10438": "0",
         "10461": "0",
         "10522": "0",
         "10621": "0",
         "10684": "0",
         "1077": "0",
         "10783": "0",
         "10787": "0",
         "10827": "0",
         "10865": "0",
         "10905": "0",
         "10909": "0",
         "10926": "0",
         "10930": "0",
         "1100": "0",
         "11027": "0",
         "11090": "0",
         "11092": "0",
         "11113": "0",
         "11273": "0",
         "11317": "0",
         "11357": "0",
         "11374": "0",
         "11456": "0",
         "11460": "0",
         "11559": "0",
         "11660": "0",
         "11702": "0",
         "11725": "0",
         "11765": "0",
         "11986": "0",
         "1203": "0",
         "12133": "0",
         "122": "0",
         "12255": "0",
         "12272": "0",
         "12333": "0",
         "12396": "0",
         "12476": "0",
         "12598": "0",
         "1260": "0",
         "1262": "0",
         "1264": "0",
         "12724": "0",
         "12783": "0",
         "12802": "0",
         "12863": "0",
         "12989": "0",
         "13010": "0",
         "13029": "0",
         "13067": "0",
         "13071": "0",
         "13111": "0",
         "13170": "0",
         "13189": "0",
         "13193": "0",
         "13271": "0",
         "13292": "0",
         "13437": "0",
         "13456": "0",
         "13458": "0",
         "13479": "0",
         "13599": "0",
         "13639": "0",
         "13641": "0",
         "13744": "0",
         "13801": "0",
         "13843": "0",
         "13906": "0",
         "13923": "0",
         "14005": "0",
         "1403": "0",
         "14049": "0",
         "14066": "0",
         "1407": "0",
         "14131": "0",
         "14152": "0",
         "14213": "0",
         "14249": "0",
         "14270": "0",
         "14291": "0",
         "14373": "0",
         "14396": "0",
         "14417": "0",
         "14518": "0",
         "14535": "0",
         "14539": "0",
         "14600": "0",
         "14621": "0",
         "14657": "0",
         "14760": "0",
         "14804": "0",
         "14987": "0",
         "15090": "0",
         "15151": "0",
         "15168": "0",
         "15191": "0",
         "15229": "0",
         "15269": "0",
         "15273": "0",
         "1529": "0",
         "15355": "0",
         "15433": "0",
         "15538": "0",
         "15559": "0",
         "15576": "0",
         "15578": "0",
         "15616": "0",
         "15620": "0",
         "15660": "0",
         "1569": "0",
         "15719": "0",
         "15721": "0",
         "15740": "0",
         "15742": "0",
         "15780": "0",
         "15782": "0",
         "15860": "0",
         "1590": "0",
         "15963": "0",
         "160": "0",
         "16005": "0",
         "16028": "0",
         "16129": "0",
         "16150": "0",
         "16190": "0",
         "16245": "0",
         "16293": "0",
         "16354": "0",
         "16371": "0",
         "16497": "0",
         "16514": "0",
         "16558": "0",
         "16657": "0",
         "16659": "0",
         "16680": "0",
         "1672": "0",
         "16739": "0",
         "16779": "0",
         "16880": "0",
         "16899": "0",
         "16922": "0",
         "16962": "0",
         "17124": "0",
         "17170": "0",
         "17206": "0",
         "17227": "0",
         "17292": "0",
         "17431": "0",
         "17555": "0",
         "17597": "0",
         "17656": "0",
         "17696": "0",
         "17717": "0",
         "17801": "0",
         "17820": "0",
         "17822": "0",
         "179": "0",
         "17900": "0",
         "17904": "0",
         "17982": "0",
         "18066": "0",
         "18169": "0",
         "18230": "0",
         "18287": "0",
         "18291": "0",
         "18434": "0",
         "18554": "0",
         "18613": "0",
         "18638": "0",
         "18777": "0",
         "18903": "0",
         "18920": "0",
         "18941": "0",
         "18960": "0",
         "18981": "0",
         "19004": "0",
         "19103": "0",
         "1912": "0",
         "19143": "0",
         "19147": "0",
         "19164": "0",
         "19185": "0",
         "19267": "0",
         "19307": "0",
         "19311": "0",
         "1933": "0",
         "19347": "0",
         "19368": "0",
         "1937": "0",
         "19387": "0",
         "19412": "0",
         "19450": "0",
         "19553": "0",
         "19616": "0",
         "19677": "0",
         "19694": "0",
         "19698": "0",
         "19719": "0",
         "1975": "0",
         "19780": "0",
         "19816": "0",
         "19858": "0",
         "19881": "0",
         "19919": "0",
         "200": "0",
         "20020": "0",
         "20081": "0",
         "20142": "0",
         "2015": "0",
         "20184": "0",
         "20188": "0",
         "20207": "0",
         "20306": "0",
         "20310": "0",
         "20371": "0",
         "20428": "0",
         "2059": "0",
         "20613": "0",
         "20636": "0",
         "20653": "0",
         "20657": "0",
         "20775": "0",
         "20819": "0",
         "21019": "0",
         "21061": "0",
         "21084": "0",
         "21122": "0",
         "21126": "0",
         "21187": "0",
         "21204": "0",
         "21263": "0",
         "21265": "0",
         "21288": "0",
         "21305": "0",
         "21309": "0",
         "2141": "0",
         "21530": "0",
         "21656": "0",
         "21713": "0",
         "2177": "0",
         "21860": "0",
         "21877": "0",
         "21917": "0",
         "2202": "0",
         "22064": "0",
         "22081": "0",
         "22203": "0",
         "22226": "0",
         "22245": "0",
         "22247": "0",
         "22428": "0",
         "22430": "0",
         "22449": "0",
         "22512": "0",
         "22529": "0",
         "22594": "0",
         "22672": "0",
         "22716": "0",
         "22737": "0",
         "22876": "0",
         "22899": "0",
         "23103": "0",
         "23185": "0",
         "23202": "0",
         "23206": "0",
         "2322": "0",
         "23324": "0",
         "23425": "0",
         "23427": "0",
         "23429": "0",
         "2345": "0",
         "2362": "0",
         "23652": "0",
         "23654": "0",
         "23671": "0",
         "23675": "0",
         "23732": "0",
         "23772": "0",
         "2383": "0",
         "23833": "0",
         "23837": "0",
         "23858": "0",
         "23875": "0",
         "23940": "0",
         "24001": "0",
         "2404": "0",
         "24102": "0",
         "24121": "0",
         "24144": "0",
         "24163": "0",
         "24205": "0",
         "24323": "0",
         "24327": "0",
         "24365": "0",
         "24405": "0",
         "2446": "0",
         "24508": "0",
         "24548": "0",
         "24569": "0",
         "24590": "0",
         "24592": "0",
         "2467": "0",
         "24670": "0",
         "24775": "0",
         "24878": "0",
         "24897": "0",
         "25017": "0",
         "2505": "0",
         "2507": "0",
         "25181": "0",
         "25221": "0",
         "25244": "0",
         "25265": "0",
         "25343": "0",
         "25404": "0",
         "25408": "0",
         "25465": "0",
         "25568": "0",
         "25589": "0",
         "25711": "0",
         "25732": "0",
         "25755": "0",
         "25793": "0",
         "25795": "0",
         "25873": "0",
         "25938": "0",
         "25955": "0",
         "25976": "0",
         "2610": "0",
         "26138": "0",
         "26201": "0",
         "26203": "0",
         "26224": "0",
         "26241": "0",
         "2625": "0",
         "26281": "0",
         "26302": "0",
         "26325": "0",
         "26384": "0",
         "26466": "0",
         "26546": "0",
         "26548": "0",
         "26649": "0",
         "26651": "0",
         "26693": "0",
         "2671": "0",
         "26750": "5.0",
         "26754": "0",
         "26815": "0",
         "26893": "0",
         "2711": "0",
         "27242": "0",
         "27280": "0",
         "27284": "0",
         "27400": "0",
         "27423": "0",
         "27488": "0",
         "27528": "0",
         "27547": "0",
         "27587": "0",
         "27732": "0",
         "27751": "0",
         "27896": "0",
         "27997": "0",
         "28077": "0",
         "28096": "0",
         "28157": "0",
         "28262": "0",
         "28304": "0",
         "28319": "0",
         "28441": "0",
         "28466": "0",
         "28544": "0",
         "28586": "0",
         "28588": "0",
         "28626": "0",
         "28687": "0",
         "28872": "0",
         "28912": "0",
         "28935": "0",
         "28952": "0",
         "28956": "0",
         "28994": "0",
         "29074": "0",
         "29242": "0",
         "2932": "0",
         "29404": "0",
         "29425": "0",
         "29507": "0",
         "29524": "0",
         "29625": "0",
         "2972": "0",
         "2976": "0",
         "29789": "0",
         "29873": "0",
         "29894": "0",
         "29911": "0",
         "29953": "0",
         "2997": "0",
         "30012": "0",
         "3012": "0",
         "30176": "0",
         "3018": "0",
         "30180": "0",
         "30281": "0",
         "30319": "0",
         "30342": "0",
         "30363": "0",
         "30445": "0",
         "30462": "0",
         "30464": "0",
         "30506": "0",
         "30546": "0",
         "3056": "0",
         "30645": "0",
         "30687": "0",
         "30750": "0",
         "30849": "0",
         "30872": "0",
         "30889": "0",
         "30912": "0",
         "3094": "0",
         "3096": "0",
         "30971": "0",
         "30975": "0",
         "31053": "0",
         "31118": "0",
         "31135": "0",
         "31217": "0",
         "31236": "0",
         "31280": "0",
         "31301": "0",
         "31322": "0",
         "31339": "0",
         "31341": "0",
         "3136": "0",
         "31379": "0",
         "3140": "0",
         "31484": "0",
         "31566": "0",
         "3157": "0",
         "31625": "0",
         "3178": "0",
         "31791": "0",
         "3180": "0",
         "31848": "0",
         "31890": "0",
         "31909": "0",
         "31974": "0",
         "32014": "0",
         "32033": "0",
         "32056": "0",
         "3218": "0",
         "32195": "0",
         "32218": "0",
         "32260": "0",
         "32321": "0",
         "3239": "0",
         "3241": "0",
         "32422": "0",
         "32443": "0",
         "32500": "0",
         "32521": "0",
         "32626": "0",
         "32685": "0",
         "32708": "0",
         "32725": "0",
         "32729": "0",
         "32746": "0",
         "3279": "0",
         "32830": "0",
         "32912": "0",
         "32990": "0",
         "33032": "0",
         "33055": "0",
         "33095": "0",
         "33114": "0",
         "33156": "0",
         "33259": "0",
         "33299": "0",
         "33320": "0",
         "33360": "0",
         "33459": "0",
         "33583": "0",
         "33602": "0",
         "33625": "0",
         "33785": "0",
         "33846": "0",
         "33848": "0",
         "33909": "0",
         "34050": "0",
         "34071": "0",
         "_deepnote_index_column": "24,Season 20,Episode Drama (Drama-SERIES/EPISODES)"
        },
        {
         "10053": "0",
         "10154": "0",
         "10234": "0",
         "10257": "0",
         "10316": "0",
         "10335": "0",
         "1035": "0",
         "10438": "0",
         "10461": "0",
         "10522": "0",
         "10621": "0",
         "10684": "0",
         "1077": "0",
         "10783": "0",
         "10787": "0",
         "10827": "0",
         "10865": "0",
         "10905": "0",
         "10909": "0",
         "10926": "0",
         "10930": "0",
         "1100": "0",
         "11027": "0",
         "11090": "0",
         "11092": "0",
         "11113": "0",
         "11273": "0",
         "11317": "0",
         "11357": "0",
         "11374": "0",
         "11456": "0",
         "11460": "0",
         "11559": "0",
         "11660": "0",
         "11702": "0",
         "11725": "0",
         "11765": "0",
         "11986": "0",
         "1203": "0",
         "12133": "0",
         "122": "0",
         "12255": "0",
         "12272": "0",
         "12333": "0",
         "12396": "0",
         "12476": "0",
         "12598": "0",
         "1260": "0",
         "1262": "0",
         "1264": "0",
         "12724": "0",
         "12783": "0",
         "12802": "0",
         "12863": "0",
         "12989": "0",
         "13010": "0",
         "13029": "0",
         "13067": "0",
         "13071": "0",
         "13111": "0",
         "13170": "0",
         "13189": "0",
         "13193": "0",
         "13271": "0",
         "13292": "0",
         "13437": "0",
         "13456": "0",
         "13458": "0",
         "13479": "0",
         "13599": "0",
         "13639": "0",
         "13641": "0",
         "13744": "0",
         "13801": "0",
         "13843": "0",
         "13906": "0",
         "13923": "0",
         "14005": "0",
         "1403": "0",
         "14049": "0",
         "14066": "0",
         "1407": "0",
         "14131": "0",
         "14152": "0",
         "14213": "0",
         "14249": "0",
         "14270": "0",
         "14291": "0",
         "14373": "0",
         "14396": "0",
         "14417": "0",
         "14518": "0",
         "14535": "0",
         "14539": "0",
         "14600": "0",
         "14621": "0",
         "14657": "0",
         "14760": "0",
         "14804": "0",
         "14987": "0",
         "15090": "0",
         "15151": "0",
         "15168": "0",
         "15191": "0",
         "15229": "0",
         "15269": "0",
         "15273": "0",
         "1529": "0",
         "15355": "0",
         "15433": "0",
         "15538": "0",
         "15559": "0",
         "15576": "0",
         "15578": "0",
         "15616": "0",
         "15620": "0",
         "15660": "0",
         "1569": "0",
         "15719": "0",
         "15721": "0",
         "15740": "0",
         "15742": "0",
         "15780": "0",
         "15782": "0",
         "15860": "0",
         "1590": "0",
         "15963": "0",
         "160": "0",
         "16005": "0",
         "16028": "0",
         "16129": "0",
         "16150": "0",
         "16190": "0",
         "16245": "0",
         "16293": "0",
         "16354": "0",
         "16371": "0",
         "16497": "0",
         "16514": "0",
         "16558": "0",
         "16657": "0",
         "16659": "0",
         "16680": "0",
         "1672": "0",
         "16739": "0",
         "16779": "0",
         "16880": "0",
         "16899": "0",
         "16922": "0",
         "16962": "0",
         "17124": "0",
         "17170": "0",
         "17206": "0",
         "17227": "0",
         "17292": "0",
         "17431": "0",
         "17555": "0",
         "17597": "0",
         "17656": "0",
         "17696": "0",
         "17717": "0",
         "17801": "0",
         "17820": "0",
         "17822": "0",
         "179": "0",
         "17900": "0",
         "17904": "0",
         "17982": "0",
         "18066": "0",
         "18169": "0",
         "18230": "0",
         "18287": "0",
         "18291": "0",
         "18434": "0",
         "18554": "0",
         "18613": "0",
         "18638": "0",
         "18777": "0",
         "18903": "0",
         "18920": "0",
         "18941": "0",
         "18960": "0",
         "18981": "0",
         "19004": "0",
         "19103": "0",
         "1912": "0",
         "19143": "0",
         "19147": "0",
         "19164": "0",
         "19185": "0",
         "19267": "0",
         "19307": "0",
         "19311": "0",
         "1933": "0",
         "19347": "5.0",
         "19368": "0",
         "1937": "0",
         "19387": "0",
         "19412": "0",
         "19450": "0",
         "19553": "0",
         "19616": "0",
         "19677": "0",
         "19694": "0",
         "19698": "0",
         "19719": "0",
         "1975": "0",
         "19780": "0",
         "19816": "0",
         "19858": "0",
         "19881": "0",
         "19919": "0",
         "200": "0",
         "20020": "0",
         "20081": "0",
         "20142": "0",
         "2015": "0",
         "20184": "0",
         "20188": "0",
         "20207": "0",
         "20306": "0",
         "20310": "0",
         "20371": "0",
         "20428": "0",
         "2059": "0",
         "20613": "0",
         "20636": "0",
         "20653": "0",
         "20657": "0",
         "20775": "0",
         "20819": "0",
         "21019": "0",
         "21061": "0",
         "21084": "0",
         "21122": "0",
         "21126": "0",
         "21187": "0",
         "21204": "0",
         "21263": "0",
         "21265": "0",
         "21288": "0",
         "21305": "0",
         "21309": "0",
         "2141": "0",
         "21530": "0",
         "21656": "0",
         "21713": "0",
         "2177": "0",
         "21860": "0",
         "21877": "0",
         "21917": "0",
         "2202": "0",
         "22064": "0",
         "22081": "0",
         "22203": "0",
         "22226": "0",
         "22245": "0",
         "22247": "0",
         "22428": "0",
         "22430": "0",
         "22449": "0",
         "22512": "0",
         "22529": "0",
         "22594": "0",
         "22672": "0",
         "22716": "0",
         "22737": "0",
         "22876": "0",
         "22899": "0",
         "23103": "0",
         "23185": "0",
         "23202": "0",
         "23206": "0",
         "2322": "0",
         "23324": "0",
         "23425": "0",
         "23427": "0",
         "23429": "0",
         "2345": "0",
         "2362": "0",
         "23652": "0",
         "23654": "0",
         "23671": "0",
         "23675": "0",
         "23732": "0",
         "23772": "0",
         "2383": "0",
         "23833": "0",
         "23837": "0",
         "23858": "0",
         "23875": "0",
         "23940": "0",
         "24001": "0",
         "2404": "0",
         "24102": "0",
         "24121": "0",
         "24144": "0",
         "24163": "0",
         "24205": "0",
         "24323": "0",
         "24327": "0",
         "24365": "0",
         "24405": "0",
         "2446": "0",
         "24508": "0",
         "24548": "0",
         "24569": "0",
         "24590": "0",
         "24592": "0",
         "2467": "0",
         "24670": "0",
         "24775": "0",
         "24878": "0",
         "24897": "0",
         "25017": "0",
         "2505": "0",
         "2507": "0",
         "25181": "0",
         "25221": "0",
         "25244": "0",
         "25265": "0",
         "25343": "0",
         "25404": "0",
         "25408": "0",
         "25465": "0",
         "25568": "0",
         "25589": "0",
         "25711": "0",
         "25732": "0",
         "25755": "0",
         "25793": "0",
         "25795": "0",
         "25873": "0",
         "25938": "0",
         "25955": "0",
         "25976": "0",
         "2610": "0",
         "26138": "0",
         "26201": "0",
         "26203": "0",
         "26224": "0",
         "26241": "0",
         "2625": "0",
         "26281": "0",
         "26302": "0",
         "26325": "0",
         "26384": "0",
         "26466": "0",
         "26546": "0",
         "26548": "0",
         "26649": "0",
         "26651": "0",
         "26693": "0",
         "2671": "0",
         "26750": "0",
         "26754": "0",
         "26815": "0",
         "26893": "0",
         "2711": "0",
         "27242": "0",
         "27280": "0",
         "27284": "0",
         "27400": "0",
         "27423": "0",
         "27488": "0",
         "27528": "0",
         "27547": "0",
         "27587": "0",
         "27732": "0",
         "27751": "0",
         "27896": "0",
         "27997": "0",
         "28077": "0",
         "28096": "0",
         "28157": "0",
         "28262": "0",
         "28304": "0",
         "28319": "0",
         "28441": "0",
         "28466": "0",
         "28544": "0",
         "28586": "0",
         "28588": "0",
         "28626": "0",
         "28687": "0",
         "28872": "0",
         "28912": "0",
         "28935": "0",
         "28952": "0",
         "28956": "0",
         "28994": "0",
         "29074": "0",
         "29242": "0",
         "2932": "0",
         "29404": "0",
         "29425": "0",
         "29507": "0",
         "29524": "0",
         "29625": "0",
         "2972": "0",
         "2976": "0",
         "29789": "0",
         "29873": "0",
         "29894": "0",
         "29911": "0",
         "29953": "0",
         "2997": "0",
         "30012": "0",
         "3012": "0",
         "30176": "0",
         "3018": "0",
         "30180": "0",
         "30281": "0",
         "30319": "0",
         "30342": "0",
         "30363": "0",
         "30445": "0",
         "30462": "0",
         "30464": "0",
         "30506": "0",
         "30546": "0",
         "3056": "0",
         "30645": "0",
         "30687": "0",
         "30750": "0",
         "30849": "0",
         "30872": "0",
         "30889": "0",
         "30912": "0",
         "3094": "0",
         "3096": "0",
         "30971": "0",
         "30975": "0",
         "31053": "0",
         "31118": "0",
         "31135": "0",
         "31217": "0",
         "31236": "0",
         "31280": "0",
         "31301": "0",
         "31322": "0",
         "31339": "0",
         "31341": "0",
         "3136": "0",
         "31379": "0",
         "3140": "0",
         "31484": "0",
         "31566": "0",
         "3157": "0",
         "31625": "0",
         "3178": "0",
         "31791": "0",
         "3180": "0",
         "31848": "0",
         "31890": "0",
         "31909": "0",
         "31974": "0",
         "32014": "0",
         "32033": "0",
         "32056": "0",
         "3218": "0",
         "32195": "0",
         "32218": "0",
         "32260": "0",
         "32321": "0",
         "3239": "0",
         "3241": "0",
         "32422": "0",
         "32443": "0",
         "32500": "0",
         "32521": "0",
         "32626": "0",
         "32685": "0",
         "32708": "0",
         "32725": "0",
         "32729": "0",
         "32746": "0",
         "3279": "0",
         "32830": "0",
         "32912": "0",
         "32990": "0",
         "33032": "0",
         "33055": "0",
         "33095": "0",
         "33114": "0",
         "33156": "0",
         "33259": "0",
         "33299": "0",
         "33320": "0",
         "33360": "0",
         "33459": "0",
         "33583": "0",
         "33602": "0",
         "33625": "0",
         "33785": "0",
         "33846": "0",
         "33848": "0",
         "33909": "0",
         "34050": "0",
         "34071": "0",
         "_deepnote_index_column": "24,Season 3,Episode Drama (Drama-SERIES/EPISODES)"
        }
       ]
      },
      "text/html": [
       "<div>\n",
       "<style scoped>\n",
       "    .dataframe tbody tr th:only-of-type {\n",
       "        vertical-align: middle;\n",
       "    }\n",
       "\n",
       "    .dataframe tbody tr th {\n",
       "        vertical-align: top;\n",
       "    }\n",
       "\n",
       "    .dataframe thead th {\n",
       "        text-align: right;\n",
       "    }\n",
       "</style>\n",
       "<table border=\"1\" class=\"dataframe\">\n",
       "  <thead>\n",
       "    <tr style=\"text-align: right;\">\n",
       "      <th>user_id</th>\n",
       "      <th>10053</th>\n",
       "      <th>10154</th>\n",
       "      <th>10234</th>\n",
       "      <th>10257</th>\n",
       "      <th>10316</th>\n",
       "      <th>10335</th>\n",
       "      <th>1035</th>\n",
       "      <th>10438</th>\n",
       "      <th>10461</th>\n",
       "      <th>10522</th>\n",
       "      <th>...</th>\n",
       "      <th>938</th>\n",
       "      <th>9420</th>\n",
       "      <th>9481</th>\n",
       "      <th>9540</th>\n",
       "      <th>9559</th>\n",
       "      <th>9601</th>\n",
       "      <th>9683</th>\n",
       "      <th>9706</th>\n",
       "      <th>9784</th>\n",
       "      <th>9988</th>\n",
       "    </tr>\n",
       "    <tr>\n",
       "      <th>program_desc</th>\n",
       "      <th></th>\n",
       "      <th></th>\n",
       "      <th></th>\n",
       "      <th></th>\n",
       "      <th></th>\n",
       "      <th></th>\n",
       "      <th></th>\n",
       "      <th></th>\n",
       "      <th></th>\n",
       "      <th></th>\n",
       "      <th></th>\n",
       "      <th></th>\n",
       "      <th></th>\n",
       "      <th></th>\n",
       "      <th></th>\n",
       "      <th></th>\n",
       "      <th></th>\n",
       "      <th></th>\n",
       "      <th></th>\n",
       "      <th></th>\n",
       "      <th></th>\n",
       "    </tr>\n",
       "  </thead>\n",
       "  <tbody>\n",
       "    <tr>\n",
       "      <th>#FollowFriday (Thriller-MOVIE)</th>\n",
       "      <td>0</td>\n",
       "      <td>0</td>\n",
       "      <td>0</td>\n",
       "      <td>0</td>\n",
       "      <td>0</td>\n",
       "      <td>0</td>\n",
       "      <td>0</td>\n",
       "      <td>0</td>\n",
       "      <td>0</td>\n",
       "      <td>0</td>\n",
       "      <td>...</td>\n",
       "      <td>0</td>\n",
       "      <td>0</td>\n",
       "      <td>0</td>\n",
       "      <td>0</td>\n",
       "      <td>0</td>\n",
       "      <td>0</td>\n",
       "      <td>0</td>\n",
       "      <td>0</td>\n",
       "      <td>0</td>\n",
       "      <td>0</td>\n",
       "    </tr>\n",
       "    <tr>\n",
       "      <th>10 Days in a Madhouse (Thriller-MOVIE)</th>\n",
       "      <td>0</td>\n",
       "      <td>0</td>\n",
       "      <td>0</td>\n",
       "      <td>0</td>\n",
       "      <td>0</td>\n",
       "      <td>0</td>\n",
       "      <td>0</td>\n",
       "      <td>0</td>\n",
       "      <td>0</td>\n",
       "      <td>0</td>\n",
       "      <td>...</td>\n",
       "      <td>0</td>\n",
       "      <td>0</td>\n",
       "      <td>0</td>\n",
       "      <td>0</td>\n",
       "      <td>0</td>\n",
       "      <td>0</td>\n",
       "      <td>0</td>\n",
       "      <td>0</td>\n",
       "      <td>0</td>\n",
       "      <td>0</td>\n",
       "    </tr>\n",
       "    <tr>\n",
       "      <th>100 treets (Drama-MOVIE)</th>\n",
       "      <td>0</td>\n",
       "      <td>0</td>\n",
       "      <td>0</td>\n",
       "      <td>0</td>\n",
       "      <td>0</td>\n",
       "      <td>0</td>\n",
       "      <td>0</td>\n",
       "      <td>0</td>\n",
       "      <td>0</td>\n",
       "      <td>0</td>\n",
       "      <td>...</td>\n",
       "      <td>0</td>\n",
       "      <td>0</td>\n",
       "      <td>0</td>\n",
       "      <td>0</td>\n",
       "      <td>0</td>\n",
       "      <td>0</td>\n",
       "      <td>0</td>\n",
       "      <td>0</td>\n",
       "      <td>0</td>\n",
       "      <td>0</td>\n",
       "    </tr>\n",
       "    <tr>\n",
       "      <th>101 Dalmatians (Family-MOVIE)</th>\n",
       "      <td>0</td>\n",
       "      <td>0</td>\n",
       "      <td>0</td>\n",
       "      <td>0</td>\n",
       "      <td>0</td>\n",
       "      <td>0</td>\n",
       "      <td>0</td>\n",
       "      <td>0</td>\n",
       "      <td>0</td>\n",
       "      <td>0</td>\n",
       "      <td>...</td>\n",
       "      <td>0</td>\n",
       "      <td>0</td>\n",
       "      <td>0</td>\n",
       "      <td>0</td>\n",
       "      <td>0</td>\n",
       "      <td>0</td>\n",
       "      <td>0</td>\n",
       "      <td>0</td>\n",
       "      <td>0</td>\n",
       "      <td>0</td>\n",
       "    </tr>\n",
       "    <tr>\n",
       "      <th>2 Fil-Isaaf  (T),Season 4,Episode Comedy (Comedy-SERIES/EPISODES)</th>\n",
       "      <td>0</td>\n",
       "      <td>0</td>\n",
       "      <td>0</td>\n",
       "      <td>0</td>\n",
       "      <td>0</td>\n",
       "      <td>0</td>\n",
       "      <td>0</td>\n",
       "      <td>0</td>\n",
       "      <td>0</td>\n",
       "      <td>0</td>\n",
       "      <td>...</td>\n",
       "      <td>0</td>\n",
       "      <td>0</td>\n",
       "      <td>0</td>\n",
       "      <td>0</td>\n",
       "      <td>0</td>\n",
       "      <td>0</td>\n",
       "      <td>0</td>\n",
       "      <td>0</td>\n",
       "      <td>0</td>\n",
       "      <td>0</td>\n",
       "    </tr>\n",
       "    <tr>\n",
       "      <th>...</th>\n",
       "      <td>...</td>\n",
       "      <td>...</td>\n",
       "      <td>...</td>\n",
       "      <td>...</td>\n",
       "      <td>...</td>\n",
       "      <td>...</td>\n",
       "      <td>...</td>\n",
       "      <td>...</td>\n",
       "      <td>...</td>\n",
       "      <td>...</td>\n",
       "      <td>...</td>\n",
       "      <td>...</td>\n",
       "      <td>...</td>\n",
       "      <td>...</td>\n",
       "      <td>...</td>\n",
       "      <td>...</td>\n",
       "      <td>...</td>\n",
       "      <td>...</td>\n",
       "      <td>...</td>\n",
       "      <td>...</td>\n",
       "      <td>...</td>\n",
       "    </tr>\n",
       "    <tr>\n",
       "      <th>Zombieland (Comedy-MOVIE)</th>\n",
       "      <td>0</td>\n",
       "      <td>0</td>\n",
       "      <td>0</td>\n",
       "      <td>0</td>\n",
       "      <td>0</td>\n",
       "      <td>0</td>\n",
       "      <td>0</td>\n",
       "      <td>0</td>\n",
       "      <td>0</td>\n",
       "      <td>0</td>\n",
       "      <td>...</td>\n",
       "      <td>0</td>\n",
       "      <td>0</td>\n",
       "      <td>0</td>\n",
       "      <td>0</td>\n",
       "      <td>0</td>\n",
       "      <td>0</td>\n",
       "      <td>0</td>\n",
       "      <td>0</td>\n",
       "      <td>0</td>\n",
       "      <td>0</td>\n",
       "    </tr>\n",
       "    <tr>\n",
       "      <th>Zoo,Season 1,Episode Action (Action-SERIES/EPISODES)</th>\n",
       "      <td>0</td>\n",
       "      <td>0</td>\n",
       "      <td>0</td>\n",
       "      <td>0</td>\n",
       "      <td>0</td>\n",
       "      <td>0</td>\n",
       "      <td>0</td>\n",
       "      <td>0</td>\n",
       "      <td>0</td>\n",
       "      <td>0</td>\n",
       "      <td>...</td>\n",
       "      <td>0</td>\n",
       "      <td>0</td>\n",
       "      <td>0</td>\n",
       "      <td>0</td>\n",
       "      <td>0</td>\n",
       "      <td>0</td>\n",
       "      <td>0</td>\n",
       "      <td>0</td>\n",
       "      <td>0</td>\n",
       "      <td>0</td>\n",
       "    </tr>\n",
       "    <tr>\n",
       "      <th>Zoo,Season 3,Episode Action (Action-SERIES/EPISODES)</th>\n",
       "      <td>0</td>\n",
       "      <td>0</td>\n",
       "      <td>0</td>\n",
       "      <td>0</td>\n",
       "      <td>0</td>\n",
       "      <td>0</td>\n",
       "      <td>0</td>\n",
       "      <td>0</td>\n",
       "      <td>0</td>\n",
       "      <td>0</td>\n",
       "      <td>...</td>\n",
       "      <td>0</td>\n",
       "      <td>0</td>\n",
       "      <td>0</td>\n",
       "      <td>0</td>\n",
       "      <td>0</td>\n",
       "      <td>0</td>\n",
       "      <td>0</td>\n",
       "      <td>0</td>\n",
       "      <td>0</td>\n",
       "      <td>0</td>\n",
       "    </tr>\n",
       "    <tr>\n",
       "      <th>iCarly,Season 6,Episode Comedy (Comedy-SERIES/EPISODES)</th>\n",
       "      <td>0</td>\n",
       "      <td>0</td>\n",
       "      <td>0</td>\n",
       "      <td>0</td>\n",
       "      <td>0</td>\n",
       "      <td>0</td>\n",
       "      <td>0</td>\n",
       "      <td>0</td>\n",
       "      <td>0</td>\n",
       "      <td>0</td>\n",
       "      <td>...</td>\n",
       "      <td>0</td>\n",
       "      <td>0</td>\n",
       "      <td>0</td>\n",
       "      <td>0</td>\n",
       "      <td>0</td>\n",
       "      <td>0</td>\n",
       "      <td>0</td>\n",
       "      <td>0</td>\n",
       "      <td>0</td>\n",
       "      <td>0</td>\n",
       "    </tr>\n",
       "    <tr>\n",
       "      <th>xXx: Return of Xander Cage (Action-MOVIE)</th>\n",
       "      <td>0</td>\n",
       "      <td>0</td>\n",
       "      <td>0</td>\n",
       "      <td>0</td>\n",
       "      <td>0</td>\n",
       "      <td>0</td>\n",
       "      <td>0</td>\n",
       "      <td>0</td>\n",
       "      <td>0</td>\n",
       "      <td>0</td>\n",
       "      <td>...</td>\n",
       "      <td>0</td>\n",
       "      <td>0</td>\n",
       "      <td>0</td>\n",
       "      <td>0</td>\n",
       "      <td>0</td>\n",
       "      <td>0</td>\n",
       "      <td>0</td>\n",
       "      <td>0</td>\n",
       "      <td>0</td>\n",
       "      <td>0</td>\n",
       "    </tr>\n",
       "  </tbody>\n",
       "</table>\n",
       "<p>612 rows × 625 columns</p>\n",
       "</div>"
      ],
      "text/plain": [
       "user_id                                            10053 10154 10234 10257  \\\n",
       "program_desc                                                                 \n",
       "#FollowFriday (Thriller-MOVIE)                         0     0     0     0   \n",
       "10 Days in a Madhouse (Thriller-MOVIE)                 0     0     0     0   \n",
       "100 treets (Drama-MOVIE)                               0     0     0     0   \n",
       "101 Dalmatians (Family-MOVIE)                          0     0     0     0   \n",
       "2 Fil-Isaaf  (T),Season 4,Episode Comedy (Comed...     0     0     0     0   \n",
       "...                                                  ...   ...   ...   ...   \n",
       "Zombieland (Comedy-MOVIE)                              0     0     0     0   \n",
       "Zoo,Season 1,Episode Action (Action-SERIES/EPIS...     0     0     0     0   \n",
       "Zoo,Season 3,Episode Action (Action-SERIES/EPIS...     0     0     0     0   \n",
       "iCarly,Season 6,Episode Comedy (Comedy-SERIES/E...     0     0     0     0   \n",
       "xXx: Return of Xander Cage (Action-MOVIE)              0     0     0     0   \n",
       "\n",
       "user_id                                            10316 10335 1035 10438  \\\n",
       "program_desc                                                                \n",
       "#FollowFriday (Thriller-MOVIE)                         0     0    0     0   \n",
       "10 Days in a Madhouse (Thriller-MOVIE)                 0     0    0     0   \n",
       "100 treets (Drama-MOVIE)                               0     0    0     0   \n",
       "101 Dalmatians (Family-MOVIE)                          0     0    0     0   \n",
       "2 Fil-Isaaf  (T),Season 4,Episode Comedy (Comed...     0     0    0     0   \n",
       "...                                                  ...   ...  ...   ...   \n",
       "Zombieland (Comedy-MOVIE)                              0     0    0     0   \n",
       "Zoo,Season 1,Episode Action (Action-SERIES/EPIS...     0     0    0     0   \n",
       "Zoo,Season 3,Episode Action (Action-SERIES/EPIS...     0     0    0     0   \n",
       "iCarly,Season 6,Episode Comedy (Comedy-SERIES/E...     0     0    0     0   \n",
       "xXx: Return of Xander Cage (Action-MOVIE)              0     0    0     0   \n",
       "\n",
       "user_id                                            10461 10522  ... 938 9420  \\\n",
       "program_desc                                                    ...            \n",
       "#FollowFriday (Thriller-MOVIE)                         0     0  ...   0    0   \n",
       "10 Days in a Madhouse (Thriller-MOVIE)                 0     0  ...   0    0   \n",
       "100 treets (Drama-MOVIE)                               0     0  ...   0    0   \n",
       "101 Dalmatians (Family-MOVIE)                          0     0  ...   0    0   \n",
       "2 Fil-Isaaf  (T),Season 4,Episode Comedy (Comed...     0     0  ...   0    0   \n",
       "...                                                  ...   ...  ...  ..  ...   \n",
       "Zombieland (Comedy-MOVIE)                              0     0  ...   0    0   \n",
       "Zoo,Season 1,Episode Action (Action-SERIES/EPIS...     0     0  ...   0    0   \n",
       "Zoo,Season 3,Episode Action (Action-SERIES/EPIS...     0     0  ...   0    0   \n",
       "iCarly,Season 6,Episode Comedy (Comedy-SERIES/E...     0     0  ...   0    0   \n",
       "xXx: Return of Xander Cage (Action-MOVIE)              0     0  ...   0    0   \n",
       "\n",
       "user_id                                            9481 9540 9559 9601 9683  \\\n",
       "program_desc                                                                  \n",
       "#FollowFriday (Thriller-MOVIE)                        0    0    0    0    0   \n",
       "10 Days in a Madhouse (Thriller-MOVIE)                0    0    0    0    0   \n",
       "100 treets (Drama-MOVIE)                              0    0    0    0    0   \n",
       "101 Dalmatians (Family-MOVIE)                         0    0    0    0    0   \n",
       "2 Fil-Isaaf  (T),Season 4,Episode Comedy (Comed...    0    0    0    0    0   \n",
       "...                                                 ...  ...  ...  ...  ...   \n",
       "Zombieland (Comedy-MOVIE)                             0    0    0    0    0   \n",
       "Zoo,Season 1,Episode Action (Action-SERIES/EPIS...    0    0    0    0    0   \n",
       "Zoo,Season 3,Episode Action (Action-SERIES/EPIS...    0    0    0    0    0   \n",
       "iCarly,Season 6,Episode Comedy (Comedy-SERIES/E...    0    0    0    0    0   \n",
       "xXx: Return of Xander Cage (Action-MOVIE)             0    0    0    0    0   \n",
       "\n",
       "user_id                                            9706 9784 9988  \n",
       "program_desc                                                       \n",
       "#FollowFriday (Thriller-MOVIE)                        0    0    0  \n",
       "10 Days in a Madhouse (Thriller-MOVIE)                0    0    0  \n",
       "100 treets (Drama-MOVIE)                              0    0    0  \n",
       "101 Dalmatians (Family-MOVIE)                         0    0    0  \n",
       "2 Fil-Isaaf  (T),Season 4,Episode Comedy (Comed...    0    0    0  \n",
       "...                                                 ...  ...  ...  \n",
       "Zombieland (Comedy-MOVIE)                             0    0    0  \n",
       "Zoo,Season 1,Episode Action (Action-SERIES/EPIS...    0    0    0  \n",
       "Zoo,Season 3,Episode Action (Action-SERIES/EPIS...    0    0    0  \n",
       "iCarly,Season 6,Episode Comedy (Comedy-SERIES/E...    0    0    0  \n",
       "xXx: Return of Xander Cage (Action-MOVIE)             0    0    0  \n",
       "\n",
       "[612 rows x 625 columns]"
      ]
     },
     "execution_count": 19,
     "metadata": {},
     "output_type": "execute_result"
    }
   ],
   "source": [
    "# creating a Pivot matrix in which all the features will be user id and rows will be movies\n",
    "\n",
    "#eif user doesn't rated any movie it will be assigned NAN value so we will replace that with 0\n",
    "## First lets create a Pivot matrix\n",
    "#,\n",
    "movie_features_df=cleaned_df.pivot_table(index='program_desc',columns='user_id',values='rating',aggfunc='first').fillna(0)\n",
    "movie_features_df"
   ]
  },
  {
   "cell_type": "code",
   "execution_count": 20,
   "id": "87a4c526",
   "metadata": {
    "cell_id": "00018-ab224a9e-8137-4be1-8448-85f908843a3b",
    "deepnote_cell_height": 262.1875,
    "deepnote_cell_type": "code",
    "deepnote_output_heights": [
     21.1875
    ],
    "deepnote_to_be_reexecuted": false,
    "execution_millis": 632,
    "execution_start": 1651773342187,
    "source_hash": "68088e12"
   },
   "outputs": [
    {
     "data": {
      "text/plain": [
       "NearestNeighbors(algorithm='brute', metric='cosine')"
      ]
     },
     "execution_count": 20,
     "metadata": {},
     "output_type": "execute_result"
    }
   ],
   "source": [
    "#converting pivot matrixs into array matrix using scipy.sparse library\n",
    "from scipy.sparse import csr_matrix\n",
    "\n",
    "movie_features_df_matrix = csr_matrix(movie_features_df.astype(float))\n",
    "\n",
    "from sklearn.neighbors import NearestNeighbors\n",
    "#by training unsupervised KNN, we will calculate the cosine similarity between recommendations\n",
    "model_knn = NearestNeighbors(metric = 'cosine', algorithm = 'brute')\n",
    "model_knn.fit(movie_features_df_matrix)"
   ]
  },
  {
   "cell_type": "code",
   "execution_count": 23,
   "id": "271dcfc8",
   "metadata": {
    "cell_id": "00019-b419b1f6-3b8c-40bc-9f02-be07e30d534b",
    "deepnote_cell_height": 891,
    "deepnote_cell_type": "code",
    "deepnote_to_be_reexecuted": false,
    "execution_millis": 0,
    "execution_start": 1651773354137,
    "source_hash": "d06ac3b1"
   },
   "outputs": [],
   "source": [
    "def content_based_filtering(movie_name,df):\n",
    "    #preprocessing import columns\n",
    "    try:\n",
    "        #processing dataframe\n",
    "    \n",
    "        # Delete duplicate rows based on specific columns \n",
    "        df = df.drop_duplicates(subset=[\"overview\"], keep=False)\n",
    "        \n",
    "        #reseting index\n",
    "        df.reset_index(drop=True, inplace=True)\n",
    "        df['index'] = df.reset_index().index\n",
    "        \n",
    "        #selecting important_features\n",
    "        selected_features=['program_class','overview','program_genre','original_name']\n",
    "        for feature in selected_features:\n",
    "            df[feature]=df[feature].fillna('')\n",
    "\n",
    "                #combining all features\n",
    "        combined_features= df['program_genre']+' '+df['overview']+' '+df['program_class']+' '+df['original_name']\n",
    "\n",
    "                #converting the combined features into numeric values\n",
    "        vectorizer=TfidfVectorizer()\n",
    "        feature_vectors=vectorizer.fit_transform(combined_features)\n",
    "\n",
    "                #Cosine Similarity\n",
    "        similarity=cosine_similarity(feature_vectors)\n",
    "\n",
    "        index_of_the_movie=process.extractOne(movie_name,df['overview'])[2]\n",
    "\n",
    "        #getting list of similar movies\n",
    "        similarity_score=list(enumerate(similarity[index_of_the_movie]))\n",
    "\n",
    "        sorted_similar_movies=sorted(similarity_score,key=lambda x:x[1],reverse=True)\n",
    "\n",
    "        print(\"Recommended movies for {}\".format(movie_name))\n",
    "        i=0\n",
    "        for movie in sorted_similar_movies:\n",
    "            index=movie[0]\n",
    "            title_from_index=df[df.index==index]['overview'].values[0]\n",
    "            if i<6:\n",
    "                print(i,' ',title_from_index)\n",
    "                i+=1\n",
    "            else:\n",
    "                break\n",
    "    except:\n",
    "        print('Movie not Found')"
   ]
  },
  {
   "cell_type": "code",
   "execution_count": 24,
   "id": "262c71b1",
   "metadata": {
    "cell_id": "00020-98cf4244-ef7c-4cb0-90b8-8840a869385f",
    "deepnote_cell_height": 279,
    "deepnote_cell_type": "code",
    "deepnote_to_be_reexecuted": false,
    "execution_millis": 6,
    "execution_start": 1651773362266,
    "source_hash": "83031329"
   },
   "outputs": [],
   "source": [
    "def search_movies(movie_name,data,df):\n",
    "    try:\n",
    "        query_index=process.extractOne(movie_name,cleaned_df['program_desc'])[2]\n",
    "        distances, indices = model_knn.kneighbors(data[query_index], n_neighbors = 7)\n",
    "        print(\"Recommendation for movie {}\".format(movie_name))\n",
    "        for i in range(0, len(distances.flatten())):\n",
    "            #printing other movies that have more similarity to it\n",
    "            print(                 '{0}: {1}, with distance of {2}:'.format(i,movie_features_df.index[indices.flatten()[i]], distances.flatten()[i]))\n",
    "    except:\n",
    "        content_based_filtering(movie_name,df)\n",
    "        \n",
    "    "
   ]
  },
  {
   "cell_type": "code",
   "execution_count": 30,
   "id": "05e1155e",
   "metadata": {
    "cell_id": "00021-42e4a92b-c02e-49db-b55a-5cc98f0a2162",
    "deepnote_cell_height": 319,
    "deepnote_cell_type": "code",
    "deepnote_to_be_reexecuted": false,
    "execution_millis": 5666,
    "execution_start": 1651773422148,
    "owner_user_id": "a36f74af-40a8-4cb6-a865-1246fd480454",
    "scrolled": false,
    "source_hash": "8f4dffd1"
   },
   "outputs": [
    {
     "name": "stdout",
     "output_type": "stream",
     "text": [
      "Recommendation for movie Horro\n",
      "0: Teenage Mutant Ninja Turtles,Season 14,Episode Animation (Animation-SERIES/EPISODES), with distance of 0.0:\n",
      "1: Dora the Explorer,Season 2,Episode Animation (Animation-SERIES/EPISODES), with distance of 0.0:\n",
      "2: Sonic Underground,Season 23,Episode Animation (Animation-SERIES/EPISODES), with distance of 0.0:\n",
      "3: Sicario (Action-MOVIE), with distance of 1.0:\n",
      "4: Shrek (Animation-MOVIE), with distance of 1.0:\n",
      "5: Six,Season 0 (Action-SERIES/EPISODES), with distance of 1.0:\n",
      "6: Sleight (Action-MOVIE), with distance of 1.0:\n"
     ]
    }
   ],
   "source": [
    "movie_name=input(\"Search movie: \")\n",
    "search_movies(movie_name,movie_features_df_matrix,df)"
   ]
  },
  {
   "cell_type": "code",
   "execution_count": null,
   "id": "db201391",
   "metadata": {
    "cell_id": "00022-db5aa7d1-9231-42d9-9063-c9ebf037390e",
    "deepnote_cell_height": 66,
    "deepnote_cell_type": "code"
   },
   "outputs": [],
   "source": []
  },
  {
   "cell_type": "code",
   "execution_count": null,
   "id": "1eacafb5",
   "metadata": {
    "cell_id": "00023-fe9187bd-6f6f-4116-8402-1fdfc306a05b",
    "deepnote_cell_height": 66,
    "deepnote_cell_type": "code"
   },
   "outputs": [],
   "source": []
  },
  {
   "cell_type": "code",
   "execution_count": null,
   "id": "6490b185",
   "metadata": {
    "cell_id": "00024-16273812-325b-44bd-a802-10caadac41e9",
    "deepnote_cell_height": 66,
    "deepnote_cell_type": "code"
   },
   "outputs": [],
   "source": []
  },
  {
   "cell_type": "markdown",
   "id": "313e0ebb",
   "metadata": {
    "created_in_deepnote_cell": true,
    "deepnote_cell_type": "markdown",
    "tags": []
   },
   "source": [
    "<a style='text-decoration:none;line-height:16px;display:flex;color:#5B5B62;padding:10px;justify-content:end;' href='https://deepnote.com?utm_source=created-in-deepnote-cell&projectId=9191ad2a-ea97-4654-a2ba-f4ecb97808a0' target=\"_blank\">\n",
    "<img alt='Created in deepnote.com' style='display:inline;max-height:16px;margin:0px;margin-right:7.5px;' src='data:image/svg+xml;base64,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' > </img>\n",
    "Created in <span style='font-weight:600;margin-left:4px;'>Deepnote</span></a>"
   ]
  }
 ],
 "metadata": {
  "deepnote": {},
  "deepnote_execution_queue": [],
  "deepnote_notebook_id": "ede7871d-baaa-4ed7-9276-e375b218e816",
  "kernelspec": {
   "display_name": "Python 3 (ipykernel)",
   "language": "python",
   "name": "python3"
  },
  "language_info": {
   "codemirror_mode": {
    "name": "ipython",
    "version": 3
   },
   "file_extension": ".py",
   "mimetype": "text/x-python",
   "name": "python",
   "nbconvert_exporter": "python",
   "pygments_lexer": "ipython3",
   "version": "3.9.13"
  }
 },
 "nbformat": 4,
 "nbformat_minor": 5
}
